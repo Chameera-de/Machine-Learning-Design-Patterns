{
 "cells": [
  {
   "cell_type": "markdown",
   "metadata": {},
   "source": [
    "## Bridging Schema\n",
    "\n",
    "This notebook demonstrates the Bridging Schema design pattern\n"
   ]
  },
  {
   "cell_type": "markdown",
   "metadata": {},
   "source": [
    "### Create dataset\n",
    "\n",
    "Let's create a dataset by simulating the scenario described in the book"
   ]
  },
  {
   "cell_type": "code",
   "execution_count": 1,
   "metadata": {},
   "outputs": [],
   "source": [
    "import pandas as pd\n",
    "import numpy as np\n",
    "import seaborn as sns\n",
    "sns.set(rc={'figure.figsize':(10, 10)})\n",
    "\n",
    "def set_payment_type(prob):\n",
    "    # 30% of transactions are cash\n",
    "    if prob < 0.3:\n",
    "        return 'Cash'\n",
    "\n",
    "    # stretch the remaining 0.3-1.0 to 0-1\n",
    "    prob = (prob-0.3)/0.7\n",
    "    if prob < 0.1:\n",
    "        return 'Gift'\n",
    "    if prob < 0.4:\n",
    "        return 'Debit'\n",
    "    return 'Credit'\n",
    "\n",
    "def create_dataset(N, is_old_format):\n",
    "    order_amount = 5 + np.abs(np.random.normal(scale=10, size=N)) # 5+, peaks at 15\n",
    "    order_distance = 1 + np.random.rand(N)*4  # 1-5\n",
    "    payment_type = np.random.rand(N)\n",
    "    \n",
    "    df = pd.DataFrame.from_dict({\n",
    "        'order_amount' : np.round(order_amount, 2),\n",
    "        'order_distance': np.round(order_distance, 1),\n",
    "        'payment_type': np.vectorize(set_payment_type)(payment_type),\n",
    "        'tip': np.zeros_like(order_amount)\n",
    "    })\n",
    "    \n",
    "    df.loc[df['payment_type'] == 'Cash', 'tip'] = 0.2\n",
    "    df.loc[df['payment_type'] == 'Gift', 'tip'] = 0.1\n",
    "    df.loc[df['payment_type'] == 'Debit',  'tip'] = 0.15\n",
    "    df.loc[df['payment_type'] == 'Credit', 'tip'] = 0.25\n",
    "    \n",
    "    df['tip'] = np.round(df['tip'] * df['order_amount'] + 0.5*df['order_distance'], 1)\n",
    "    \n",
    "    if is_old_format:\n",
    "        df.loc[df['payment_type'] != 'Cash', 'payment_type'] = 'Card'\n",
    "    \n",
    "    return df"
   ]
  },
  {
   "cell_type": "code",
   "execution_count": 2,
   "metadata": {},
   "outputs": [
    {
     "data": {
      "text/html": [
       "<div>\n",
       "<style scoped>\n",
       "    .dataframe tbody tr th:only-of-type {\n",
       "        vertical-align: middle;\n",
       "    }\n",
       "\n",
       "    .dataframe tbody tr th {\n",
       "        vertical-align: top;\n",
       "    }\n",
       "\n",
       "    .dataframe thead th {\n",
       "        text-align: right;\n",
       "    }\n",
       "</style>\n",
       "<table border=\"1\" class=\"dataframe\">\n",
       "  <thead>\n",
       "    <tr style=\"text-align: right;\">\n",
       "      <th></th>\n",
       "      <th>order_amount</th>\n",
       "      <th>order_distance</th>\n",
       "      <th>payment_type</th>\n",
       "      <th>tip</th>\n",
       "    </tr>\n",
       "  </thead>\n",
       "  <tbody>\n",
       "    <tr>\n",
       "      <th>0</th>\n",
       "      <td>19.01</td>\n",
       "      <td>3.4</td>\n",
       "      <td>Debit</td>\n",
       "      <td>4.6</td>\n",
       "    </tr>\n",
       "    <tr>\n",
       "      <th>1</th>\n",
       "      <td>9.09</td>\n",
       "      <td>1.8</td>\n",
       "      <td>Cash</td>\n",
       "      <td>2.7</td>\n",
       "    </tr>\n",
       "    <tr>\n",
       "      <th>2</th>\n",
       "      <td>11.85</td>\n",
       "      <td>1.1</td>\n",
       "      <td>Credit</td>\n",
       "      <td>3.5</td>\n",
       "    </tr>\n",
       "    <tr>\n",
       "      <th>3</th>\n",
       "      <td>17.03</td>\n",
       "      <td>3.0</td>\n",
       "      <td>Credit</td>\n",
       "      <td>5.8</td>\n",
       "    </tr>\n",
       "    <tr>\n",
       "      <th>4</th>\n",
       "      <td>17.87</td>\n",
       "      <td>3.2</td>\n",
       "      <td>Gift</td>\n",
       "      <td>3.4</td>\n",
       "    </tr>\n",
       "  </tbody>\n",
       "</table>\n",
       "</div>"
      ],
      "text/plain": [
       "   order_amount  order_distance payment_type  tip\n",
       "0         19.01             3.4        Debit  4.6\n",
       "1          9.09             1.8         Cash  2.7\n",
       "2         11.85             1.1       Credit  3.5\n",
       "3         17.03             3.0       Credit  5.8\n",
       "4         17.87             3.2         Gift  3.4"
      ]
     },
     "execution_count": 2,
     "metadata": {},
     "output_type": "execute_result"
    }
   ],
   "source": [
    "df = create_dataset(5, False)\n",
    "df"
   ]
  },
  {
   "cell_type": "code",
   "execution_count": 3,
   "metadata": {},
   "outputs": [
    {
     "data": {
      "text/html": [
       "<div>\n",
       "<style scoped>\n",
       "    .dataframe tbody tr th:only-of-type {\n",
       "        vertical-align: middle;\n",
       "    }\n",
       "\n",
       "    .dataframe tbody tr th {\n",
       "        vertical-align: top;\n",
       "    }\n",
       "\n",
       "    .dataframe thead th {\n",
       "        text-align: right;\n",
       "    }\n",
       "</style>\n",
       "<table border=\"1\" class=\"dataframe\">\n",
       "  <thead>\n",
       "    <tr style=\"text-align: right;\">\n",
       "      <th></th>\n",
       "      <th>order_amount</th>\n",
       "      <th>order_distance</th>\n",
       "      <th>payment_type</th>\n",
       "      <th>tip</th>\n",
       "    </tr>\n",
       "  </thead>\n",
       "  <tbody>\n",
       "    <tr>\n",
       "      <th>0</th>\n",
       "      <td>17.38</td>\n",
       "      <td>3.7</td>\n",
       "      <td>Cash</td>\n",
       "      <td>5.3</td>\n",
       "    </tr>\n",
       "    <tr>\n",
       "      <th>1</th>\n",
       "      <td>28.28</td>\n",
       "      <td>3.0</td>\n",
       "      <td>Card</td>\n",
       "      <td>5.7</td>\n",
       "    </tr>\n",
       "    <tr>\n",
       "      <th>2</th>\n",
       "      <td>22.40</td>\n",
       "      <td>3.8</td>\n",
       "      <td>Card</td>\n",
       "      <td>7.5</td>\n",
       "    </tr>\n",
       "    <tr>\n",
       "      <th>3</th>\n",
       "      <td>18.58</td>\n",
       "      <td>1.6</td>\n",
       "      <td>Card</td>\n",
       "      <td>5.4</td>\n",
       "    </tr>\n",
       "    <tr>\n",
       "      <th>4</th>\n",
       "      <td>7.65</td>\n",
       "      <td>4.1</td>\n",
       "      <td>Cash</td>\n",
       "      <td>3.6</td>\n",
       "    </tr>\n",
       "  </tbody>\n",
       "</table>\n",
       "</div>"
      ],
      "text/plain": [
       "   order_amount  order_distance payment_type  tip\n",
       "0         17.38             3.7         Cash  5.3\n",
       "1         28.28             3.0         Card  5.7\n",
       "2         22.40             3.8         Card  7.5\n",
       "3         18.58             1.6         Card  5.4\n",
       "4          7.65             4.1         Cash  3.6"
      ]
     },
     "execution_count": 3,
     "metadata": {},
     "output_type": "execute_result"
    }
   ],
   "source": [
    "df = create_dataset(5, True)\n",
    "df"
   ]
  },
  {
   "cell_type": "markdown",
   "metadata": {},
   "source": [
    "## Bridging\n",
    "\n",
    "Create dataset of 5000 new transactions and 1 million old transactions"
   ]
  },
  {
   "cell_type": "code",
   "execution_count": 20,
   "metadata": {},
   "outputs": [],
   "source": [
    "df_new = create_dataset(5000, False)\n",
    "df_old = create_dataset(1000*1000, True)"
   ]
  },
  {
   "cell_type": "markdown",
   "metadata": {},
   "source": [
    "### How many samples do we need to evaluate properly?\n",
    "\n",
    "Train a model on the old dataset and evaluate it on different subsets"
   ]
  },
  {
   "cell_type": "code",
   "execution_count": 5,
   "metadata": {},
   "outputs": [],
   "source": [
    "N_train = (int) (len(df_old) * 0.5)\n",
    "N_eval = len(df_old) - N_train"
   ]
  },
  {
   "cell_type": "code",
   "execution_count": 6,
   "metadata": {},
   "outputs": [
    {
     "data": {
      "text/plain": [
       "LinearRegression(copy_X=True, fit_intercept=True, n_jobs=None, normalize=False)"
      ]
     },
     "execution_count": 6,
     "metadata": {},
     "output_type": "execute_result"
    }
   ],
   "source": [
    "from sklearn.linear_model import LinearRegression\n",
    "from sklearn.preprocessing import OneHotEncoder\n",
    "\n",
    "model = LinearRegression()\n",
    "enc = OneHotEncoder(handle_unknown='ignore')\n",
    "df_train = enc.fit_transform( df_old.loc[:N_train, df.columns != 'tip'] )\n",
    "model.fit(df_train, df_old.loc[:N_train, 'tip'])"
   ]
  },
  {
   "cell_type": "code",
   "execution_count": 7,
   "metadata": {},
   "outputs": [
    {
     "data": {
      "text/plain": [
       "0.7907516966527095"
      ]
     },
     "execution_count": 7,
     "metadata": {},
     "output_type": "execute_result"
    }
   ],
   "source": [
    "df_eval = enc.transform( df_old.loc[N_train:, df.columns != 'tip'] )\n",
    "model.score(df_eval, df_old.loc[N_train:, 'tip'])"
   ]
  },
  {
   "cell_type": "code",
   "execution_count": 8,
   "metadata": {},
   "outputs": [
    {
     "data": {
      "image/png": "[encoded data removed]",
      "text/plain": [
       "<Figure size 720x720 with 1 Axes>"
      ]
     },
     "metadata": {},
     "output_type": "display_data"
    }
   ],
   "source": [
    "sizes = []\n",
    "score_mean = []\n",
    "score_stddev = []\n",
    "for subset_size in range(100, 5000, 100): # 5000 here because that is the number of new examples we have\n",
    "    sizes.append(subset_size)\n",
    "    # compute variability of the eval metric at this subset size\n",
    "    scores = []\n",
    "    for x in range(1, 25):\n",
    "        indices = np.random.choice(N_eval, size=subset_size, replace=False)\n",
    "        scores.append(\n",
    "            model.score(df_eval[indices], df_old.loc[N_train+indices, 'tip'])\n",
    "        )\n",
    "    score_mean.append(np.mean(scores))\n",
    "    score_stddev.append(np.std(scores))\n",
    "scores = pd.DataFrame.from_dict({\n",
    "    'eval_size': sizes,\n",
    "    'score': score_mean,\n",
    "    'stddev': score_stddev\n",
    "})\n",
    "scores.plot(x='eval_size', y='stddev', linewidth=2);"
   ]
  },
  {
   "cell_type": "markdown",
   "metadata": {},
   "source": [
    "Looking at this, it is clear that (on this problem) 3500 eval samples would be ideal, but 2000 is tolerable.\n",
    "\n",
    "So, let's keep 2000 new examples aside for evaluation.\n",
    "\n",
    "Take 3000 new examples for training"
   ]
  },
  {
   "cell_type": "code",
   "execution_count": 28,
   "metadata": {},
   "outputs": [],
   "source": [
    "N_NEW = 2000"
   ]
  },
  {
   "cell_type": "markdown",
   "metadata": {},
   "source": [
    "### Bridging schema using static approach\n",
    "\n",
    "Estimate the probability of the different card types from the new data to find how to encode the "
   ]
  },
  {
   "cell_type": "code",
   "execution_count": 10,
   "metadata": {},
   "outputs": [
    {
     "data": {
      "text/html": [
       "<div>\n",
       "<style scoped>\n",
       "    .dataframe tbody tr th:only-of-type {\n",
       "        vertical-align: middle;\n",
       "    }\n",
       "\n",
       "    .dataframe tbody tr th {\n",
       "        vertical-align: top;\n",
       "    }\n",
       "\n",
       "    .dataframe thead th {\n",
       "        text-align: right;\n",
       "    }\n",
       "</style>\n",
       "<table border=\"1\" class=\"dataframe\">\n",
       "  <thead>\n",
       "    <tr style=\"text-align: right;\">\n",
       "      <th></th>\n",
       "      <th>order_amount</th>\n",
       "      <th>order_distance</th>\n",
       "      <th>tip</th>\n",
       "    </tr>\n",
       "    <tr>\n",
       "      <th>payment_type</th>\n",
       "      <th></th>\n",
       "      <th></th>\n",
       "      <th></th>\n",
       "    </tr>\n",
       "  </thead>\n",
       "  <tbody>\n",
       "    <tr>\n",
       "      <th>Cash</th>\n",
       "      <td>936</td>\n",
       "      <td>936</td>\n",
       "      <td>936</td>\n",
       "    </tr>\n",
       "    <tr>\n",
       "      <th>Credit</th>\n",
       "      <td>1280</td>\n",
       "      <td>1280</td>\n",
       "      <td>1280</td>\n",
       "    </tr>\n",
       "    <tr>\n",
       "      <th>Debit</th>\n",
       "      <td>602</td>\n",
       "      <td>602</td>\n",
       "      <td>602</td>\n",
       "    </tr>\n",
       "    <tr>\n",
       "      <th>Gift</th>\n",
       "      <td>182</td>\n",
       "      <td>182</td>\n",
       "      <td>182</td>\n",
       "    </tr>\n",
       "  </tbody>\n",
       "</table>\n",
       "</div>"
      ],
      "text/plain": [
       "              order_amount  order_distance   tip\n",
       "payment_type                                    \n",
       "Cash                   936             936   936\n",
       "Credit                1280            1280  1280\n",
       "Debit                  602             602   602\n",
       "Gift                   182             182   182"
      ]
     },
     "execution_count": 10,
     "metadata": {},
     "output_type": "execute_result"
    }
   ],
   "source": [
    "df_train_new = df_new.loc[N_NEW:, :]\n",
    "counts = df_train_new.groupby('payment_type').count()\n",
    "counts"
   ]
  },
  {
   "cell_type": "code",
   "execution_count": 12,
   "metadata": {},
   "outputs": [
    {
     "name": "stdout",
     "output_type": "stream",
     "text": [
      "[0, 0.08817829457364341, 0.2916666666666667, 0.6201550387596899]\n"
     ]
    }
   ],
   "source": [
    "num_credit = counts.loc['Credit', 'tip']\n",
    "num_debit = counts.loc['Debit', 'tip']\n",
    "num_gift = counts.loc['Gift', 'tip']\n",
    "num_total = num_gift + num_debit + num_credit\n",
    "imputed_value = [\n",
    "    0,\n",
    "    num_gift / num_total,\n",
    "    num_debit / num_total,\n",
    "    num_credit / num_total\n",
    "]\n",
    "print(imputed_value)"
   ]
  },
  {
   "cell_type": "code",
   "execution_count": 21,
   "metadata": {},
   "outputs": [
    {
     "data": {
      "text/html": [
       "<div>\n",
       "<style scoped>\n",
       "    .dataframe tbody tr th:only-of-type {\n",
       "        vertical-align: middle;\n",
       "    }\n",
       "\n",
       "    .dataframe tbody tr th {\n",
       "        vertical-align: top;\n",
       "    }\n",
       "\n",
       "    .dataframe thead th {\n",
       "        text-align: right;\n",
       "    }\n",
       "</style>\n",
       "<table border=\"1\" class=\"dataframe\">\n",
       "  <thead>\n",
       "    <tr style=\"text-align: right;\">\n",
       "      <th></th>\n",
       "      <th>order_amount</th>\n",
       "      <th>order_distance</th>\n",
       "      <th>tip</th>\n",
       "      <th>encoded_cash</th>\n",
       "      <th>encoded_gift</th>\n",
       "      <th>encoded_debit</th>\n",
       "      <th>encoded_credit</th>\n",
       "    </tr>\n",
       "  </thead>\n",
       "  <tbody>\n",
       "    <tr>\n",
       "      <th>0</th>\n",
       "      <td>7.28</td>\n",
       "      <td>3.8</td>\n",
       "      <td>3.4</td>\n",
       "      <td>1</td>\n",
       "      <td>0.000000</td>\n",
       "      <td>0.000000</td>\n",
       "      <td>0.000000</td>\n",
       "    </tr>\n",
       "    <tr>\n",
       "      <th>1</th>\n",
       "      <td>11.34</td>\n",
       "      <td>2.1</td>\n",
       "      <td>3.3</td>\n",
       "      <td>1</td>\n",
       "      <td>0.000000</td>\n",
       "      <td>0.000000</td>\n",
       "      <td>0.000000</td>\n",
       "    </tr>\n",
       "    <tr>\n",
       "      <th>2</th>\n",
       "      <td>16.20</td>\n",
       "      <td>2.0</td>\n",
       "      <td>5.0</td>\n",
       "      <td>0</td>\n",
       "      <td>0.088178</td>\n",
       "      <td>0.291667</td>\n",
       "      <td>0.620155</td>\n",
       "    </tr>\n",
       "    <tr>\n",
       "      <th>3</th>\n",
       "      <td>17.87</td>\n",
       "      <td>1.3</td>\n",
       "      <td>3.3</td>\n",
       "      <td>0</td>\n",
       "      <td>0.088178</td>\n",
       "      <td>0.291667</td>\n",
       "      <td>0.620155</td>\n",
       "    </tr>\n",
       "    <tr>\n",
       "      <th>4</th>\n",
       "      <td>12.61</td>\n",
       "      <td>2.0</td>\n",
       "      <td>2.9</td>\n",
       "      <td>0</td>\n",
       "      <td>0.088178</td>\n",
       "      <td>0.291667</td>\n",
       "      <td>0.620155</td>\n",
       "    </tr>\n",
       "    <tr>\n",
       "      <th>5</th>\n",
       "      <td>9.42</td>\n",
       "      <td>1.7</td>\n",
       "      <td>2.7</td>\n",
       "      <td>1</td>\n",
       "      <td>0.000000</td>\n",
       "      <td>0.000000</td>\n",
       "      <td>0.000000</td>\n",
       "    </tr>\n",
       "    <tr>\n",
       "      <th>6</th>\n",
       "      <td>15.52</td>\n",
       "      <td>4.4</td>\n",
       "      <td>5.3</td>\n",
       "      <td>1</td>\n",
       "      <td>0.000000</td>\n",
       "      <td>0.000000</td>\n",
       "      <td>0.000000</td>\n",
       "    </tr>\n",
       "    <tr>\n",
       "      <th>7</th>\n",
       "      <td>5.45</td>\n",
       "      <td>3.4</td>\n",
       "      <td>2.5</td>\n",
       "      <td>0</td>\n",
       "      <td>0.088178</td>\n",
       "      <td>0.291667</td>\n",
       "      <td>0.620155</td>\n",
       "    </tr>\n",
       "    <tr>\n",
       "      <th>8</th>\n",
       "      <td>16.47</td>\n",
       "      <td>3.9</td>\n",
       "      <td>4.4</td>\n",
       "      <td>0</td>\n",
       "      <td>0.088178</td>\n",
       "      <td>0.291667</td>\n",
       "      <td>0.620155</td>\n",
       "    </tr>\n",
       "    <tr>\n",
       "      <th>9</th>\n",
       "      <td>16.15</td>\n",
       "      <td>4.5</td>\n",
       "      <td>4.7</td>\n",
       "      <td>0</td>\n",
       "      <td>0.088178</td>\n",
       "      <td>0.291667</td>\n",
       "      <td>0.620155</td>\n",
       "    </tr>\n",
       "  </tbody>\n",
       "</table>\n",
       "</div>"
      ],
      "text/plain": [
       "   order_amount  order_distance  tip  encoded_cash  encoded_gift  \\\n",
       "0          7.28             3.8  3.4             1      0.000000   \n",
       "1         11.34             2.1  3.3             1      0.000000   \n",
       "2         16.20             2.0  5.0             0      0.088178   \n",
       "3         17.87             1.3  3.3             0      0.088178   \n",
       "4         12.61             2.0  2.9             0      0.088178   \n",
       "5          9.42             1.7  2.7             1      0.000000   \n",
       "6         15.52             4.4  5.3             1      0.000000   \n",
       "7          5.45             3.4  2.5             0      0.088178   \n",
       "8         16.47             3.9  4.4             0      0.088178   \n",
       "9         16.15             4.5  4.7             0      0.088178   \n",
       "\n",
       "   encoded_debit  encoded_credit  \n",
       "0       0.000000        0.000000  \n",
       "1       0.000000        0.000000  \n",
       "2       0.291667        0.620155  \n",
       "3       0.291667        0.620155  \n",
       "4       0.291667        0.620155  \n",
       "5       0.000000        0.000000  \n",
       "6       0.000000        0.000000  \n",
       "7       0.291667        0.620155  \n",
       "8       0.291667        0.620155  \n",
       "9       0.291667        0.620155  "
      ]
     },
     "execution_count": 21,
     "metadata": {},
     "output_type": "execute_result"
    }
   ],
   "source": [
    "bridged_old = df_old.copy()\n",
    "bridged_old['encoded_cash'] = 1  # default to cash\n",
    "bridged_old['encoded_gift'] = 0  # default to cash\n",
    "bridged_old['encoded_debit'] = 0  # default to cash\n",
    "bridged_old['encoded_credit'] = 0  # default to cash\n",
    "bridged_old.loc[bridged_old['payment_type'] == 'Card', 'encoded_cash'] = imputed_value[0]\n",
    "bridged_old.loc[bridged_old['payment_type'] == 'Card', 'encoded_gift'] = imputed_value[1]\n",
    "bridged_old.loc[bridged_old['payment_type'] == 'Card', 'encoded_debit'] = imputed_value[2]\n",
    "bridged_old.loc[bridged_old['payment_type'] == 'Card', 'encoded_credit'] = imputed_value[3]\n",
    "bridged_old.drop(columns='payment_type', inplace=True)\n",
    "bridged_old[:10]"
   ]
  },
  {
   "cell_type": "markdown",
   "metadata": {},
   "source": [
    "### Prepare new data\n",
    "\n",
    "Because we explicitly encoded the fields for the bridged data, let's make sure to repeat this for the new data also."
   ]
  },
  {
   "cell_type": "code",
   "execution_count": 22,
   "metadata": {},
   "outputs": [
    {
     "data": {
      "text/html": [
       "<div>\n",
       "<style scoped>\n",
       "    .dataframe tbody tr th:only-of-type {\n",
       "        vertical-align: middle;\n",
       "    }\n",
       "\n",
       "    .dataframe tbody tr th {\n",
       "        vertical-align: top;\n",
       "    }\n",
       "\n",
       "    .dataframe thead th {\n",
       "        text-align: right;\n",
       "    }\n",
       "</style>\n",
       "<table border=\"1\" class=\"dataframe\">\n",
       "  <thead>\n",
       "    <tr style=\"text-align: right;\">\n",
       "      <th></th>\n",
       "      <th>order_amount</th>\n",
       "      <th>order_distance</th>\n",
       "      <th>tip</th>\n",
       "      <th>encoded_cash</th>\n",
       "      <th>encoded_gift</th>\n",
       "      <th>encoded_debit</th>\n",
       "      <th>encoded_credit</th>\n",
       "    </tr>\n",
       "  </thead>\n",
       "  <tbody>\n",
       "    <tr>\n",
       "      <th>0</th>\n",
       "      <td>11.11</td>\n",
       "      <td>4.0</td>\n",
       "      <td>4.8</td>\n",
       "      <td>0</td>\n",
       "      <td>0</td>\n",
       "      <td>0</td>\n",
       "      <td>1</td>\n",
       "    </tr>\n",
       "    <tr>\n",
       "      <th>1</th>\n",
       "      <td>7.95</td>\n",
       "      <td>2.1</td>\n",
       "      <td>1.8</td>\n",
       "      <td>0</td>\n",
       "      <td>1</td>\n",
       "      <td>0</td>\n",
       "      <td>0</td>\n",
       "    </tr>\n",
       "    <tr>\n",
       "      <th>2</th>\n",
       "      <td>6.90</td>\n",
       "      <td>1.6</td>\n",
       "      <td>2.2</td>\n",
       "      <td>1</td>\n",
       "      <td>0</td>\n",
       "      <td>0</td>\n",
       "      <td>0</td>\n",
       "    </tr>\n",
       "    <tr>\n",
       "      <th>3</th>\n",
       "      <td>11.38</td>\n",
       "      <td>3.5</td>\n",
       "      <td>3.5</td>\n",
       "      <td>0</td>\n",
       "      <td>0</td>\n",
       "      <td>1</td>\n",
       "      <td>0</td>\n",
       "    </tr>\n",
       "    <tr>\n",
       "      <th>4</th>\n",
       "      <td>19.20</td>\n",
       "      <td>5.0</td>\n",
       "      <td>6.3</td>\n",
       "      <td>1</td>\n",
       "      <td>0</td>\n",
       "      <td>0</td>\n",
       "      <td>0</td>\n",
       "    </tr>\n",
       "  </tbody>\n",
       "</table>\n",
       "</div>"
      ],
      "text/plain": [
       "   order_amount  order_distance  tip  encoded_cash  encoded_gift  \\\n",
       "0         11.11             4.0  4.8             0             0   \n",
       "1          7.95             2.1  1.8             0             1   \n",
       "2          6.90             1.6  2.2             1             0   \n",
       "3         11.38             3.5  3.5             0             0   \n",
       "4         19.20             5.0  6.3             1             0   \n",
       "\n",
       "   encoded_debit  encoded_credit  \n",
       "0              0               1  \n",
       "1              0               0  \n",
       "2              0               0  \n",
       "3              1               0  \n",
       "4              0               0  "
      ]
     },
     "execution_count": 22,
     "metadata": {},
     "output_type": "execute_result"
    }
   ],
   "source": [
    "encoded_new = df_new.copy()\n",
    "encoded_new['encoded_cash'] = 0  # default to zero\n",
    "encoded_new['encoded_gift'] = 0  # default to zero\n",
    "encoded_new['encoded_debit'] = 0  # default to zero\n",
    "encoded_new['encoded_credit'] = 0  # default to zero\n",
    "encoded_new.loc[encoded_new['payment_type'] == 'Cash', 'encoded_cash'] = 1 # one-hot encode\n",
    "encoded_new.loc[encoded_new['payment_type'] == 'Gift', 'encoded_gift'] = 1 # one-hot encode\n",
    "encoded_new.loc[encoded_new['payment_type'] == 'Debit', 'encoded_debit'] = 1 # one-hot encode\n",
    "encoded_new.loc[encoded_new['payment_type'] == 'Credit', 'encoded_credit'] = 1 # one-hot encode\n",
    "encoded_new.drop(columns='payment_type', inplace=True)\n",
    "encoded_new[:5]"
   ]
  },
  {
   "cell_type": "code",
   "execution_count": null,
   "metadata": {},
   "outputs": [],
   "source": [
    "encoded_new_eval = encoded_new.loc[:N_NEW, :]\n",
    "evalX = encoded_new_eval.loc[:, encoded_new_eval.columns != 'tip']\n",
    "evalY = encoded_new_eval.loc[:, 'tip']\n",
    "encoded_new_train = encoded_new.loc[N_NEW:, :]"
   ]
  },
  {
   "cell_type": "markdown",
   "metadata": {},
   "source": [
    "### Augmented training dataset\n",
    "\n",
    "Start with the 3000 new training examples, then add in bridged examples\n",
    "from the old data as long as performance improves. This is a hyperparameter tuning operation.\n",
    "Here's we'll simply do grid-search."
   ]
  },
  {
   "cell_type": "code",
   "execution_count": 26,
   "metadata": {},
   "outputs": [
    {
     "data": {
      "image/png": "[encoded data removed]",
      "text/plain": [
       "<Figure size 720x720 with 1 Axes>"
      ]
     },
     "metadata": {},
     "output_type": "display_data"
    }
   ],
   "source": [
    "# add N bridged examples from old and train.\n",
    "bridged_examples = []\n",
    "scores = []\n",
    "for num_bridged in range(0, 1000*100, 1000):\n",
    "    bridged_examples.append(num_bridged)\n",
    "    df_train = pd.concat([encoded_new_train, bridged_old[:num_bridged]], ignore_index=True)\n",
    "    X = df_train.loc[:, df_train.columns != 'tip']\n",
    "    Y = df_train.loc[:, 'tip']\n",
    "    model.fit(X, Y)\n",
    "    scores.append(model.score(evalX, evalY))\n",
    "\n",
    "scores = pd.DataFrame.from_dict({\n",
    "    'number_bridged': bridged_examples,\n",
    "    'eval_metric': scores\n",
    "})\n",
    "scores.plot(x='number_bridged', y='eval_metric', linewidth=2);"
   ]
  },
  {
   "cell_type": "markdown",
   "metadata": {},
   "source": [
    "Looks like we should aim for bridging the new dataset by adding 60,000 old examples."
   ]
  },
  {
   "cell_type": "markdown",
   "metadata": {},
   "source": [
    "Copyright 2020 Google Inc. Licensed under the Apache License, Version 2.0 (the \"License\"); you may not use this file except in compliance with the License. You may obtain a copy of the License at http://www.apache.org/licenses/LICENSE-2.0 Unless required by applicable law or agreed to in writing, software distributed under the License is distributed on an \"AS IS\" BASIS, WITHOUT WARRANTIES OR CONDITIONS OF ANY KIND, either express or implied. See the License for the specific language governing permissions and limitations under the License"
   ]
  }
 ],
 "metadata": {
  "environment": {
   "name": "tf2-gpu.2-1.m46",
   "type": "gcloud",
   "uri": "gcr.io/deeplearning-platform-release/tf2-gpu.2-1:m46"
  },
  "kernelspec": {
   "display_name": "Python 3",
   "language": "python",
   "name": "python3"
  },
  "language_info": {
   "codemirror_mode": {
    "name": "ipython",
    "version": 3
   },
   "file_extension": ".py",
   "mimetype": "text/x-python",
   "name": "python",
   "nbconvert_exporter": "python",
   "pygments_lexer": "ipython3",
   "version": "3.7.6"
  }
 },
 "nbformat": 4,
 "nbformat_minor": 4
}
