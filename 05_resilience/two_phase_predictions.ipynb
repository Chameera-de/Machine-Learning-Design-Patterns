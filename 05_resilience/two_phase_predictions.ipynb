{
 "cells": [
  {
   "cell_type": "markdown",
   "metadata": {
    "colab_type": "text",
    "id": "ZyvgOFAJyLz9"
   },
   "source": [
    "## Two Phase Predictions Design Pattern\n",
    "\n",
    "The Two Phased Prediction design pattern provides a way to address the problem of keeping models for specific use cases sophisticated and performant when they have to be deployed onto distributed devices. \n",
    "\n",
    "We'll use this [Kaggle environmental sound dataset](https://www.kaggle.com/mmoreaux/environmental-sound-classification-50?) to build a two phase model:\n",
    "\n",
    "* Phase 1 (on-device): is it an instrument?\n",
    "* Phase 2 (cloud): which instrument is it?\n",
    "\n",
    "To build this solution, both of our models will be trained on audio [spectrograms](https://en.wikipedia.org/wiki/Spectrogram) -- image representations of audio."
   ]
  },
  {
   "cell_type": "code",
   "execution_count": 100,
   "metadata": {
    "colab": {},
    "colab_type": "code",
    "id": "2jJigv8kzdkH"
   },
   "outputs": [],
   "source": [
    "import numpy as np\n",
    "import pandas as pd\n",
    "import tensorflow_hub as hub\n",
    "import tensorflow as tf\n",
    "\n",
    "import os\n",
    "import pathlib\n",
    "import matplotlib.pyplot as plt\n",
    "from scipy import signal\n",
    "from scipy.io import wavfile"
   ]
  },
  {
   "cell_type": "markdown",
   "metadata": {
    "colab_type": "text",
    "id": "Lk_qORJ6wO7s"
   },
   "source": [
    "### Data pre-processing\n",
    "\n",
    "First we'll take a look at a CSV file with the audio filenames and their respective labels. Then we'll add a column for the label we'll be using in the first model to determine whether the sound is an instrument or not.\n",
    "\n",
    "All of the data we'll be using to train the models has been made publicly available in a GCS bucket."
   ]
  },
  {
   "cell_type": "markdown",
   "metadata": {
    "colab_type": "text",
    "id": "1hpQNSm-Z1Zv"
   },
   "source": [
    "Inspect the labels"
   ]
  },
  {
   "cell_type": "code",
   "execution_count": 2,
   "metadata": {
    "colab": {
     "base_uri": "https://localhost:8080/",
     "height": 68
    },
    "colab_type": "code",
    "id": "KNQCYXk6PTnl",
    "outputId": "0a591459-02c4-4184-9e86-84790171bbd3"
   },
   "outputs": [
    {
     "name": "stdout",
     "output_type": "stream",
     "text": [
      "Copying gs://ml-design-patterns/audio-train.csv...\n",
      "/ [1 files][228.4 KiB/228.4 KiB]                                                \n",
      "Operation completed over 1 objects/228.4 KiB.                                    \n"
     ]
    }
   ],
   "source": [
    "# Copy the label lookup file from GCS\n",
    "!gsutil cp gs://ml-design-patterns/audio-train.csv ."
   ]
  },
  {
   "cell_type": "code",
   "execution_count": 3,
   "metadata": {
    "colab": {
     "base_uri": "https://localhost:8080/",
     "height": 204
    },
    "colab_type": "code",
    "id": "JTYfU5Hd0RuP",
    "outputId": "bd6b1c4e-b7d1-4201-c9b6-00518fd266cd"
   },
   "outputs": [
    {
     "data": {
      "text/html": [
       "<div>\n",
       "<style scoped>\n",
       "    .dataframe tbody tr th:only-of-type {\n",
       "        vertical-align: middle;\n",
       "    }\n",
       "\n",
       "    .dataframe tbody tr th {\n",
       "        vertical-align: top;\n",
       "    }\n",
       "\n",
       "    .dataframe thead th {\n",
       "        text-align: right;\n",
       "    }\n",
       "</style>\n",
       "<table border=\"1\" class=\"dataframe\">\n",
       "  <thead>\n",
       "    <tr style=\"text-align: right;\">\n",
       "      <th></th>\n",
       "      <th>fname</th>\n",
       "      <th>label</th>\n",
       "      <th>manually_verified</th>\n",
       "    </tr>\n",
       "  </thead>\n",
       "  <tbody>\n",
       "    <tr>\n",
       "      <th>0</th>\n",
       "      <td>00044347.wav</td>\n",
       "      <td>Hi-hat</td>\n",
       "      <td>0</td>\n",
       "    </tr>\n",
       "    <tr>\n",
       "      <th>1</th>\n",
       "      <td>001ca53d.wav</td>\n",
       "      <td>Saxophone</td>\n",
       "      <td>1</td>\n",
       "    </tr>\n",
       "    <tr>\n",
       "      <th>2</th>\n",
       "      <td>002d256b.wav</td>\n",
       "      <td>Trumpet</td>\n",
       "      <td>0</td>\n",
       "    </tr>\n",
       "    <tr>\n",
       "      <th>3</th>\n",
       "      <td>0033e230.wav</td>\n",
       "      <td>Glockenspiel</td>\n",
       "      <td>1</td>\n",
       "    </tr>\n",
       "    <tr>\n",
       "      <th>4</th>\n",
       "      <td>00353774.wav</td>\n",
       "      <td>Cello</td>\n",
       "      <td>1</td>\n",
       "    </tr>\n",
       "  </tbody>\n",
       "</table>\n",
       "</div>"
      ],
      "text/plain": [
       "          fname         label  manually_verified\n",
       "0  00044347.wav        Hi-hat                  0\n",
       "1  001ca53d.wav     Saxophone                  1\n",
       "2  002d256b.wav       Trumpet                  0\n",
       "3  0033e230.wav  Glockenspiel                  1\n",
       "4  00353774.wav         Cello                  1"
      ]
     },
     "execution_count": 3,
     "metadata": {},
     "output_type": "execute_result"
    }
   ],
   "source": [
    "label_data = pd.read_csv('audio-train.csv')\n",
    "label_data.head()"
   ]
  },
  {
   "cell_type": "markdown",
   "metadata": {
    "colab_type": "text",
    "id": "oyrhsEeLZ3_K"
   },
   "source": [
    "Add a column for our first model: whether the sound is an instrument or not"
   ]
  },
  {
   "cell_type": "code",
   "execution_count": 4,
   "metadata": {
    "colab": {},
    "colab_type": "code",
    "id": "cD1rUyxU0foh"
   },
   "outputs": [],
   "source": [
    "instrument_labels = ['Cello', 'Clarinet', 'Double_bass', 'Saxophone', 'Violin_or_fiddle', 'Snare_drum', 'Hi-hat', 'Flute', 'Bass_drum', 'Trumpet', 'Acoustic_guitar', 'Oboe', 'Gong', 'Tambourine', 'Cowbell', 'Harmonica', 'Electric_piano', 'Glockenspiel']"
   ]
  },
  {
   "cell_type": "code",
   "execution_count": 5,
   "metadata": {
    "colab": {},
    "colab_type": "code",
    "id": "QEL0L0S81tjc"
   },
   "outputs": [],
   "source": [
    "def check_instrument(row):\n",
    "  if row['label'] in instrument_labels:\n",
    "    return 1\n",
    "  else:\n",
    "    return 0"
   ]
  },
  {
   "cell_type": "code",
   "execution_count": 6,
   "metadata": {
    "colab": {},
    "colab_type": "code",
    "id": "npLxT8tv1Ujd"
   },
   "outputs": [],
   "source": [
    "label_data['is_instrument'] = label_data.apply(check_instrument, axis=1)"
   ]
  },
  {
   "cell_type": "code",
   "execution_count": 7,
   "metadata": {
    "colab": {
     "base_uri": "https://localhost:8080/",
     "height": 204
    },
    "colab_type": "code",
    "id": "Yu29vURm14FA",
    "outputId": "21856335-fda0-41fe-8e99-15dd96fe8c9e"
   },
   "outputs": [
    {
     "data": {
      "text/html": [
       "<div>\n",
       "<style scoped>\n",
       "    .dataframe tbody tr th:only-of-type {\n",
       "        vertical-align: middle;\n",
       "    }\n",
       "\n",
       "    .dataframe tbody tr th {\n",
       "        vertical-align: top;\n",
       "    }\n",
       "\n",
       "    .dataframe thead th {\n",
       "        text-align: right;\n",
       "    }\n",
       "</style>\n",
       "<table border=\"1\" class=\"dataframe\">\n",
       "  <thead>\n",
       "    <tr style=\"text-align: right;\">\n",
       "      <th></th>\n",
       "      <th>fname</th>\n",
       "      <th>label</th>\n",
       "      <th>manually_verified</th>\n",
       "      <th>is_instrument</th>\n",
       "    </tr>\n",
       "  </thead>\n",
       "  <tbody>\n",
       "    <tr>\n",
       "      <th>0</th>\n",
       "      <td>00044347.wav</td>\n",
       "      <td>Hi-hat</td>\n",
       "      <td>0</td>\n",
       "      <td>1</td>\n",
       "    </tr>\n",
       "    <tr>\n",
       "      <th>1</th>\n",
       "      <td>001ca53d.wav</td>\n",
       "      <td>Saxophone</td>\n",
       "      <td>1</td>\n",
       "      <td>1</td>\n",
       "    </tr>\n",
       "    <tr>\n",
       "      <th>2</th>\n",
       "      <td>002d256b.wav</td>\n",
       "      <td>Trumpet</td>\n",
       "      <td>0</td>\n",
       "      <td>1</td>\n",
       "    </tr>\n",
       "    <tr>\n",
       "      <th>3</th>\n",
       "      <td>0033e230.wav</td>\n",
       "      <td>Glockenspiel</td>\n",
       "      <td>1</td>\n",
       "      <td>1</td>\n",
       "    </tr>\n",
       "    <tr>\n",
       "      <th>4</th>\n",
       "      <td>00353774.wav</td>\n",
       "      <td>Cello</td>\n",
       "      <td>1</td>\n",
       "      <td>1</td>\n",
       "    </tr>\n",
       "  </tbody>\n",
       "</table>\n",
       "</div>"
      ],
      "text/plain": [
       "          fname         label  manually_verified  is_instrument\n",
       "0  00044347.wav        Hi-hat                  0              1\n",
       "1  001ca53d.wav     Saxophone                  1              1\n",
       "2  002d256b.wav       Trumpet                  0              1\n",
       "3  0033e230.wav  Glockenspiel                  1              1\n",
       "4  00353774.wav         Cello                  1              1"
      ]
     },
     "execution_count": 7,
     "metadata": {},
     "output_type": "execute_result"
    }
   ],
   "source": [
    "label_data.head()"
   ]
  },
  {
   "cell_type": "code",
   "execution_count": 8,
   "metadata": {
    "colab": {
     "base_uri": "https://localhost:8080/",
     "height": 68
    },
    "colab_type": "code",
    "id": "gOfVAjvI15B_",
    "outputId": "6e2edfde-06c9-4fb8-c02b-6139c9040e03"
   },
   "outputs": [
    {
     "data": {
      "text/plain": [
       "0    4761\n",
       "1    4712\n",
       "Name: is_instrument, dtype: int64"
      ]
     },
     "execution_count": 8,
     "metadata": {},
     "output_type": "execute_result"
    }
   ],
   "source": [
    "label_data['is_instrument'].value_counts()"
   ]
  },
  {
   "cell_type": "markdown",
   "metadata": {
    "colab_type": "text",
    "id": "Ltr5mbupZ9UN"
   },
   "source": [
    "To ensure quality, we'll only use manually verified samples from the dataset."
   ]
  },
  {
   "cell_type": "code",
   "execution_count": 9,
   "metadata": {
    "colab": {},
    "colab_type": "code",
    "id": "yw4lPlJyPo0G"
   },
   "outputs": [],
   "source": [
    "verified = label_data.loc[label_data['manually_verified'] == 1]"
   ]
  },
  {
   "cell_type": "code",
   "execution_count": 11,
   "metadata": {
    "colab": {
     "base_uri": "https://localhost:8080/",
     "height": 68
    },
    "colab_type": "code",
    "id": "idIMmCqGPo5C",
    "outputId": "6a1abd11-92de-4a6c-c574-e53ae6541a3b"
   },
   "outputs": [
    {
     "data": {
      "text/plain": [
       "1    2002\n",
       "0    1708\n",
       "Name: is_instrument, dtype: int64"
      ]
     },
     "execution_count": 11,
     "metadata": {},
     "output_type": "execute_result"
    }
   ],
   "source": [
    "verified['is_instrument'].value_counts()"
   ]
  },
  {
   "cell_type": "code",
   "execution_count": 12,
   "metadata": {
    "colab": {
     "base_uri": "https://localhost:8080/",
     "height": 204
    },
    "colab_type": "code",
    "id": "HLJCFLVJvb23",
    "outputId": "7e10eac4-e865-4644-9f14-81afe62e46ed"
   },
   "outputs": [
    {
     "data": {
      "text/html": [
       "<div>\n",
       "<style scoped>\n",
       "    .dataframe tbody tr th:only-of-type {\n",
       "        vertical-align: middle;\n",
       "    }\n",
       "\n",
       "    .dataframe tbody tr th {\n",
       "        vertical-align: top;\n",
       "    }\n",
       "\n",
       "    .dataframe thead th {\n",
       "        text-align: right;\n",
       "    }\n",
       "</style>\n",
       "<table border=\"1\" class=\"dataframe\">\n",
       "  <thead>\n",
       "    <tr style=\"text-align: right;\">\n",
       "      <th></th>\n",
       "      <th>fname</th>\n",
       "      <th>label</th>\n",
       "      <th>manually_verified</th>\n",
       "      <th>is_instrument</th>\n",
       "    </tr>\n",
       "  </thead>\n",
       "  <tbody>\n",
       "    <tr>\n",
       "      <th>1</th>\n",
       "      <td>001ca53d.wav</td>\n",
       "      <td>Saxophone</td>\n",
       "      <td>1</td>\n",
       "      <td>1</td>\n",
       "    </tr>\n",
       "    <tr>\n",
       "      <th>3</th>\n",
       "      <td>0033e230.wav</td>\n",
       "      <td>Glockenspiel</td>\n",
       "      <td>1</td>\n",
       "      <td>1</td>\n",
       "    </tr>\n",
       "    <tr>\n",
       "      <th>4</th>\n",
       "      <td>00353774.wav</td>\n",
       "      <td>Cello</td>\n",
       "      <td>1</td>\n",
       "      <td>1</td>\n",
       "    </tr>\n",
       "    <tr>\n",
       "      <th>6</th>\n",
       "      <td>003da8e5.wav</td>\n",
       "      <td>Knock</td>\n",
       "      <td>1</td>\n",
       "      <td>0</td>\n",
       "    </tr>\n",
       "    <tr>\n",
       "      <th>7</th>\n",
       "      <td>0048fd00.wav</td>\n",
       "      <td>Gunshot_or_gunfire</td>\n",
       "      <td>1</td>\n",
       "      <td>0</td>\n",
       "    </tr>\n",
       "  </tbody>\n",
       "</table>\n",
       "</div>"
      ],
      "text/plain": [
       "          fname               label  manually_verified  is_instrument\n",
       "1  001ca53d.wav           Saxophone                  1              1\n",
       "3  0033e230.wav        Glockenspiel                  1              1\n",
       "4  00353774.wav               Cello                  1              1\n",
       "6  003da8e5.wav               Knock                  1              0\n",
       "7  0048fd00.wav  Gunshot_or_gunfire                  1              0"
      ]
     },
     "execution_count": 12,
     "metadata": {},
     "output_type": "execute_result"
    }
   ],
   "source": [
    "verified.head()"
   ]
  },
  {
   "cell_type": "markdown",
   "metadata": {
    "colab_type": "text",
    "id": "P_oFYZW9TJ8e"
   },
   "source": [
    "Preview the spectrogram for a sample trumpet sound from our training dataset"
   ]
  },
  {
   "cell_type": "code",
   "execution_count": 13,
   "metadata": {
    "colab": {
     "base_uri": "https://localhost:8080/",
     "height": 68
    },
    "colab_type": "code",
    "id": "Ghly8RO9Po-1",
    "outputId": "a2beb92f-fad5-4e5c-df9e-60b42700b515"
   },
   "outputs": [
    {
     "name": "stdout",
     "output_type": "stream",
     "text": [
      "Copying gs://ml-design-patterns/audio_train/001ca53d.wav...\n",
      "/ [1 files][888.9 KiB/888.9 KiB]                                                \n",
      "Operation completed over 1 objects/888.9 KiB.                                    \n"
     ]
    }
   ],
   "source": [
    "!gsutil cp gs://ml-design-patterns/audio_train/001ca53d.wav ."
   ]
  },
  {
   "cell_type": "code",
   "execution_count": 14,
   "metadata": {
    "colab": {
     "base_uri": "https://localhost:8080/",
     "height": 248
    },
    "colab_type": "code",
    "id": "UHjyQlfrT3PV",
    "outputId": "11d0d053-a8ad-4361-ca07-b998c7ad36b3"
   },
   "outputs": [
    {
     "data": {
      "image/png": "[encoded data removed]",
      "text/plain": [
       "<Figure size 432x288 with 1 Axes>"
      ]
     },
     "metadata": {
      "needs_background": "light"
     },
     "output_type": "display_data"
    }
   ],
   "source": [
    "sample_rate, samples = wavfile.read('001ca53d.wav')\n",
    "freq, times, spectro = signal.spectrogram(samples, sample_rate)\n",
    "plt.figure()\n",
    "fig = plt.gcf()\n",
    "plt.axis('off')\n",
    "plt.pcolormesh(times, freq, np.log(spectro))\n",
    "plt.show()"
   ]
  },
  {
   "cell_type": "markdown",
   "metadata": {
    "colab_type": "text",
    "id": "NXzLIw9EaB_O"
   },
   "source": [
    "Download all the spectrogram data"
   ]
  },
  {
   "cell_type": "code",
   "execution_count": null,
   "metadata": {
    "colab": {
     "base_uri": "https://localhost:8080/",
     "height": 1000
    },
    "colab_type": "code",
    "id": "IsipOIHWaFQV",
    "outputId": "76542e83-ec27-4dfd-c3f9-d3402faf99e1"
   },
   "outputs": [],
   "source": [
    "# This might take a few minutes\n",
    "!gsutil -m cp -r gs://ml-design-patterns/audio_train_spectro ."
   ]
  },
  {
   "cell_type": "markdown",
   "metadata": {
    "colab_type": "text",
    "id": "ET633QrNyRLj"
   },
   "source": [
    "### Phase 1: build the offline-optimized binary classification model\n",
    "\n",
    "First we'll move the images into labeled directories since the Keras `ImageDataGenerator` class uses this format (directories with names corresponding to labels) to read our data. Then we'll create our training and validation batches and train a model using the MobileNet V2 architecture with frozen weights from ImageNet."
   ]
  },
  {
   "cell_type": "code",
   "execution_count": 16,
   "metadata": {
    "colab": {},
    "colab_type": "code",
    "id": "DfyY63X4gbP5"
   },
   "outputs": [],
   "source": [
    "!mkdir audio_spectros\n",
    "!mkdir audio_spectros/not_instrument\n",
    "!mkdir audio_spectros/instrument"
   ]
  },
  {
   "cell_type": "code",
   "execution_count": 17,
   "metadata": {
    "colab": {},
    "colab_type": "code",
    "id": "lA2P4I4daFS4"
   },
   "outputs": [],
   "source": [
    "keys = verified['fname'].values\n",
    "vals = verified['is_instrument'].values\n",
    "label_lookup = dict(zip(keys, vals))"
   ]
  },
  {
   "cell_type": "code",
   "execution_count": 18,
   "metadata": {
    "colab": {},
    "colab_type": "code",
    "id": "4c3pyhx4bFrp"
   },
   "outputs": [],
   "source": [
    "for i in os.listdir(os.getcwd() + '/audio_train_spectro'):\n",
    "  id = i.split('.')[0] + '.wav'\n",
    "  is_instra = label_lookup[id]\n",
    "  im_path = os.getcwd() + '/audio_train_spectro/' + i\n",
    "  if is_instra == 0:\n",
    "    !mv $im_path audio_spectros/not_instrument/ \n",
    "  else:\n",
    "    !mv $im_path audio_spectros/instrument/"
   ]
  },
  {
   "cell_type": "markdown",
   "metadata": {
    "colab_type": "text",
    "id": "Fpyda95Bcnf8"
   },
   "source": [
    "Load the images as a tf dataset"
   ]
  },
  {
   "cell_type": "code",
   "execution_count": 19,
   "metadata": {
    "colab": {},
    "colab_type": "code",
    "id": "Jhk6v2u_cpjl"
   },
   "outputs": [],
   "source": [
    "data_dir = pathlib.Path(os.getcwd() + '/audio')\n",
    "class_names = ['not_instrument', 'instrument']"
   ]
  },
  {
   "cell_type": "code",
   "execution_count": 52,
   "metadata": {
    "colab": {},
    "colab_type": "code",
    "id": "zKtmC-j0dnQJ"
   },
   "outputs": [],
   "source": [
    "BATCH_SIZE = 64\n",
    "IMG_HEIGHT = 128\n",
    "IMG_WIDTH = 128\n",
    "STEPS_PER_EPOCH = np.ceil(3700/BATCH_SIZE)"
   ]
  },
  {
   "cell_type": "code",
   "execution_count": 53,
   "metadata": {
    "colab": {},
    "colab_type": "code",
    "id": "_PxSJF73d3Df"
   },
   "outputs": [],
   "source": [
    "image_generator = tf.keras.preprocessing.image.ImageDataGenerator(rescale=1./255, validation_split=0.1)"
   ]
  },
  {
   "cell_type": "code",
   "execution_count": 54,
   "metadata": {
    "colab": {
     "base_uri": "https://localhost:8080/",
     "height": 34
    },
    "colab_type": "code",
    "id": "6zuPlte7cpl3",
    "outputId": "119a45d0-c0c7-42d9-b483-ed8abca7c758"
   },
   "outputs": [
    {
     "name": "stdout",
     "output_type": "stream",
     "text": [
      "Found 3710 images belonging to 2 classes.\n"
     ]
    }
   ],
   "source": [
    "train_data_gen = image_generator.flow_from_directory(directory=data_dir,\n",
    "                                                     batch_size=BATCH_SIZE,\n",
    "                                                     shuffle=True,\n",
    "                                                     target_size=(IMG_HEIGHT, IMG_WIDTH),\n",
    "                                                     classes = class_names,\n",
    "                                                     class_mode='binary')"
   ]
  },
  {
   "cell_type": "code",
   "execution_count": 55,
   "metadata": {
    "colab": {
     "base_uri": "https://localhost:8080/",
     "height": 34
    },
    "colab_type": "code",
    "id": "bAX7MTcRslBR",
    "outputId": "da9d7e78-c1ba-4a43-cc99-c4a5bc6193ec"
   },
   "outputs": [
    {
     "name": "stdout",
     "output_type": "stream",
     "text": [
      "Found 370 images belonging to 2 classes.\n"
     ]
    }
   ],
   "source": [
    "val_data_gen = image_generator.flow_from_directory(directory=data_dir,\n",
    "                                                     batch_size=BATCH_SIZE,\n",
    "                                                     shuffle=True,\n",
    "                                                     target_size=(IMG_HEIGHT, IMG_WIDTH),\n",
    "                                                     classes = class_names,\n",
    "                                                     class_mode='binary',\n",
    "                                                    subset='validation')"
   ]
  },
  {
   "cell_type": "code",
   "execution_count": 56,
   "metadata": {
    "colab": {
     "base_uri": "https://localhost:8080/",
     "height": 34
    },
    "colab_type": "code",
    "id": "yCanTX_QcpoW",
    "outputId": "b8ef441f-e2f9-488b-c9b4-06cbe4532bf2"
   },
   "outputs": [
    {
     "name": "stdout",
     "output_type": "stream",
     "text": [
      "3710\n"
     ]
    }
   ],
   "source": [
    "image_count = len(list(data_dir.glob('*/*.png')))\n",
    "print(image_count)"
   ]
  },
  {
   "cell_type": "code",
   "execution_count": 57,
   "metadata": {
    "colab": {},
    "colab_type": "code",
    "id": "mQjMIhDlemZl"
   },
   "outputs": [],
   "source": [
    "instrument_modellabel_batch = next(train_data_gen)"
   ]
  },
  {
   "cell_type": "code",
   "execution_count": 58,
   "metadata": {
    "colab": {},
    "colab_type": "code",
    "id": "gd5wsnAczpIq"
   },
   "outputs": [],
   "source": [
    "val_image, val_label = next(val_data_gen)"
   ]
  },
  {
   "cell_type": "markdown",
   "metadata": {
    "colab_type": "text",
    "id": "hbAiQhHpZs6n"
   },
   "source": [
    "Build a model for binary classification: is it an instrument or not? We'll use **transfer learning** for this, by loading the MobileNet V2 model architecture trained on the ImageNet dataset and then adding a few additional layers on top specific to our prediction task."
   ]
  },
  {
   "cell_type": "code",
   "execution_count": 59,
   "metadata": {
    "colab": {},
    "colab_type": "code",
    "id": "970fnRcQ7miy"
   },
   "outputs": [],
   "source": [
    "mobilenet = tf.keras.applications.MobileNetV2(\n",
    "    input_shape=((128,128,3)), \n",
    "    include_top=False,\n",
    "    weights='imagenet'\n",
    ")"
   ]
  },
  {
   "cell_type": "code",
   "execution_count": 60,
   "metadata": {
    "colab": {},
    "colab_type": "code",
    "id": "Ne8DxNAmQBV-"
   },
   "outputs": [],
   "source": [
    "mobilenet.trainable = False"
   ]
  },
  {
   "cell_type": "code",
   "execution_count": 61,
   "metadata": {
    "colab": {},
    "colab_type": "code",
    "id": "BG_mEYFmQCMs"
   },
   "outputs": [],
   "source": [
    "feature_batch = mobilenet(image_batch)"
   ]
  },
  {
   "cell_type": "code",
   "execution_count": 62,
   "metadata": {
    "colab": {
     "base_uri": "https://localhost:8080/",
     "height": 34
    },
    "colab_type": "code",
    "id": "T5kg-1cjpWRC",
    "outputId": "3be9ab21-e32f-43dd-8d0f-c9724a497bf5"
   },
   "outputs": [
    {
     "name": "stdout",
     "output_type": "stream",
     "text": [
      "(64, 1280)\n"
     ]
    }
   ],
   "source": [
    "global_avg_layer = tf.keras.layers.GlobalAveragePooling2D()\n",
    "feature_batch_avg = global_avg_layer(feature_batch)\n",
    "print(feature_batch_avg.shape)"
   ]
  },
  {
   "cell_type": "code",
   "execution_count": 63,
   "metadata": {
    "colab": {
     "base_uri": "https://localhost:8080/",
     "height": 34
    },
    "colab_type": "code",
    "id": "hmMFpLl7p7P9",
    "outputId": "b55240b2-00b8-4f6b-9b3c-6b49fb32a296"
   },
   "outputs": [
    {
     "name": "stdout",
     "output_type": "stream",
     "text": [
      "(64, 1)\n"
     ]
    }
   ],
   "source": [
    "prediction_layer = tf.keras.layers.Dense(1, activation='sigmoid')\n",
    "prediction_batch = prediction_layer(feature_batch_avg)\n",
    "print(prediction_batch.shape)"
   ]
  },
  {
   "cell_type": "code",
   "execution_count": 64,
   "metadata": {
    "colab": {},
    "colab_type": "code",
    "id": "vk_OqwK3qAoU"
   },
   "outputs": [],
   "source": [
    "model = tf.keras.Sequential([\n",
    "  mobilenet,\n",
    "  global_avg_layer,\n",
    "  prediction_layer                            \n",
    "])"
   ]
  },
  {
   "cell_type": "code",
   "execution_count": 65,
   "metadata": {
    "colab": {
     "base_uri": "https://localhost:8080/",
     "height": 255
    },
    "colab_type": "code",
    "id": "rWXftzfGqOqY",
    "outputId": "10140d89-e883-44ac-f774-08ac7235bb3d"
   },
   "outputs": [
    {
     "name": "stdout",
     "output_type": "stream",
     "text": [
      "Model: \"sequential_2\"\n",
      "_________________________________________________________________\n",
      "Layer (type)                 Output Shape              Param #   \n",
      "=================================================================\n",
      "mobilenetv2_1.00_128 (Model) (None, 4, 4, 1280)        2257984   \n",
      "_________________________________________________________________\n",
      "global_average_pooling2d_2 ( (None, 1280)              0         \n",
      "_________________________________________________________________\n",
      "dense_2 (Dense)              (None, 1)                 1281      \n",
      "=================================================================\n",
      "Total params: 2,259,265\n",
      "Trainable params: 1,281\n",
      "Non-trainable params: 2,257,984\n",
      "_________________________________________________________________\n"
     ]
    }
   ],
   "source": [
    "model.summary()"
   ]
  },
  {
   "cell_type": "code",
   "execution_count": 66,
   "metadata": {
    "colab": {},
    "colab_type": "code",
    "id": "ler1mX0PqPwj"
   },
   "outputs": [],
   "source": [
    "model.compile(optimizer='SGD',\n",
    "              loss='binary_crossentropy',\n",
    "              metrics=['accuracy'])"
   ]
  },
  {
   "cell_type": "markdown",
   "metadata": {},
   "source": [
    "*Note: we could make changes to our model architecture, perform progressive fine-tuning to find the optimal number of layers to fine-tune, or employ hyperparameter tuning to improve model accuracy. Here the focus is on tooling and process rather than accuracy.*"
   ]
  },
  {
   "cell_type": "code",
   "execution_count": null,
   "metadata": {
    "colab": {
     "base_uri": "https://localhost:8080/",
     "height": 394
    },
    "colab_type": "code",
    "id": "Y8m-dMcEqfAK",
    "outputId": "84687292-bb2f-4234-cf66-b7c2c538ea79"
   },
   "outputs": [],
   "source": [
    "model.fit_generator(train_data_gen, \n",
    "                    validation_data=val_data_gen,\n",
    "                    steps_per_epoch=STEPS_PER_EPOCH, epochs=10)"
   ]
  },
  {
   "cell_type": "markdown",
   "metadata": {
    "colab_type": "text",
    "id": "vb0Ze3_kuTfV"
   },
   "source": [
    "#### Convert model to TFLite and quantize\n",
    "\n",
    "Save the TF Lite model file and get predictions on it using Python."
   ]
  },
  {
   "cell_type": "code",
   "execution_count": 68,
   "metadata": {
    "colab": {
     "base_uri": "https://localhost:8080/"
    },
    "colab_type": "code",
    "id": "GBcVxtDRtl6r",
    "outputId": "5c4d0d99-7949-4d55-99d7-fc50d337cbe6"
   },
   "outputs": [
    {
     "data": {
      "text/plain": [
       "2299368"
      ]
     },
     "execution_count": 68,
     "metadata": {},
     "output_type": "execute_result"
    }
   ],
   "source": [
    "converter = tf.lite.TFLiteConverter.from_keras_model(model)\n",
    "converter.optimizations = [tf.lite.Optimize.DEFAULT]\n",
    "tflite_model = converter.convert()\n",
    "open('converted_model.tflite', 'wb').write(tflite_model)"
   ]
  },
  {
   "cell_type": "markdown",
   "metadata": {},
   "source": [
    "Get a prediction on one spectrogram from our validation dataset, print the model's prediction (sigmoid probability from 0 to 1) along with ground truth label. For more details, check out the TF Lite [inference docs](https://www.tensorflow.org/lite/guide/inference)."
   ]
  },
  {
   "cell_type": "code",
   "execution_count": null,
   "metadata": {
    "colab": {
     "base_uri": "https://localhost:8080/",
     "height": 34
    },
    "colab_type": "code",
    "id": "_5iAeoPpuiie",
    "outputId": "613ece4d-c6dd-414b-8130-3e015dcc16f7"
   },
   "outputs": [],
   "source": [
    "# Load TFLite model and allocate tensors.\n",
    "interpreter = tf.lite.Interpreter(model_path=\"converted_model.tflite\")\n",
    "interpreter.allocate_tensors()\n",
    "\n",
    "# Get input and output tensors.\n",
    "input_details = interpreter.get_input_details()\n",
    "output_details = interpreter.get_output_details()\n",
    "\n",
    "# Test model on random input data.\n",
    "input_shape = input_details[0]['shape']\n",
    "input_data = np.array([val_image[0]], dtype=np.float32)\n",
    "interpreter.set_tensor(input_details[0]['index'], input_data)\n",
    "\n",
    "interpreter.invoke()\n",
    "\n",
    "# The function `get_tensor()` returns a copy of the tensor data.\n",
    "# Use `tensor()` in order to get a pointer to the tensor.\n",
    "output_data = interpreter.get_tensor(output_details[0]['index'])\n",
    "print(output_data)\n",
    "print(val_label[0])"
   ]
  },
  {
   "cell_type": "code",
   "execution_count": 76,
   "metadata": {
    "colab": {
     "base_uri": "https://localhost:8080/",
     "height": 187
    },
    "colab_type": "code",
    "id": "UwrN9PsbKWJK",
    "outputId": "27ca68cc-4f0a-4cd2-9cb9-a29e890dfc1d"
   },
   "outputs": [
    {
     "data": {
      "text/plain": [
       "[{'name': 'mobilenetv2_1.00_128_input',\n",
       "  'index': 1,\n",
       "  'shape': array([  1, 128, 128,   3], dtype=int32),\n",
       "  'dtype': numpy.float32,\n",
       "  'quantization': (0.0, 0)}]"
      ]
     },
     "execution_count": 76,
     "metadata": {},
     "output_type": "execute_result"
    }
   ],
   "source": [
    "input_details"
   ]
  },
  {
   "cell_type": "markdown",
   "metadata": {
    "colab_type": "text",
    "id": "wECzmME49C2G"
   },
   "source": [
    "### Phase 2: identifying instrument sounds\n",
    "\n",
    "Train a multilabel classification model to predict the instrument associated with a given instrument sound."
   ]
  },
  {
   "cell_type": "code",
   "execution_count": 104,
   "metadata": {
    "colab": {},
    "colab_type": "code",
    "id": "qkJHwDuNDduJ"
   },
   "outputs": [],
   "source": [
    "instrument_data = verified.loc[verified['is_instrument'] == 1]"
   ]
  },
  {
   "cell_type": "code",
   "execution_count": 105,
   "metadata": {
    "colab": {
     "base_uri": "https://localhost:8080/",
     "height": 204
    },
    "colab_type": "code",
    "id": "Q07UuEEaDmDO",
    "outputId": "8f3a911a-6559-421a-ae87-c2cc0ee9878a"
   },
   "outputs": [
    {
     "data": {
      "text/html": [
       "<div>\n",
       "<style scoped>\n",
       "    .dataframe tbody tr th:only-of-type {\n",
       "        vertical-align: middle;\n",
       "    }\n",
       "\n",
       "    .dataframe tbody tr th {\n",
       "        vertical-align: top;\n",
       "    }\n",
       "\n",
       "    .dataframe thead th {\n",
       "        text-align: right;\n",
       "    }\n",
       "</style>\n",
       "<table border=\"1\" class=\"dataframe\">\n",
       "  <thead>\n",
       "    <tr style=\"text-align: right;\">\n",
       "      <th></th>\n",
       "      <th>fname</th>\n",
       "      <th>label</th>\n",
       "      <th>manually_verified</th>\n",
       "      <th>is_instrument</th>\n",
       "    </tr>\n",
       "  </thead>\n",
       "  <tbody>\n",
       "    <tr>\n",
       "      <th>1</th>\n",
       "      <td>001ca53d.wav</td>\n",
       "      <td>Saxophone</td>\n",
       "      <td>1</td>\n",
       "      <td>1</td>\n",
       "    </tr>\n",
       "    <tr>\n",
       "      <th>3</th>\n",
       "      <td>0033e230.wav</td>\n",
       "      <td>Glockenspiel</td>\n",
       "      <td>1</td>\n",
       "      <td>1</td>\n",
       "    </tr>\n",
       "    <tr>\n",
       "      <th>4</th>\n",
       "      <td>00353774.wav</td>\n",
       "      <td>Cello</td>\n",
       "      <td>1</td>\n",
       "      <td>1</td>\n",
       "    </tr>\n",
       "    <tr>\n",
       "      <th>10</th>\n",
       "      <td>006f2f32.wav</td>\n",
       "      <td>Hi-hat</td>\n",
       "      <td>1</td>\n",
       "      <td>1</td>\n",
       "    </tr>\n",
       "    <tr>\n",
       "      <th>14</th>\n",
       "      <td>0091fc7f.wav</td>\n",
       "      <td>Cello</td>\n",
       "      <td>1</td>\n",
       "      <td>1</td>\n",
       "    </tr>\n",
       "  </tbody>\n",
       "</table>\n",
       "</div>"
      ],
      "text/plain": [
       "           fname         label  manually_verified  is_instrument\n",
       "1   001ca53d.wav     Saxophone                  1              1\n",
       "3   0033e230.wav  Glockenspiel                  1              1\n",
       "4   00353774.wav         Cello                  1              1\n",
       "10  006f2f32.wav        Hi-hat                  1              1\n",
       "14  0091fc7f.wav         Cello                  1              1"
      ]
     },
     "execution_count": 105,
     "metadata": {},
     "output_type": "execute_result"
    }
   ],
   "source": [
    "instrument_data.head()"
   ]
  },
  {
   "cell_type": "code",
   "execution_count": 290,
   "metadata": {},
   "outputs": [
    {
     "data": {
      "text/plain": [
       "Saxophone           256\n",
       "Violin_or_fiddle    250\n",
       "Clarinet            130\n",
       "Flute               128\n",
       "Cello               125\n",
       "Acoustic_guitar     105\n",
       "Oboe                 99\n",
       "Cowbell              96\n",
       "Double_bass          92\n",
       "Tambourine           92\n",
       "Hi-hat               89\n",
       "Harmonica            88\n",
       "Trumpet              86\n",
       "Gong                 85\n",
       "Electric_piano       74\n",
       "Snare_drum           70\n",
       "Glockenspiel         70\n",
       "Bass_drum            67\n",
       "Name: label, dtype: int64"
      ]
     },
     "execution_count": 290,
     "metadata": {},
     "output_type": "execute_result"
    }
   ],
   "source": [
    "instrument_data['label'].value_counts()"
   ]
  },
  {
   "cell_type": "code",
   "execution_count": 292,
   "metadata": {},
   "outputs": [],
   "source": [
    "inst_keys = instrument_data['fname'].values\n",
    "inst_vals = instrument_data['label'].values\n",
    "instrument_label_lookup = dict(zip(inst_keys, inst_vals))"
   ]
  },
  {
   "cell_type": "code",
   "execution_count": null,
   "metadata": {},
   "outputs": [],
   "source": [
    "!mkdir instruments"
   ]
  },
  {
   "cell_type": "code",
   "execution_count": null,
   "metadata": {},
   "outputs": [],
   "source": [
    "for i in instrument_labels:\n",
    "    path = os.getcwd() + '/instruments/' + i\n",
    "    !mkdir $path"
   ]
  },
  {
   "cell_type": "markdown",
   "metadata": {},
   "source": [
    "Create directories for each instrument label. We'll use this later when we load our images with Keras's `ImageDataGenerator` class."
   ]
  },
  {
   "cell_type": "code",
   "execution_count": 299,
   "metadata": {
    "colab": {
     "base_uri": "https://localhost:8080/"
    },
    "colab_type": "code",
    "id": "0MtIb7Y8Dm4T",
    "outputId": "e3c1deb0-0f15-4034-bfdc-b8bb752b19bf"
   },
   "outputs": [],
   "source": [
    "for i in os.listdir(os.getcwd() + '/audio_train_spectro'):\n",
    "    id = i.split('.')[0] + '.wav'\n",
    "    try:\n",
    "        instrument_name = instrument_label_lookup[id]\n",
    "        im_path = os.getcwd() + '/audio_train_spectro/' + i\n",
    "        new_path = os.getcwd() + '/instruments/' + instrument_name + '/' + i\n",
    "        !mv $im_path $new_path\n",
    "    except:\n",
    "        pass"
   ]
  },
  {
   "cell_type": "code",
   "execution_count": 300,
   "metadata": {},
   "outputs": [],
   "source": [
    "instrument_image_generator = tf.keras.preprocessing.image.ImageDataGenerator(rescale=1./255, validation_split=0.1)"
   ]
  },
  {
   "cell_type": "code",
   "execution_count": 303,
   "metadata": {
    "colab": {},
    "colab_type": "code",
    "id": "s7msPoA_EQYS"
   },
   "outputs": [],
   "source": [
    "BATCH_SIZE = 256\n",
    "IMG_HEIGHT = 128\n",
    "IMG_WIDTH = 128\n",
    "STEPS_PER_EPOCH = np.ceil(2002/BATCH_SIZE)"
   ]
  },
  {
   "cell_type": "code",
   "execution_count": 304,
   "metadata": {},
   "outputs": [
    {
     "name": "stdout",
     "output_type": "stream",
     "text": [
      "Found 2002 images belonging to 18 classes.\n"
     ]
    }
   ],
   "source": [
    "train_data_instrument = instrument_image_generator.flow_from_directory(directory=os.getcwd() + '/instruments',\n",
    "                                                     batch_size=BATCH_SIZE,\n",
    "                                                     shuffle=True,\n",
    "                                                     target_size=(IMG_HEIGHT, IMG_WIDTH),\n",
    "                                                     classes = instrument_labels)"
   ]
  },
  {
   "cell_type": "code",
   "execution_count": 305,
   "metadata": {},
   "outputs": [
    {
     "name": "stdout",
     "output_type": "stream",
     "text": [
      "Found 192 images belonging to 18 classes.\n"
     ]
    }
   ],
   "source": [
    "val_data_instrument = instrument_image_generator.flow_from_directory(directory=os.getcwd() + '/instruments',\n",
    "                                                     batch_size=BATCH_SIZE,\n",
    "                                                     shuffle=False,\n",
    "                                                     target_size=(IMG_HEIGHT, IMG_WIDTH),\n",
    "                                                     classes = instrument_labels,\n",
    "                                                     subset='validation')"
   ]
  },
  {
   "cell_type": "code",
   "execution_count": 306,
   "metadata": {},
   "outputs": [],
   "source": [
    "image_instrument_train, label_instrument_train = next(train_data_instrument)"
   ]
  },
  {
   "cell_type": "code",
   "execution_count": 307,
   "metadata": {},
   "outputs": [],
   "source": [
    "image_instrument_val, label_instrument_val = next(val_data_instrument)"
   ]
  },
  {
   "cell_type": "code",
   "execution_count": 322,
   "metadata": {},
   "outputs": [],
   "source": [
    "vgg_model = tf.keras.applications.VGG19(\n",
    "    include_top=False, \n",
    "    weights='imagenet', \n",
    "    input_shape=((128,128,3))\n",
    ")"
   ]
  },
  {
   "cell_type": "code",
   "execution_count": 309,
   "metadata": {},
   "outputs": [],
   "source": [
    "vgg_model.trainable = False"
   ]
  },
  {
   "cell_type": "code",
   "execution_count": 323,
   "metadata": {},
   "outputs": [
    {
     "name": "stdout",
     "output_type": "stream",
     "text": [
      "(64, 512)\n"
     ]
    }
   ],
   "source": [
    "feature_batch = vgg_model(image_batch)\n",
    "global_avg_layer = tf.keras.layers.GlobalAveragePooling2D()\n",
    "feature_batch_avg = global_avg_layer(feature_batch)\n",
    "print(feature_batch_avg.shape)"
   ]
  },
  {
   "cell_type": "code",
   "execution_count": 324,
   "metadata": {},
   "outputs": [
    {
     "name": "stdout",
     "output_type": "stream",
     "text": [
      "(64, 18)\n"
     ]
    }
   ],
   "source": [
    "prediction_layer = tf.keras.layers.Dense(len(instrument_labels), activation='softmax')\n",
    "prediction_batch = prediction_layer(feature_batch_avg)\n",
    "print(prediction_batch.shape)"
   ]
  },
  {
   "cell_type": "code",
   "execution_count": 325,
   "metadata": {},
   "outputs": [],
   "source": [
    "instrument_model = tf.keras.Sequential([\n",
    "    vgg_model,\n",
    "    global_avg_layer,\n",
    "    prediction_layer\n",
    "])"
   ]
  },
  {
   "cell_type": "code",
   "execution_count": 326,
   "metadata": {},
   "outputs": [
    {
     "name": "stdout",
     "output_type": "stream",
     "text": [
      "Model: \"sequential_10\"\n",
      "_________________________________________________________________\n",
      "Layer (type)                 Output Shape              Param #   \n",
      "=================================================================\n",
      "vgg19 (Model)                (None, 4, 4, 512)         20024384  \n",
      "_________________________________________________________________\n",
      "global_average_pooling2d_8 ( (None, 512)               0         \n",
      "_________________________________________________________________\n",
      "dense_10 (Dense)             (None, 18)                9234      \n",
      "=================================================================\n",
      "Total params: 20,033,618\n",
      "Trainable params: 20,033,618\n",
      "Non-trainable params: 0\n",
      "_________________________________________________________________\n"
     ]
    }
   ],
   "source": [
    "instrument_model.summary()"
   ]
  },
  {
   "cell_type": "code",
   "execution_count": 327,
   "metadata": {},
   "outputs": [],
   "source": [
    "instrument_model.compile(optimizer='adam',\n",
    "              loss=tf.keras.losses.CategoricalCrossentropy(from_logits=True),\n",
    "              metrics=['accuracy'])"
   ]
  },
  {
   "cell_type": "markdown",
   "metadata": {},
   "source": [
    "*Note: we could make changes to our model architecture, perform progressive fine-tuning to find the optimal number of layers to fine-tune, or employ hyperparameter tuning to improve model accuracy. Here the focus is on tooling and process rather than accuracy.*"
   ]
  },
  {
   "cell_type": "code",
   "execution_count": null,
   "metadata": {},
   "outputs": [],
   "source": [
    "instrument_model.fit_generator(\n",
    "    train_data_instrument, \n",
    "    validation_data=val_data_instrument,\n",
    "    steps_per_epoch=STEPS_PER_EPOCH, epochs=10)"
   ]
  },
  {
   "cell_type": "markdown",
   "metadata": {},
   "source": [
    "#### Get a test prediction on the instrument model"
   ]
  },
  {
   "cell_type": "code",
   "execution_count": 232,
   "metadata": {},
   "outputs": [],
   "source": [
    "test_pred = instrument_model.predict(np.array([image_instrument_val[0]]))"
   ]
  },
  {
   "cell_type": "code",
   "execution_count": 233,
   "metadata": {},
   "outputs": [],
   "source": [
    "predicted_index = np.argmax(test_pred)\n",
    "confidence = test_pred[0][predicted_index]"
   ]
  },
  {
   "cell_type": "code",
   "execution_count": null,
   "metadata": {},
   "outputs": [],
   "source": [
    "test_pred[0]"
   ]
  },
  {
   "cell_type": "code",
   "execution_count": null,
   "metadata": {},
   "outputs": [],
   "source": [
    "print('Predicted instrument: ', instrument_labels[predicted_index], round(confidence * 100), '% confidence')\n",
    "print('Actual instrument: ', instrument_labels[np.argmax(label_instrument_val[0])])"
   ]
  },
  {
   "cell_type": "markdown",
   "metadata": {},
   "source": [
    "Copyright 2020 Google Inc. Licensed under the Apache License, Version 2.0 (the \"License\"); you may not use this file except in compliance with the License. You may obtain a copy of the License at http://www.apache.org/licenses/LICENSE-2.0 Unless required by applicable law or agreed to in writing, software distributed under the License is distributed on an \"AS IS\" BASIS, WITHOUT WARRANTIES OR CONDITIONS OF ANY KIND, either express or implied. See the License for the specific language governing permissions and limitations under the License"
   ]
  }
 ],
 "metadata": {
  "colab": {
   "collapsed_sections": [],
   "name": "two_phase_predictions.ipynb",
   "provenance": []
  },
  "environment": {
   "name": "tf2-gpu.2-1.m46",
   "type": "gcloud",
   "uri": "gcr.io/deeplearning-platform-release/tf2-gpu.2-1:m46"
  },
  "kernelspec": {
   "display_name": "Python 3",
   "language": "python",
   "name": "python3"
  },
  "language_info": {
   "codemirror_mode": {
    "name": "ipython",
    "version": 3
   },
   "file_extension": ".py",
   "mimetype": "text/x-python",
   "name": "python",
   "nbconvert_exporter": "python",
   "pygments_lexer": "ipython3",
   "version": "3.7.6"
  }
 },
 "nbformat": 4,
 "nbformat_minor": 4
}