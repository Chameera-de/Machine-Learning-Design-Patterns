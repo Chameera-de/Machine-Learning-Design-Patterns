{
 "cells": [
  {
   "cell_type": "markdown",
   "metadata": {},
   "source": [
    "# Continuous Evaluation\n",
    "\n",
    "This notebook demonstrates how to use Cloud AI Platform to execute continuous evaluation of a deployed machine learning model. You'll need to have a project set up with Google Cloud Platform. "
   ]
  },
  {
   "cell_type": "markdown",
   "metadata": {},
   "source": [
    "## Set up\n",
    "Start by creating environment variables for your Google Cloud project and bucket. Also, import the libraries we'll need for this notebook."
   ]
  },
  {
   "cell_type": "code",
   "execution_count": 2,
   "metadata": {},
   "outputs": [],
   "source": [
    "# change these to try this notebook out\n",
    "PROJECT = 'munn-sandbox'\n",
    "BUCKET = 'munn-sandbox'"
   ]
  },
  {
   "cell_type": "code",
   "execution_count": 3,
   "metadata": {},
   "outputs": [],
   "source": [
    "import os\n",
    "os.environ['BUCKET'] = BUCKET\n",
    "os.environ['PROJECT'] = PROJECT\n",
    "os.environ['TFVERSION'] = '2.1'"
   ]
  },
  {
   "cell_type": "code",
   "execution_count": 5,
   "metadata": {},
   "outputs": [
    {
     "name": "stdout",
     "output_type": "stream",
     "text": [
      "2.2.0\n"
     ]
    }
   ],
   "source": [
    "import shutil\n",
    "\n",
    "import pandas as pd\n",
    "import tensorflow as tf\n",
    "\n",
    "from google.cloud import bigquery\n",
    "from tensorflow.keras.utils import to_categorical\n",
    "from tensorflow.keras.callbacks import EarlyStopping\n",
    "from tensorflow_hub import KerasLayer\n",
    "from tensorflow.keras.layers import Dense, Input, Lambda\n",
    "from tensorflow.keras.models import Model\n",
    "print(tf.__version__)\n",
    "\n",
    "%matplotlib inline"
   ]
  },
  {
   "cell_type": "markdown",
   "metadata": {},
   "source": [
    "## Train and deploy the model\n",
    "For this notebook, we'll build a text classification model using the Hacker News dataset. Each training example consists of an article title and the article source. The model will be trained to classify a given article title as belonging to either `nytimes`, `github` or `techcrunch`."
   ]
  },
  {
   "cell_type": "markdown",
   "metadata": {},
   "source": [
    "#### Load the data"
   ]
  },
  {
   "cell_type": "code",
   "execution_count": 8,
   "metadata": {},
   "outputs": [
    {
     "data": {
      "text/html": [
       "<div>\n",
       "<style scoped>\n",
       "    .dataframe tbody tr th:only-of-type {\n",
       "        vertical-align: middle;\n",
       "    }\n",
       "\n",
       "    .dataframe tbody tr th {\n",
       "        vertical-align: top;\n",
       "    }\n",
       "\n",
       "    .dataframe thead th {\n",
       "        text-align: right;\n",
       "    }\n",
       "</style>\n",
       "<table border=\"1\" class=\"dataframe\">\n",
       "  <thead>\n",
       "    <tr style=\"text-align: right;\">\n",
       "      <th></th>\n",
       "      <th>title</th>\n",
       "      <th>source</th>\n",
       "    </tr>\n",
       "  </thead>\n",
       "  <tbody>\n",
       "    <tr>\n",
       "      <th>0</th>\n",
       "      <td>led inventor and employer settle for $8.1m  2005</td>\n",
       "      <td>nytimes</td>\n",
       "    </tr>\n",
       "    <tr>\n",
       "      <th>1</th>\n",
       "      <td>yc-backed photo-sharing service picplum loses ...</td>\n",
       "      <td>techcrunch</td>\n",
       "    </tr>\n",
       "    <tr>\n",
       "      <th>2</th>\n",
       "      <td>as facebook turns 10  zuckerberg wants to chan...</td>\n",
       "      <td>nytimes</td>\n",
       "    </tr>\n",
       "    <tr>\n",
       "      <th>3</th>\n",
       "      <td>6 big healthtech ideas that will change medici...</td>\n",
       "      <td>techcrunch</td>\n",
       "    </tr>\n",
       "    <tr>\n",
       "      <th>4</th>\n",
       "      <td>building the prince of persia sources to creat...</td>\n",
       "      <td>github</td>\n",
       "    </tr>\n",
       "  </tbody>\n",
       "</table>\n",
       "</div>"
      ],
      "text/plain": [
       "                                               title      source\n",
       "0  led inventor and employer settle for $8.1m  2005      nytimes\n",
       "1  yc-backed photo-sharing service picplum loses ...  techcrunch\n",
       "2  as facebook turns 10  zuckerberg wants to chan...     nytimes\n",
       "3  6 big healthtech ideas that will change medici...  techcrunch\n",
       "4  building the prince of persia sources to creat...      github"
      ]
     },
     "execution_count": 8,
     "metadata": {},
     "output_type": "execute_result"
    }
   ],
   "source": [
    "DATASET_NAME = \"titles_full.csv\"\n",
    "COLUMNS = ['title', 'source']\n",
    "\n",
    "titles_df = pd.read_csv(DATASET_NAME, header=None, names=COLUMNS)\n",
    "titles_df.head()"
   ]
  },
  {
   "cell_type": "markdown",
   "metadata": {},
   "source": [
    " We one-hot encode the label..."
   ]
  },
  {
   "cell_type": "code",
   "execution_count": 9,
   "metadata": {},
   "outputs": [],
   "source": [
    "CLASSES = {\n",
    "    'github': 0,\n",
    "    'nytimes': 1,\n",
    "    'techcrunch': 2\n",
    "}\n",
    "N_CLASSES = len(CLASSES)"
   ]
  },
  {
   "cell_type": "code",
   "execution_count": 10,
   "metadata": {},
   "outputs": [],
   "source": [
    "def encode_labels(sources):\n",
    "    classes = [CLASSES[source] for source in sources]\n",
    "    one_hots = to_categorical(classes, num_classes=N_CLASSES)\n",
    "    return one_hots"
   ]
  },
  {
   "cell_type": "code",
   "execution_count": 11,
   "metadata": {},
   "outputs": [
    {
     "data": {
      "text/plain": [
       "array([[0., 1., 0.],\n",
       "       [0., 0., 1.],\n",
       "       [0., 1., 0.],\n",
       "       [0., 0., 1.]], dtype=float32)"
      ]
     },
     "execution_count": 11,
     "metadata": {},
     "output_type": "execute_result"
    }
   ],
   "source": [
    "encode_labels(titles_df.source[:4])"
   ]
  },
  {
   "cell_type": "markdown",
   "metadata": {},
   "source": [
    "...and create a train/test split."
   ]
  },
  {
   "cell_type": "code",
   "execution_count": 12,
   "metadata": {},
   "outputs": [],
   "source": [
    "N_TRAIN = int(len(titles_df) * 0.80)\n",
    "\n",
    "titles_train, sources_train = (\n",
    "    titles_df.title[:N_TRAIN], titles_df.source[:N_TRAIN])\n",
    "\n",
    "titles_valid, sources_valid = (\n",
    "    titles_df.title[N_TRAIN:], titles_df.source[N_TRAIN:])"
   ]
  },
  {
   "cell_type": "code",
   "execution_count": 13,
   "metadata": {},
   "outputs": [],
   "source": [
    "X_train, Y_train = titles_train.values, encode_labels(sources_train)\n",
    "X_valid, Y_valid = titles_valid.values, encode_labels(sources_valid)"
   ]
  },
  {
   "cell_type": "code",
   "execution_count": 14,
   "metadata": {},
   "outputs": [
    {
     "data": {
      "text/plain": [
       "array(['led inventor and employer settle for $8.1m  2005 ',\n",
       "       'yc-backed photo-sharing service picplum loses one co-founder',\n",
       "       'as facebook turns 10  zuckerberg wants to change how tech industry works'],\n",
       "      dtype=object)"
      ]
     },
     "execution_count": 14,
     "metadata": {},
     "output_type": "execute_result"
    }
   ],
   "source": [
    "X_train[:3]"
   ]
  },
  {
   "cell_type": "markdown",
   "metadata": {},
   "source": [
    "### Swivel Model\n",
    "\n",
    "We'll build a simple text classification model using a Tensorflow Hub embedding module derived from Swivel. [Swivel](https://arxiv.org/abs/1602.02215) is an algorithm that essentially factorizes word co-occurrence matrices to create the words embeddings. \n",
    "TF-Hub hosts the pretrained [gnews-swivel-20dim-with-oov](https://tfhub.dev/google/tf2-preview/gnews-swivel-20dim-with-oov/1) 20-dimensional Swivel module."
   ]
  },
  {
   "cell_type": "code",
   "execution_count": 15,
   "metadata": {},
   "outputs": [],
   "source": [
    "SWIVEL = \"https://tfhub.dev/google/tf2-preview/gnews-swivel-20dim-with-oov/1\"\n",
    "swivel_module = KerasLayer(SWIVEL, output_shape=[20], input_shape=[], dtype=tf.string, trainable=True)"
   ]
  },
  {
   "cell_type": "markdown",
   "metadata": {},
   "source": [
    "The `build_model` function is written so that the TF Hub module can easily be exchanged with another module."
   ]
  },
  {
   "cell_type": "code",
   "execution_count": 16,
   "metadata": {},
   "outputs": [],
   "source": [
    "def build_model(hub_module, model_name):\n",
    "    inputs = Input(shape=[], dtype=tf.string, name=\"text\")\n",
    "    module = hub_module(inputs)\n",
    "    h1 = Dense(16, activation='relu', name=\"h1\")(module)\n",
    "    outputs = Dense(N_CLASSES, activation='softmax', name='outputs')(h1)\n",
    "    model = Model(inputs=inputs, outputs=[outputs], name=model_name)\n",
    "    \n",
    "    model.compile(\n",
    "        optimizer='adam',\n",
    "        loss='categorical_crossentropy',\n",
    "        metrics=['accuracy']\n",
    "    )\n",
    "    return model"
   ]
  },
  {
   "cell_type": "code",
   "execution_count": 17,
   "metadata": {},
   "outputs": [],
   "source": [
    "def train_and_evaluate(train_data, val_data, model, batch_size=5000):\n",
    "    tf.random.set_seed(33)    \n",
    "    X_train, Y_train = train_data\n",
    "\n",
    "    history = model.fit(\n",
    "        X_train, Y_train,\n",
    "        epochs=100,\n",
    "        batch_size=batch_size,\n",
    "        validation_data=val_data,\n",
    "        callbacks=[EarlyStopping()],\n",
    "    )\n",
    "    return history"
   ]
  },
  {
   "cell_type": "code",
   "execution_count": 18,
   "metadata": {},
   "outputs": [],
   "source": [
    "txtcls_model = build_model(swivel_module, model_name='txtcls_swivel')"
   ]
  },
  {
   "cell_type": "code",
   "execution_count": 19,
   "metadata": {},
   "outputs": [
    {
     "name": "stdout",
     "output_type": "stream",
     "text": [
      "Model: \"txtcls_swivel\"\n",
      "_________________________________________________________________\n",
      "Layer (type)                 Output Shape              Param #   \n",
      "=================================================================\n",
      "text (InputLayer)            [(None,)]                 0         \n",
      "_________________________________________________________________\n",
      "keras_layer (KerasLayer)     (None, 20)                389380    \n",
      "_________________________________________________________________\n",
      "h1 (Dense)                   (None, 16)                336       \n",
      "_________________________________________________________________\n",
      "outputs (Dense)              (None, 3)                 51        \n",
      "=================================================================\n",
      "Total params: 389,767\n",
      "Trainable params: 389,767\n",
      "Non-trainable params: 0\n",
      "_________________________________________________________________\n"
     ]
    }
   ],
   "source": [
    "txtcls_model.summary()"
   ]
  },
  {
   "cell_type": "markdown",
   "metadata": {},
   "source": [
    "### Train and evaluation the model\n",
    "With the model defined and data set up, next we'll train and evaluate the model."
   ]
  },
  {
   "cell_type": "code",
   "execution_count": 20,
   "metadata": {},
   "outputs": [],
   "source": [
    "# set up train and validation data\n",
    "train_data = (X_train, Y_train)\n",
    "val_data = (X_valid, Y_valid)"
   ]
  },
  {
   "cell_type": "markdown",
   "metadata": {},
   "source": [
    "For training we'll call `train_and_evaluate` on `txtcls_model`."
   ]
  },
  {
   "cell_type": "code",
   "execution_count": 21,
   "metadata": {},
   "outputs": [
    {
     "name": "stdout",
     "output_type": "stream",
     "text": [
      "Epoch 1/100\n",
      "16/16 [==============================] - 1s 45ms/step - loss: 1.3334 - accuracy: 0.3129 - val_loss: 1.2283 - val_accuracy: 0.3434\n",
      "Epoch 2/100\n",
      "16/16 [==============================] - 0s 30ms/step - loss: 1.1785 - accuracy: 0.3797 - val_loss: 1.1155 - val_accuracy: 0.4178\n",
      "Epoch 3/100\n",
      "16/16 [==============================] - 1s 34ms/step - loss: 1.0804 - accuracy: 0.4463 - val_loss: 1.0397 - val_accuracy: 0.4774\n",
      "Epoch 4/100\n",
      "16/16 [==============================] - 0s 29ms/step - loss: 1.0114 - accuracy: 0.4988 - val_loss: 0.9824 - val_accuracy: 0.5200\n",
      "Epoch 5/100\n",
      "16/16 [==============================] - 0s 29ms/step - loss: 0.9571 - accuracy: 0.5420 - val_loss: 0.9346 - val_accuracy: 0.5554\n",
      "Epoch 6/100\n",
      "16/16 [==============================] - 0s 30ms/step - loss: 0.9109 - accuracy: 0.5765 - val_loss: 0.8926 - val_accuracy: 0.5882\n",
      "Epoch 7/100\n",
      "16/16 [==============================] - 0s 31ms/step - loss: 0.8691 - accuracy: 0.6067 - val_loss: 0.8539 - val_accuracy: 0.6149\n",
      "Epoch 8/100\n",
      "16/16 [==============================] - 0s 29ms/step - loss: 0.8297 - accuracy: 0.6313 - val_loss: 0.8169 - val_accuracy: 0.6358\n",
      "Epoch 9/100\n",
      "16/16 [==============================] - 0s 30ms/step - loss: 0.7917 - accuracy: 0.6526 - val_loss: 0.7813 - val_accuracy: 0.6539\n",
      "Epoch 10/100\n",
      "16/16 [==============================] - 1s 34ms/step - loss: 0.7549 - accuracy: 0.6729 - val_loss: 0.7475 - val_accuracy: 0.6711\n",
      "Epoch 11/100\n",
      "16/16 [==============================] - 1s 31ms/step - loss: 0.7198 - accuracy: 0.6902 - val_loss: 0.7160 - val_accuracy: 0.6870\n",
      "Epoch 12/100\n",
      "16/16 [==============================] - 0s 31ms/step - loss: 0.6869 - accuracy: 0.7059 - val_loss: 0.6869 - val_accuracy: 0.7031\n",
      "Epoch 13/100\n",
      "16/16 [==============================] - 0s 30ms/step - loss: 0.6566 - accuracy: 0.7204 - val_loss: 0.6608 - val_accuracy: 0.7160\n",
      "Epoch 14/100\n",
      "16/16 [==============================] - 0s 29ms/step - loss: 0.6292 - accuracy: 0.7327 - val_loss: 0.6376 - val_accuracy: 0.7266\n",
      "Epoch 15/100\n",
      "16/16 [==============================] - 0s 30ms/step - loss: 0.6048 - accuracy: 0.7434 - val_loss: 0.6173 - val_accuracy: 0.7342\n",
      "Epoch 16/100\n",
      "16/16 [==============================] - 0s 30ms/step - loss: 0.5829 - accuracy: 0.7542 - val_loss: 0.5996 - val_accuracy: 0.7412\n",
      "Epoch 17/100\n",
      "16/16 [==============================] - 0s 30ms/step - loss: 0.5635 - accuracy: 0.7634 - val_loss: 0.5843 - val_accuracy: 0.7486\n",
      "Epoch 18/100\n",
      "16/16 [==============================] - 1s 32ms/step - loss: 0.5461 - accuracy: 0.7716 - val_loss: 0.5711 - val_accuracy: 0.7543\n",
      "Epoch 19/100\n",
      "16/16 [==============================] - 0s 31ms/step - loss: 0.5306 - accuracy: 0.7788 - val_loss: 0.5593 - val_accuracy: 0.7585\n",
      "Epoch 20/100\n",
      "16/16 [==============================] - 0s 29ms/step - loss: 0.5166 - accuracy: 0.7854 - val_loss: 0.5492 - val_accuracy: 0.7636\n",
      "Epoch 21/100\n",
      "16/16 [==============================] - 0s 29ms/step - loss: 0.5037 - accuracy: 0.7914 - val_loss: 0.5403 - val_accuracy: 0.7692\n",
      "Epoch 22/100\n",
      "16/16 [==============================] - 0s 30ms/step - loss: 0.4921 - accuracy: 0.7969 - val_loss: 0.5321 - val_accuracy: 0.7738\n",
      "Epoch 23/100\n",
      "16/16 [==============================] - 0s 31ms/step - loss: 0.4812 - accuracy: 0.8023 - val_loss: 0.5250 - val_accuracy: 0.7768\n",
      "Epoch 24/100\n",
      "16/16 [==============================] - 0s 31ms/step - loss: 0.4711 - accuracy: 0.8067 - val_loss: 0.5186 - val_accuracy: 0.7793\n",
      "Epoch 25/100\n",
      "16/16 [==============================] - 1s 33ms/step - loss: 0.4617 - accuracy: 0.8109 - val_loss: 0.5129 - val_accuracy: 0.7814\n",
      "Epoch 26/100\n",
      "16/16 [==============================] - 0s 30ms/step - loss: 0.4529 - accuracy: 0.8148 - val_loss: 0.5077 - val_accuracy: 0.7849\n",
      "Epoch 27/100\n",
      "16/16 [==============================] - 0s 30ms/step - loss: 0.4446 - accuracy: 0.8184 - val_loss: 0.5032 - val_accuracy: 0.7882\n",
      "Epoch 28/100\n",
      "16/16 [==============================] - 0s 30ms/step - loss: 0.4367 - accuracy: 0.8217 - val_loss: 0.4990 - val_accuracy: 0.7910\n",
      "Epoch 29/100\n",
      "16/16 [==============================] - 0s 30ms/step - loss: 0.4294 - accuracy: 0.8253 - val_loss: 0.4954 - val_accuracy: 0.7934\n",
      "Epoch 30/100\n",
      "16/16 [==============================] - 0s 30ms/step - loss: 0.4224 - accuracy: 0.8285 - val_loss: 0.4923 - val_accuracy: 0.7953\n",
      "Epoch 31/100\n",
      "16/16 [==============================] - 0s 30ms/step - loss: 0.4158 - accuracy: 0.8321 - val_loss: 0.4893 - val_accuracy: 0.7964\n",
      "Epoch 32/100\n",
      "16/16 [==============================] - 1s 37ms/step - loss: 0.4095 - accuracy: 0.8348 - val_loss: 0.4868 - val_accuracy: 0.7978\n",
      "Epoch 33/100\n",
      "16/16 [==============================] - 1s 33ms/step - loss: 0.4036 - accuracy: 0.8377 - val_loss: 0.4847 - val_accuracy: 0.7990\n",
      "Epoch 34/100\n",
      "16/16 [==============================] - 0s 29ms/step - loss: 0.3980 - accuracy: 0.8401 - val_loss: 0.4827 - val_accuracy: 0.8004\n",
      "Epoch 35/100\n",
      "16/16 [==============================] - 0s 30ms/step - loss: 0.3927 - accuracy: 0.8420 - val_loss: 0.4814 - val_accuracy: 0.8007\n",
      "Epoch 36/100\n",
      "16/16 [==============================] - 0s 29ms/step - loss: 0.3876 - accuracy: 0.8447 - val_loss: 0.4800 - val_accuracy: 0.8020\n",
      "Epoch 37/100\n",
      "16/16 [==============================] - 0s 29ms/step - loss: 0.3828 - accuracy: 0.8471 - val_loss: 0.4791 - val_accuracy: 0.8022\n",
      "Epoch 38/100\n",
      "16/16 [==============================] - 0s 29ms/step - loss: 0.3782 - accuracy: 0.8487 - val_loss: 0.4780 - val_accuracy: 0.8038\n",
      "Epoch 39/100\n",
      "16/16 [==============================] - 1s 32ms/step - loss: 0.3738 - accuracy: 0.8505 - val_loss: 0.4775 - val_accuracy: 0.8029\n",
      "Epoch 40/100\n",
      "16/16 [==============================] - 1s 32ms/step - loss: 0.3697 - accuracy: 0.8521 - val_loss: 0.4769 - val_accuracy: 0.8033\n",
      "Epoch 41/100\n",
      "16/16 [==============================] - 0s 29ms/step - loss: 0.3657 - accuracy: 0.8540 - val_loss: 0.4767 - val_accuracy: 0.8041\n",
      "Epoch 42/100\n",
      "16/16 [==============================] - 0s 29ms/step - loss: 0.3619 - accuracy: 0.8561 - val_loss: 0.4768 - val_accuracy: 0.8047\n"
     ]
    }
   ],
   "source": [
    "txtcls_history = train_and_evaluate(train_data, val_data, txtcls_model)"
   ]
  },
  {
   "cell_type": "code",
   "execution_count": 22,
   "metadata": {},
   "outputs": [
    {
     "data": {
      "text/plain": [
       "<matplotlib.axes._subplots.AxesSubplot at 0x7f7af06f7c10>"
      ]
     },
     "execution_count": 22,
     "metadata": {},
     "output_type": "execute_result"
    },
    {
     "data": {
      "image/png": "[encoded data removed]",
      "text/plain": [
       "<Figure size 432x288 with 1 Axes>"
      ]
     },
     "metadata": {
      "needs_background": "light"
     },
     "output_type": "display_data"
    },
    {
     "data": {
      "image/png": "[encoded data removed]",
      "text/plain": [
       "<Figure size 432x288 with 1 Axes>"
      ]
     },
     "metadata": {
      "needs_background": "light"
     },
     "output_type": "display_data"
    }
   ],
   "source": [
    "history = txtcls_history\n",
    "pd.DataFrame(history.history)[['loss', 'val_loss']].plot()\n",
    "pd.DataFrame(history.history)[['accuracy', 'val_accuracy']].plot()"
   ]
  },
  {
   "cell_type": "markdown",
   "metadata": {},
   "source": [
    "Calling predicition from model head produces output from final dense layer. This final layer is used to compute categorical cross-entropy when training. "
   ]
  },
  {
   "cell_type": "code",
   "execution_count": 23,
   "metadata": {},
   "outputs": [
    {
     "data": {
      "text/plain": [
       "array([[0.81729865, 0.02749203, 0.1552093 ]], dtype=float32)"
      ]
     },
     "execution_count": 23,
     "metadata": {},
     "output_type": "execute_result"
    }
   ],
   "source": [
    "txtcls_model.predict(x=[\"YouTube introduces Video Chapters to make it easier to navigate longer videos\"])"
   ]
  },
  {
   "cell_type": "markdown",
   "metadata": {},
   "source": [
    "We can save the model artifacts in the local directory called `./txtcls_swivel`."
   ]
  },
  {
   "cell_type": "code",
   "execution_count": 24,
   "metadata": {},
   "outputs": [
    {
     "name": "stdout",
     "output_type": "stream",
     "text": [
      "WARNING:tensorflow:From /opt/conda/lib/python3.7/site-packages/tensorflow/python/ops/resource_variable_ops.py:1817: calling BaseResourceVariable.__init__ (from tensorflow.python.ops.resource_variable_ops) with constraint is deprecated and will be removed in a future version.\n",
      "Instructions for updating:\n",
      "If using Keras pass *_constraint arguments to layers.\n"
     ]
    },
    {
     "name": "stderr",
     "output_type": "stream",
     "text": [
      "WARNING:tensorflow:From /opt/conda/lib/python3.7/site-packages/tensorflow/python/ops/resource_variable_ops.py:1817: calling BaseResourceVariable.__init__ (from tensorflow.python.ops.resource_variable_ops) with constraint is deprecated and will be removed in a future version.\n",
      "Instructions for updating:\n",
      "If using Keras pass *_constraint arguments to layers.\n"
     ]
    },
    {
     "name": "stdout",
     "output_type": "stream",
     "text": [
      "INFO:tensorflow:Assets written to: ./txtcls_swivel/assets\n"
     ]
    },
    {
     "name": "stderr",
     "output_type": "stream",
     "text": [
      "INFO:tensorflow:Assets written to: ./txtcls_swivel/assets\n"
     ]
    }
   ],
   "source": [
    "tf.saved_model.save(txtcls_model, './txtcls_swivel/')"
   ]
  },
  {
   "cell_type": "markdown",
   "metadata": {},
   "source": [
    "....and examine the model's serving default signature. As expected the model takes as input a text string (e.g. an article title) and retrns a 3-dimensional vector of floats (i.e. the softmax output layer)."
   ]
  },
  {
   "cell_type": "code",
   "execution_count": 25,
   "metadata": {},
   "outputs": [
    {
     "name": "stdout",
     "output_type": "stream",
     "text": [
      "The given SavedModel SignatureDef contains the following input(s):\n",
      "  inputs['text'] tensor_info:\n",
      "      dtype: DT_STRING\n",
      "      shape: (-1)\n",
      "      name: serving_default_text:0\n",
      "The given SavedModel SignatureDef contains the following output(s):\n",
      "  outputs['outputs'] tensor_info:\n",
      "      dtype: DT_FLOAT\n",
      "      shape: (-1, 3)\n",
      "      name: StatefulPartitionedCall_2:0\n",
      "Method name is: tensorflow/serving/predict\n"
     ]
    }
   ],
   "source": [
    "!saved_model_cli show \\\n",
    " --tag_set serve \\\n",
    " --signature_def serving_default \\\n",
    " --dir ./txtcls_swivel/"
   ]
  },
  {
   "cell_type": "markdown",
   "metadata": {},
   "source": [
    "To simplify the returned predictions, we'll modify the model signature so that the model outputs the predicted article source (either `nytimes`, `techcrunch`, or `github`) rather than the final softmax layer. We'll also return the 'confidence' of the model's prediction. This will be the softmax value corresonding to the predicted article source."
   ]
  },
  {
   "cell_type": "code",
   "execution_count": 32,
   "metadata": {},
   "outputs": [],
   "source": [
    "@tf.function(input_signature=[tf.TensorSpec([None], dtype=tf.string)])\n",
    "def source_name(text):\n",
    "    labels = tf.constant(['github', 'nytimes', 'techcrunch'], dtype=tf.string)\n",
    "    probs = txtcls_model(text, training=False)\n",
    "    indices = tf.argmax(probs, axis=1)\n",
    "    pred_source = tf.gather(params=labels, indices=indices)\n",
    "    pred_confidence = tf.reduce_max(probs, axis=1)\n",
    "    \n",
    "    return {'source': pred_source,\n",
    "            'confidence': pred_confidence}"
   ]
  },
  {
   "cell_type": "markdown",
   "metadata": {},
   "source": [
    "Now, we'll re-save the new Swivel model that has this updated model signature by referencing the `source_name` function for the model's `serving_default`."
   ]
  },
  {
   "cell_type": "code",
   "execution_count": 33,
   "metadata": {},
   "outputs": [
    {
     "name": "stdout",
     "output_type": "stream",
     "text": [
      "INFO:tensorflow:Assets written to: ./txtcls_swivel/assets\n"
     ]
    },
    {
     "name": "stderr",
     "output_type": "stream",
     "text": [
      "INFO:tensorflow:Assets written to: ./txtcls_swivel/assets\n"
     ]
    }
   ],
   "source": [
    "shutil.rmtree('./txtcls_swivel', ignore_errors=True)\n",
    "txtcls_model.save('./txtcls_swivel', signatures={'serving_default': source_name})"
   ]
  },
  {
   "cell_type": "markdown",
   "metadata": {},
   "source": [
    "Examine the model signature to confirm the changes:"
   ]
  },
  {
   "cell_type": "code",
   "execution_count": 34,
   "metadata": {},
   "outputs": [
    {
     "name": "stdout",
     "output_type": "stream",
     "text": [
      "The given SavedModel SignatureDef contains the following input(s):\n",
      "  inputs['text'] tensor_info:\n",
      "      dtype: DT_STRING\n",
      "      shape: (-1)\n",
      "      name: serving_default_text:0\n",
      "The given SavedModel SignatureDef contains the following output(s):\n",
      "  outputs['confidence'] tensor_info:\n",
      "      dtype: DT_FLOAT\n",
      "      shape: (-1)\n",
      "      name: StatefulPartitionedCall_2:0\n",
      "  outputs['source'] tensor_info:\n",
      "      dtype: DT_STRING\n",
      "      shape: (-1)\n",
      "      name: StatefulPartitionedCall_2:1\n",
      "Method name is: tensorflow/serving/predict\n"
     ]
    }
   ],
   "source": [
    "!saved_model_cli show \\\n",
    " --tag_set serve \\\n",
    " --signature_def serving_default \\\n",
    " --dir ./txtcls_swivel/"
   ]
  },
  {
   "cell_type": "markdown",
   "metadata": {},
   "source": [
    "Now when we call predictions using the updated serving input function, the model will return the predicted article source as a readable string, and the model's confidence for that prediction."
   ]
  },
  {
   "cell_type": "code",
   "execution_count": 37,
   "metadata": {},
   "outputs": [],
   "source": [
    "title1 = \"House Passes Sweeping Policing Bill Targeting Racial Bias and Use of Force\"\n",
    "title2 = \"YouTube introduces Video Chapters to make it easier to navigate longer videos\"\n",
    "title3 = \"As facebook turns 10  zuckerberg wants to change how tech industry works\"\n",
    "\n",
    "restored = tf.keras.models.load_model('./txtcls_swivel')\n",
    "infer = restored.signatures['serving_default']\n",
    "outputs = infer(text=tf.constant([title1, title2, title3]))"
   ]
  },
  {
   "cell_type": "code",
   "execution_count": 38,
   "metadata": {},
   "outputs": [
    {
     "name": "stdout",
     "output_type": "stream",
     "text": [
      "[b'github' b'github' b'techcrunch']\n",
      "[0.9840866 0.8172988 0.9124565]\n"
     ]
    }
   ],
   "source": [
    "print(outputs['source'].numpy())\n",
    "print(outputs['confidence'].numpy())"
   ]
  },
  {
   "cell_type": "markdown",
   "metadata": {},
   "source": [
    "### Deploy the model for online serving\n",
    "\n",
    "Once the model is trained and the assets saved, deploying the model to GCP is straightforward. After some time you should be able to see your deployed model and its version on the [model page of GCP console](https://console.cloud.google.com/ai-platform/models)."
   ]
  },
  {
   "cell_type": "code",
   "execution_count": 40,
   "metadata": {},
   "outputs": [
    {
     "name": "stderr",
     "output_type": "stream",
     "text": [
      "Using endpoint [https://ml.googleapis.com/]\n",
      "WARNING: Please explicitly specify a region. Using [us-central1] by default on https://ml.googleapis.com. Please note that your model will be inaccessible from https://us-central1-ml.googelapis.com\n",
      "\n",
      "Learn more about regional endpoints and see a list of available regions: https://cloud.google.com/ai-platform/prediction/docs/regional-endpoints\n",
      "Created ml engine model [projects/munn-sandbox/models/txtcls_mm].\n",
      "Using endpoint [https://ml.googleapis.com/]\n",
      "Creating version (this might take a few minutes)......\n",
      "...................................................................................................................................................................................................................................................................................................................................................................................................................................................................................................................................................done.\n"
     ]
    }
   ],
   "source": [
    "%%bash\n",
    "MODEL_NAME=\"txtcls\"\n",
    "MODEL_VERSION=\"swivel\"\n",
    "MODEL_LOCATION=\"./txtcls_swivel/\"\n",
    "\n",
    "gcloud ai-platform models create ${MODEL_NAME}\n",
    "\n",
    "gcloud ai-platform versions create ${MODEL_VERSION} \\\n",
    "--model ${MODEL_NAME} \\\n",
    "--origin ${MODEL_LOCATION} \\\n",
    "--staging-bucket gs://${BUCKET} \\\n",
    "--runtime-version=2.1"
   ]
  },
  {
   "cell_type": "markdown",
   "metadata": {},
   "source": [
    "## Set up the Evaluation job on CAIP\n",
    "\n",
    "Now that the model is deployed, go to [Cloud AI Platform](https://console.cloud.google.com/ai-platform/models/txtcls/versions) to see the model version you've deployed and [set up an evaluation job](https://console.cloud.google.com/ai-platform/models/txtcls/versions/swivel/evaluation) by clicking on the button called \"Create Evaluation Job\". You will be asked to provide some relevant information:\n",
    " - Job description: txtcls_swivel_eval\n",
    " - Model objective: text classification\n",
    " - Classification type: single-label classification\n",
    " - Prediction label file path for the annotation specification set: When you create an evaluation job on CAIP, you must specify a CSV file that defines your annotation specification set. This file must have one row for every possible label your model outputs during prediction. Each row should be a comma-separated pair containing the label and a description of the label: label-name,description\n",
    " - Daily sample percentage: We'll set this to 100% so that all online predicitons are captured for evaluation.\n",
    " - BigQuery table to house online prediction requests: We'll use the BQ dataset and table `txtcls_eval.swivel`. If you enter a BigQuery table that doesn’t exist, one with that name will be created with the correct schema. \n",
    " - Prediction input\n",
    "     - Data key: this is The key for the raw prediction data. From examining our deployed model signature, the input data key is `text`.\n",
    "     - Data reference key: this is for image models, so we can ignore\n",
    " - Prediction output\n",
    "     - Prediction labels key: This is the prediction key which contains the predicted label (i.e. the article source). For our model, the label key is `source`.\n",
    "     - Prediction score key: This is the prediction key which contains the predicted scores (i.e. the model confidence). For our model, the score key is `confidence`.\n",
    " - Ground-truth method: Check the box that indicates we will provide our own labels, and not use a Human data labeling service.\n",
    " "
   ]
  },
  {
   "cell_type": "markdown",
   "metadata": {},
   "source": [
    "Once the evaluation job is set up, the table will be made in BigQuery to capture the online prediction requests. "
   ]
  },
  {
   "cell_type": "code",
   "execution_count": 70,
   "metadata": {},
   "outputs": [
    {
     "name": "stdout",
     "output_type": "stream",
     "text": [
      "The google.cloud.bigquery extension is already loaded. To reload it, use:\n",
      "  %reload_ext google.cloud.bigquery\n"
     ]
    }
   ],
   "source": [
    "%load_ext google.cloud.bigquery"
   ]
  },
  {
   "cell_type": "code",
   "execution_count": 99,
   "metadata": {},
   "outputs": [
    {
     "data": {
      "text/html": [
       "<div>\n",
       "<style scoped>\n",
       "    .dataframe tbody tr th:only-of-type {\n",
       "        vertical-align: middle;\n",
       "    }\n",
       "\n",
       "    .dataframe tbody tr th {\n",
       "        vertical-align: top;\n",
       "    }\n",
       "\n",
       "    .dataframe thead th {\n",
       "        text-align: right;\n",
       "    }\n",
       "</style>\n",
       "<table border=\"1\" class=\"dataframe\">\n",
       "  <thead>\n",
       "    <tr style=\"text-align: right;\">\n",
       "      <th></th>\n",
       "      <th>model</th>\n",
       "      <th>model_version</th>\n",
       "      <th>time</th>\n",
       "      <th>raw_data</th>\n",
       "      <th>raw_prediction</th>\n",
       "      <th>groundtruth</th>\n",
       "    </tr>\n",
       "  </thead>\n",
       "  <tbody>\n",
       "  </tbody>\n",
       "</table>\n",
       "</div>"
      ],
      "text/plain": [
       "Empty DataFrame\n",
       "Columns: [model, model_version, time, raw_data, raw_prediction, groundtruth]\n",
       "Index: []"
      ]
     },
     "execution_count": 99,
     "metadata": {},
     "output_type": "execute_result"
    }
   ],
   "source": [
    "%%bigquery --project $PROJECT\n",
    "SELECT * FROM `txtcls_eval.swivel`"
   ]
  },
  {
   "cell_type": "markdown",
   "metadata": {},
   "source": [
    "Now, every time this model version receives an online prediction request, this information will be captured and stored in the BQ table. Note, this happens everytime because we set the sampling proportion to 100%. "
   ]
  },
  {
   "cell_type": "markdown",
   "metadata": {},
   "source": [
    "## Send prediction requests to your model"
   ]
  },
  {
   "cell_type": "markdown",
   "metadata": {},
   "source": [
    "Here are some article titles and their groundtruth sources that we can test with prediciton.\n",
    "\n",
    "| title  | groundtruth  |\n",
    "|---|---|\n",
    "| YouTube introduces Video Chapters to make it easier to navigate longer videos  |  techcrunch |\n",
    "| A Filmmaker Put Away for Tax Fraud Takes Us Inside a British Prison | nytimes |\n",
    "| A native Mac app wrapper for WhatsApp Web | github |\n",
    "| Astronauts Dock With Space Station After Historic SpaceX Launch | nytimes |\n",
    "| House Passes Sweeping Policing Bill Targeting Racial Bias and Use of Force | nytimes |\n",
    "| Scrollability | github |\n",
    "| iOS 14 lets deaf users set alerts for important sounds, among other clever accessibility perks | techcrunch |"
   ]
  },
  {
   "cell_type": "code",
   "execution_count": 100,
   "metadata": {},
   "outputs": [
    {
     "name": "stdout",
     "output_type": "stream",
     "text": [
      "Overwriting input.json\n"
     ]
    }
   ],
   "source": [
    "%%writefile input.json\n",
    "{\"text\": \"YouTube introduces Video Chapters to make it easier to navigate longer videos\"}"
   ]
  },
  {
   "cell_type": "code",
   "execution_count": 101,
   "metadata": {},
   "outputs": [
    {
     "name": "stdout",
     "output_type": "stream",
     "text": [
      "CONFIDENCE  SOURCE\n",
      "0.512727    techcrunch\n"
     ]
    }
   ],
   "source": [
    "!gcloud ai-platform predict \\\n",
    "  --model txtcls \\\n",
    "  --json-instances input.json \\\n",
    "  --version swivel"
   ]
  },
  {
   "cell_type": "code",
   "execution_count": 102,
   "metadata": {},
   "outputs": [
    {
     "name": "stdout",
     "output_type": "stream",
     "text": [
      "Overwriting input.json\n"
     ]
    }
   ],
   "source": [
    "%%writefile input.json\n",
    "{\"text\": \"A Filmmaker Put Away for Tax Fraud Takes Us Inside a British Prison\"}"
   ]
  },
  {
   "cell_type": "code",
   "execution_count": 103,
   "metadata": {},
   "outputs": [
    {
     "name": "stdout",
     "output_type": "stream",
     "text": [
      "CONFIDENCE  SOURCE\n",
      "0.429436    techcrunch\n"
     ]
    }
   ],
   "source": [
    "!gcloud ai-platform predict \\\n",
    "  --model txtcls \\\n",
    "  --json-instances input.json \\\n",
    "  --version swivel"
   ]
  },
  {
   "cell_type": "code",
   "execution_count": 104,
   "metadata": {},
   "outputs": [
    {
     "name": "stdout",
     "output_type": "stream",
     "text": [
      "Overwriting input.json\n"
     ]
    }
   ],
   "source": [
    "%%writefile input.json\n",
    "{\"text\": \"A native Mac app wrapper for WhatsApp Web\"}"
   ]
  },
  {
   "cell_type": "code",
   "execution_count": 105,
   "metadata": {},
   "outputs": [
    {
     "name": "stdout",
     "output_type": "stream",
     "text": [
      "CONFIDENCE  SOURCE\n",
      "0.482146    techcrunch\n"
     ]
    }
   ],
   "source": [
    "!gcloud ai-platform predict \\\n",
    "  --model txtcls \\\n",
    "  --json-instances input.json \\\n",
    "  --version swivel"
   ]
  },
  {
   "cell_type": "code",
   "execution_count": 106,
   "metadata": {},
   "outputs": [
    {
     "name": "stdout",
     "output_type": "stream",
     "text": [
      "Overwriting input.json\n"
     ]
    }
   ],
   "source": [
    "%%writefile input.json\n",
    "{\"text\": \"Astronauts Dock With Space Station After Historic SpaceX Launch\"}"
   ]
  },
  {
   "cell_type": "code",
   "execution_count": 107,
   "metadata": {},
   "outputs": [
    {
     "name": "stdout",
     "output_type": "stream",
     "text": [
      "CONFIDENCE  SOURCE\n",
      "0.516605    techcrunch\n"
     ]
    }
   ],
   "source": [
    "!gcloud ai-platform predict \\\n",
    "  --model txtcls \\\n",
    "  --json-instances input.json \\\n",
    "  --version swivel"
   ]
  },
  {
   "cell_type": "code",
   "execution_count": 108,
   "metadata": {},
   "outputs": [
    {
     "name": "stdout",
     "output_type": "stream",
     "text": [
      "Overwriting input.json\n"
     ]
    }
   ],
   "source": [
    "%%writefile input.json\n",
    "{\"text\": \"House Passes Sweeping Policing Bill Targeting Racial Bias and Use of Force\"}"
   ]
  },
  {
   "cell_type": "code",
   "execution_count": 109,
   "metadata": {},
   "outputs": [
    {
     "name": "stdout",
     "output_type": "stream",
     "text": [
      "CONFIDENCE  SOURCE\n",
      "0.524791    nytimes\n"
     ]
    }
   ],
   "source": [
    "!gcloud ai-platform predict \\\n",
    "  --model txtcls \\\n",
    "  --json-instances input.json \\\n",
    "  --version swivel"
   ]
  },
  {
   "cell_type": "code",
   "execution_count": 110,
   "metadata": {},
   "outputs": [
    {
     "name": "stdout",
     "output_type": "stream",
     "text": [
      "Overwriting input.json\n"
     ]
    }
   ],
   "source": [
    "%%writefile input.json\n",
    "{\"text\": \"Scrollability\"}"
   ]
  },
  {
   "cell_type": "code",
   "execution_count": 111,
   "metadata": {},
   "outputs": [
    {
     "name": "stdout",
     "output_type": "stream",
     "text": [
      "CONFIDENCE  SOURCE\n",
      "0.510411    techcrunch\n"
     ]
    }
   ],
   "source": [
    "!gcloud ai-platform predict \\\n",
    "  --model txtcls \\\n",
    "  --json-instances input.json \\\n",
    "  --version swivel"
   ]
  },
  {
   "cell_type": "code",
   "execution_count": 112,
   "metadata": {},
   "outputs": [
    {
     "name": "stdout",
     "output_type": "stream",
     "text": [
      "Overwriting input.json\n"
     ]
    }
   ],
   "source": [
    "%%writefile input.json\n",
    "{\"text\": \"iOS 14 lets deaf users set alerts for important sounds, among other clever accessibility perks\"}"
   ]
  },
  {
   "cell_type": "code",
   "execution_count": 113,
   "metadata": {},
   "outputs": [
    {
     "name": "stdout",
     "output_type": "stream",
     "text": [
      "CONFIDENCE  SOURCE\n",
      "0.484371    nytimes\n"
     ]
    }
   ],
   "source": [
    "!gcloud ai-platform predict \\\n",
    "  --model txtcls \\\n",
    "  --json-instances input.json \\\n",
    "  --version swivel"
   ]
  },
  {
   "cell_type": "markdown",
   "metadata": {},
   "source": [
    "Summarizing the results from our model:\n",
    "\n",
    "| title  | groundtruth  | predicted\n",
    "|---|---|---|\n",
    "| YouTube introduces Video Chapters to make it easier to navigate longer videos  |  techcrunch | techcrunch |\n",
    "| A Filmmaker Put Away for Tax Fraud Takes Us Inside a British Prison | nytimes | techcrunch |\n",
    "| A native Mac app wrapper for WhatsApp Web | github | techcrunch |\n",
    "| Astronauts Dock With Space Station After Historic SpaceX Launch | nytimes | techcrunch |\n",
    "| House Passes Sweeping Policing Bill Targeting Racial Bias and Use of Force | nytimes | nytimes |\n",
    "| Scrollability | github | techcrunch |\n",
    "| iOS 14 lets deaf users set alerts for important sounds, among other clever accessibility perks | techcrunch | nytimes |"
   ]
  },
  {
   "cell_type": "code",
   "execution_count": 115,
   "metadata": {},
   "outputs": [
    {
     "data": {
      "text/html": [
       "<div>\n",
       "<style scoped>\n",
       "    .dataframe tbody tr th:only-of-type {\n",
       "        vertical-align: middle;\n",
       "    }\n",
       "\n",
       "    .dataframe tbody tr th {\n",
       "        vertical-align: top;\n",
       "    }\n",
       "\n",
       "    .dataframe thead th {\n",
       "        text-align: right;\n",
       "    }\n",
       "</style>\n",
       "<table border=\"1\" class=\"dataframe\">\n",
       "  <thead>\n",
       "    <tr style=\"text-align: right;\">\n",
       "      <th></th>\n",
       "      <th>model</th>\n",
       "      <th>model_version</th>\n",
       "      <th>time</th>\n",
       "      <th>raw_data</th>\n",
       "      <th>raw_prediction</th>\n",
       "      <th>groundtruth</th>\n",
       "    </tr>\n",
       "  </thead>\n",
       "  <tbody>\n",
       "    <tr>\n",
       "      <th>0</th>\n",
       "      <td>txtcls</td>\n",
       "      <td>swivel</td>\n",
       "      <td>2020-06-26 03:15:21+00:00</td>\n",
       "      <td>{\"instances\": [{\"text\": \"House Passes Sweeping...</td>\n",
       "      <td>{\"predictions\": [{\"confidence\": 0.524790823459...</td>\n",
       "      <td>None</td>\n",
       "    </tr>\n",
       "    <tr>\n",
       "      <th>1</th>\n",
       "      <td>txtcls</td>\n",
       "      <td>swivel</td>\n",
       "      <td>2020-06-26 03:15:26+00:00</td>\n",
       "      <td>{\"instances\": [{\"text\": \"iOS 14 lets deaf user...</td>\n",
       "      <td>{\"predictions\": [{\"confidence\": 0.484371215105...</td>\n",
       "      <td>None</td>\n",
       "    </tr>\n",
       "    <tr>\n",
       "      <th>2</th>\n",
       "      <td>txtcls</td>\n",
       "      <td>swivel</td>\n",
       "      <td>2020-06-26 03:15:09+00:00</td>\n",
       "      <td>{\"instances\": [{\"text\": \"YouTube introduces Vi...</td>\n",
       "      <td>{\"predictions\": [{\"confidence\": 0.512727320194...</td>\n",
       "      <td>None</td>\n",
       "    </tr>\n",
       "    <tr>\n",
       "      <th>3</th>\n",
       "      <td>txtcls</td>\n",
       "      <td>swivel</td>\n",
       "      <td>2020-06-26 03:15:12+00:00</td>\n",
       "      <td>{\"instances\": [{\"text\": \"A Filmmaker Put Away ...</td>\n",
       "      <td>{\"predictions\": [{\"confidence\": 0.429436147212...</td>\n",
       "      <td>None</td>\n",
       "    </tr>\n",
       "    <tr>\n",
       "      <th>4</th>\n",
       "      <td>txtcls</td>\n",
       "      <td>swivel</td>\n",
       "      <td>2020-06-26 03:15:23+00:00</td>\n",
       "      <td>{\"instances\": [{\"text\": \"Scrollability\"}]}</td>\n",
       "      <td>{\"predictions\": [{\"confidence\": 0.510410726070...</td>\n",
       "      <td>None</td>\n",
       "    </tr>\n",
       "    <tr>\n",
       "      <th>5</th>\n",
       "      <td>txtcls</td>\n",
       "      <td>swivel</td>\n",
       "      <td>2020-06-26 03:15:15+00:00</td>\n",
       "      <td>{\"instances\": [{\"text\": \"A native Mac app wrap...</td>\n",
       "      <td>{\"predictions\": [{\"confidence\": 0.482146084308...</td>\n",
       "      <td>None</td>\n",
       "    </tr>\n",
       "    <tr>\n",
       "      <th>6</th>\n",
       "      <td>txtcls</td>\n",
       "      <td>swivel</td>\n",
       "      <td>2020-06-26 03:15:17+00:00</td>\n",
       "      <td>{\"instances\": [{\"text\": \"Astronauts Dock With ...</td>\n",
       "      <td>{\"predictions\": [{\"confidence\": 0.516605079174...</td>\n",
       "      <td>None</td>\n",
       "    </tr>\n",
       "  </tbody>\n",
       "</table>\n",
       "</div>"
      ],
      "text/plain": [
       "    model model_version                      time  \\\n",
       "0  txtcls        swivel 2020-06-26 03:15:21+00:00   \n",
       "1  txtcls        swivel 2020-06-26 03:15:26+00:00   \n",
       "2  txtcls        swivel 2020-06-26 03:15:09+00:00   \n",
       "3  txtcls        swivel 2020-06-26 03:15:12+00:00   \n",
       "4  txtcls        swivel 2020-06-26 03:15:23+00:00   \n",
       "5  txtcls        swivel 2020-06-26 03:15:15+00:00   \n",
       "6  txtcls        swivel 2020-06-26 03:15:17+00:00   \n",
       "\n",
       "                                            raw_data  \\\n",
       "0  {\"instances\": [{\"text\": \"House Passes Sweeping...   \n",
       "1  {\"instances\": [{\"text\": \"iOS 14 lets deaf user...   \n",
       "2  {\"instances\": [{\"text\": \"YouTube introduces Vi...   \n",
       "3  {\"instances\": [{\"text\": \"A Filmmaker Put Away ...   \n",
       "4         {\"instances\": [{\"text\": \"Scrollability\"}]}   \n",
       "5  {\"instances\": [{\"text\": \"A native Mac app wrap...   \n",
       "6  {\"instances\": [{\"text\": \"Astronauts Dock With ...   \n",
       "\n",
       "                                      raw_prediction groundtruth  \n",
       "0  {\"predictions\": [{\"confidence\": 0.524790823459...        None  \n",
       "1  {\"predictions\": [{\"confidence\": 0.484371215105...        None  \n",
       "2  {\"predictions\": [{\"confidence\": 0.512727320194...        None  \n",
       "3  {\"predictions\": [{\"confidence\": 0.429436147212...        None  \n",
       "4  {\"predictions\": [{\"confidence\": 0.510410726070...        None  \n",
       "5  {\"predictions\": [{\"confidence\": 0.482146084308...        None  \n",
       "6  {\"predictions\": [{\"confidence\": 0.516605079174...        None  "
      ]
     },
     "execution_count": 115,
     "metadata": {},
     "output_type": "execute_result"
    }
   ],
   "source": [
    "%%bigquery --project $PROJECT\n",
    "SELECT * FROM `txtcls_eval.swivel`"
   ]
  },
  {
   "cell_type": "markdown",
   "metadata": {},
   "source": [
    "## Provide the ground truth for the raw prediction input\n",
    "\n",
    "Notice the groundtruth is missing. We'll update the evaluation table to contain the ground truth."
   ]
  },
  {
   "cell_type": "code",
   "execution_count": 117,
   "metadata": {},
   "outputs": [
    {
     "data": {
      "text/html": [
       "<div>\n",
       "<style scoped>\n",
       "    .dataframe tbody tr th:only-of-type {\n",
       "        vertical-align: middle;\n",
       "    }\n",
       "\n",
       "    .dataframe tbody tr th {\n",
       "        vertical-align: top;\n",
       "    }\n",
       "\n",
       "    .dataframe thead th {\n",
       "        text-align: right;\n",
       "    }\n",
       "</style>\n",
       "<table border=\"1\" class=\"dataframe\">\n",
       "  <thead>\n",
       "    <tr style=\"text-align: right;\">\n",
       "      <th></th>\n",
       "    </tr>\n",
       "  </thead>\n",
       "  <tbody>\n",
       "  </tbody>\n",
       "</table>\n",
       "</div>"
      ],
      "text/plain": [
       "Empty DataFrame\n",
       "Columns: []\n",
       "Index: []"
      ]
     },
     "execution_count": 117,
     "metadata": {},
     "output_type": "execute_result"
    }
   ],
   "source": [
    "%%bigquery --project $PROJECT\n",
    "UPDATE `txtcls_eval.swivel`\n",
    "SET \n",
    "    groundtruth = '{\"predictions\": [{\"source\": \"techcrunch\"}]}'\n",
    "WHERE\n",
    "    raw_data = '{\"instances\": [{\"text\": \"YouTube introduces Video Chapters to make it easier to navigate longer videos\"}]}';"
   ]
  },
  {
   "cell_type": "code",
   "execution_count": 118,
   "metadata": {},
   "outputs": [
    {
     "data": {
      "text/html": [
       "<div>\n",
       "<style scoped>\n",
       "    .dataframe tbody tr th:only-of-type {\n",
       "        vertical-align: middle;\n",
       "    }\n",
       "\n",
       "    .dataframe tbody tr th {\n",
       "        vertical-align: top;\n",
       "    }\n",
       "\n",
       "    .dataframe thead th {\n",
       "        text-align: right;\n",
       "    }\n",
       "</style>\n",
       "<table border=\"1\" class=\"dataframe\">\n",
       "  <thead>\n",
       "    <tr style=\"text-align: right;\">\n",
       "      <th></th>\n",
       "    </tr>\n",
       "  </thead>\n",
       "  <tbody>\n",
       "  </tbody>\n",
       "</table>\n",
       "</div>"
      ],
      "text/plain": [
       "Empty DataFrame\n",
       "Columns: []\n",
       "Index: []"
      ]
     },
     "execution_count": 118,
     "metadata": {},
     "output_type": "execute_result"
    }
   ],
   "source": [
    "%%bigquery --project $PROJECT\n",
    "UPDATE `txtcls_eval.swivel`\n",
    "SET \n",
    "    groundtruth = '{\"predictions\": [{\"source\": \"nytimes\"}]}'\n",
    "WHERE\n",
    "    raw_data = '{\"instances\": [{\"text\": \"A Filmmaker Put Away for Tax Fraud Takes Us Inside a British Prison\"}]}';"
   ]
  },
  {
   "cell_type": "code",
   "execution_count": 125,
   "metadata": {},
   "outputs": [
    {
     "data": {
      "text/html": [
       "<div>\n",
       "<style scoped>\n",
       "    .dataframe tbody tr th:only-of-type {\n",
       "        vertical-align: middle;\n",
       "    }\n",
       "\n",
       "    .dataframe tbody tr th {\n",
       "        vertical-align: top;\n",
       "    }\n",
       "\n",
       "    .dataframe thead th {\n",
       "        text-align: right;\n",
       "    }\n",
       "</style>\n",
       "<table border=\"1\" class=\"dataframe\">\n",
       "  <thead>\n",
       "    <tr style=\"text-align: right;\">\n",
       "      <th></th>\n",
       "    </tr>\n",
       "  </thead>\n",
       "  <tbody>\n",
       "  </tbody>\n",
       "</table>\n",
       "</div>"
      ],
      "text/plain": [
       "Empty DataFrame\n",
       "Columns: []\n",
       "Index: []"
      ]
     },
     "execution_count": 125,
     "metadata": {},
     "output_type": "execute_result"
    }
   ],
   "source": [
    "%%bigquery --project $PROJECT\n",
    "UPDATE `txtcls_eval.swivel`\n",
    "SET \n",
    "    groundtruth = '{\"predictions\": [{\"source\": \"github\"}]}'\n",
    "WHERE\n",
    "    raw_data = '{\"instances\": [{\"text\": \"A native Mac app wrapper for WhatsApp Web\"}]}';"
   ]
  },
  {
   "cell_type": "code",
   "execution_count": 119,
   "metadata": {},
   "outputs": [
    {
     "data": {
      "text/html": [
       "<div>\n",
       "<style scoped>\n",
       "    .dataframe tbody tr th:only-of-type {\n",
       "        vertical-align: middle;\n",
       "    }\n",
       "\n",
       "    .dataframe tbody tr th {\n",
       "        vertical-align: top;\n",
       "    }\n",
       "\n",
       "    .dataframe thead th {\n",
       "        text-align: right;\n",
       "    }\n",
       "</style>\n",
       "<table border=\"1\" class=\"dataframe\">\n",
       "  <thead>\n",
       "    <tr style=\"text-align: right;\">\n",
       "      <th></th>\n",
       "    </tr>\n",
       "  </thead>\n",
       "  <tbody>\n",
       "  </tbody>\n",
       "</table>\n",
       "</div>"
      ],
      "text/plain": [
       "Empty DataFrame\n",
       "Columns: []\n",
       "Index: []"
      ]
     },
     "execution_count": 119,
     "metadata": {},
     "output_type": "execute_result"
    }
   ],
   "source": [
    "%%bigquery --project $PROJECT\n",
    "UPDATE `txtcls_eval.swivel`\n",
    "SET \n",
    "    groundtruth = '{\"predictions\": [{\"source\": \"nytimes\"}]}'\n",
    "WHERE\n",
    "    raw_data = '{\"instances\": [{\"text\": \"Astronauts Dock With Space Station After Historic SpaceX Launch\"}]}';"
   ]
  },
  {
   "cell_type": "code",
   "execution_count": 120,
   "metadata": {},
   "outputs": [
    {
     "data": {
      "text/html": [
       "<div>\n",
       "<style scoped>\n",
       "    .dataframe tbody tr th:only-of-type {\n",
       "        vertical-align: middle;\n",
       "    }\n",
       "\n",
       "    .dataframe tbody tr th {\n",
       "        vertical-align: top;\n",
       "    }\n",
       "\n",
       "    .dataframe thead th {\n",
       "        text-align: right;\n",
       "    }\n",
       "</style>\n",
       "<table border=\"1\" class=\"dataframe\">\n",
       "  <thead>\n",
       "    <tr style=\"text-align: right;\">\n",
       "      <th></th>\n",
       "    </tr>\n",
       "  </thead>\n",
       "  <tbody>\n",
       "  </tbody>\n",
       "</table>\n",
       "</div>"
      ],
      "text/plain": [
       "Empty DataFrame\n",
       "Columns: []\n",
       "Index: []"
      ]
     },
     "execution_count": 120,
     "metadata": {},
     "output_type": "execute_result"
    }
   ],
   "source": [
    "%%bigquery --project $PROJECT\n",
    "UPDATE `txtcls_eval.swivel`\n",
    "SET \n",
    "    groundtruth = '{\"predictions\": [{\"source\": \"nytimes\"}]}'\n",
    "WHERE\n",
    "    raw_data = '{\"instances\": [{\"text\": \"House Passes Sweeping Policing Bill Targeting Racial Bias and Use of Force\"}]}';"
   ]
  },
  {
   "cell_type": "code",
   "execution_count": 121,
   "metadata": {},
   "outputs": [
    {
     "data": {
      "text/html": [
       "<div>\n",
       "<style scoped>\n",
       "    .dataframe tbody tr th:only-of-type {\n",
       "        vertical-align: middle;\n",
       "    }\n",
       "\n",
       "    .dataframe tbody tr th {\n",
       "        vertical-align: top;\n",
       "    }\n",
       "\n",
       "    .dataframe thead th {\n",
       "        text-align: right;\n",
       "    }\n",
       "</style>\n",
       "<table border=\"1\" class=\"dataframe\">\n",
       "  <thead>\n",
       "    <tr style=\"text-align: right;\">\n",
       "      <th></th>\n",
       "    </tr>\n",
       "  </thead>\n",
       "  <tbody>\n",
       "  </tbody>\n",
       "</table>\n",
       "</div>"
      ],
      "text/plain": [
       "Empty DataFrame\n",
       "Columns: []\n",
       "Index: []"
      ]
     },
     "execution_count": 121,
     "metadata": {},
     "output_type": "execute_result"
    }
   ],
   "source": [
    "%%bigquery --project $PROJECT\n",
    "UPDATE `txtcls_eval.swivel`\n",
    "SET \n",
    "    groundtruth = '{\"predictions\": [{\"source\": \"github\"}]}'\n",
    "WHERE\n",
    "    raw_data = '{\"instances\": [{\"text\": \"Scrollability\"}]}';"
   ]
  },
  {
   "cell_type": "code",
   "execution_count": 122,
   "metadata": {},
   "outputs": [
    {
     "data": {
      "text/html": [
       "<div>\n",
       "<style scoped>\n",
       "    .dataframe tbody tr th:only-of-type {\n",
       "        vertical-align: middle;\n",
       "    }\n",
       "\n",
       "    .dataframe tbody tr th {\n",
       "        vertical-align: top;\n",
       "    }\n",
       "\n",
       "    .dataframe thead th {\n",
       "        text-align: right;\n",
       "    }\n",
       "</style>\n",
       "<table border=\"1\" class=\"dataframe\">\n",
       "  <thead>\n",
       "    <tr style=\"text-align: right;\">\n",
       "      <th></th>\n",
       "    </tr>\n",
       "  </thead>\n",
       "  <tbody>\n",
       "  </tbody>\n",
       "</table>\n",
       "</div>"
      ],
      "text/plain": [
       "Empty DataFrame\n",
       "Columns: []\n",
       "Index: []"
      ]
     },
     "execution_count": 122,
     "metadata": {},
     "output_type": "execute_result"
    }
   ],
   "source": [
    "%%bigquery --project $PROJECT\n",
    "UPDATE `txtcls_eval.swivel`\n",
    "SET \n",
    "    groundtruth = '{\"predictions\": [{\"source\": \"techcrunch\"}]}'\n",
    "WHERE\n",
    "    raw_data = '{\"instances\": [{\"text\": \"iOS 14 lets deaf users set alerts for important sounds, among other clever accessibility perks\"}]}';"
   ]
  },
  {
   "cell_type": "markdown",
   "metadata": {},
   "source": [
    "We can confirm that the ground truch has been properly added to the table. "
   ]
  },
  {
   "cell_type": "code",
   "execution_count": 126,
   "metadata": {},
   "outputs": [
    {
     "data": {
      "text/html": [
       "<div>\n",
       "<style scoped>\n",
       "    .dataframe tbody tr th:only-of-type {\n",
       "        vertical-align: middle;\n",
       "    }\n",
       "\n",
       "    .dataframe tbody tr th {\n",
       "        vertical-align: top;\n",
       "    }\n",
       "\n",
       "    .dataframe thead th {\n",
       "        text-align: right;\n",
       "    }\n",
       "</style>\n",
       "<table border=\"1\" class=\"dataframe\">\n",
       "  <thead>\n",
       "    <tr style=\"text-align: right;\">\n",
       "      <th></th>\n",
       "      <th>model</th>\n",
       "      <th>model_version</th>\n",
       "      <th>time</th>\n",
       "      <th>raw_data</th>\n",
       "      <th>raw_prediction</th>\n",
       "      <th>groundtruth</th>\n",
       "    </tr>\n",
       "  </thead>\n",
       "  <tbody>\n",
       "    <tr>\n",
       "      <th>0</th>\n",
       "      <td>txtcls</td>\n",
       "      <td>swivel</td>\n",
       "      <td>2020-06-26 03:15:15+00:00</td>\n",
       "      <td>{\"instances\": [{\"text\": \"A native Mac app wrap...</td>\n",
       "      <td>{\"predictions\": [{\"confidence\": 0.482146084308...</td>\n",
       "      <td>{\"predictions\": [{\"source\": \"github\"}]}</td>\n",
       "    </tr>\n",
       "    <tr>\n",
       "      <th>1</th>\n",
       "      <td>txtcls</td>\n",
       "      <td>swivel</td>\n",
       "      <td>2020-06-26 03:15:23+00:00</td>\n",
       "      <td>{\"instances\": [{\"text\": \"Scrollability\"}]}</td>\n",
       "      <td>{\"predictions\": [{\"confidence\": 0.510410726070...</td>\n",
       "      <td>{\"predictions\": [{\"source\": \"github\"}]}</td>\n",
       "    </tr>\n",
       "    <tr>\n",
       "      <th>2</th>\n",
       "      <td>txtcls</td>\n",
       "      <td>swivel</td>\n",
       "      <td>2020-06-26 03:15:17+00:00</td>\n",
       "      <td>{\"instances\": [{\"text\": \"Astronauts Dock With ...</td>\n",
       "      <td>{\"predictions\": [{\"confidence\": 0.516605079174...</td>\n",
       "      <td>{\"predictions\": [{\"source\": \"nytimes\"}]}</td>\n",
       "    </tr>\n",
       "    <tr>\n",
       "      <th>3</th>\n",
       "      <td>txtcls</td>\n",
       "      <td>swivel</td>\n",
       "      <td>2020-06-26 03:15:12+00:00</td>\n",
       "      <td>{\"instances\": [{\"text\": \"A Filmmaker Put Away ...</td>\n",
       "      <td>{\"predictions\": [{\"confidence\": 0.429436147212...</td>\n",
       "      <td>{\"predictions\": [{\"source\": \"nytimes\"}]}</td>\n",
       "    </tr>\n",
       "    <tr>\n",
       "      <th>4</th>\n",
       "      <td>txtcls</td>\n",
       "      <td>swivel</td>\n",
       "      <td>2020-06-26 03:15:21+00:00</td>\n",
       "      <td>{\"instances\": [{\"text\": \"House Passes Sweeping...</td>\n",
       "      <td>{\"predictions\": [{\"confidence\": 0.524790823459...</td>\n",
       "      <td>{\"predictions\": [{\"source\": \"nytimes\"}]}</td>\n",
       "    </tr>\n",
       "    <tr>\n",
       "      <th>5</th>\n",
       "      <td>txtcls</td>\n",
       "      <td>swivel</td>\n",
       "      <td>2020-06-26 03:15:09+00:00</td>\n",
       "      <td>{\"instances\": [{\"text\": \"YouTube introduces Vi...</td>\n",
       "      <td>{\"predictions\": [{\"confidence\": 0.512727320194...</td>\n",
       "      <td>{\"predictions\": [{\"source\": \"techcrunch\"}]}</td>\n",
       "    </tr>\n",
       "    <tr>\n",
       "      <th>6</th>\n",
       "      <td>txtcls</td>\n",
       "      <td>swivel</td>\n",
       "      <td>2020-06-26 03:15:26+00:00</td>\n",
       "      <td>{\"instances\": [{\"text\": \"iOS 14 lets deaf user...</td>\n",
       "      <td>{\"predictions\": [{\"confidence\": 0.484371215105...</td>\n",
       "      <td>{\"predictions\": [{\"source\": \"techcrunch\"}]}</td>\n",
       "    </tr>\n",
       "  </tbody>\n",
       "</table>\n",
       "</div>"
      ],
      "text/plain": [
       "    model model_version                      time  \\\n",
       "0  txtcls        swivel 2020-06-26 03:15:15+00:00   \n",
       "1  txtcls        swivel 2020-06-26 03:15:23+00:00   \n",
       "2  txtcls        swivel 2020-06-26 03:15:17+00:00   \n",
       "3  txtcls        swivel 2020-06-26 03:15:12+00:00   \n",
       "4  txtcls        swivel 2020-06-26 03:15:21+00:00   \n",
       "5  txtcls        swivel 2020-06-26 03:15:09+00:00   \n",
       "6  txtcls        swivel 2020-06-26 03:15:26+00:00   \n",
       "\n",
       "                                            raw_data  \\\n",
       "0  {\"instances\": [{\"text\": \"A native Mac app wrap...   \n",
       "1         {\"instances\": [{\"text\": \"Scrollability\"}]}   \n",
       "2  {\"instances\": [{\"text\": \"Astronauts Dock With ...   \n",
       "3  {\"instances\": [{\"text\": \"A Filmmaker Put Away ...   \n",
       "4  {\"instances\": [{\"text\": \"House Passes Sweeping...   \n",
       "5  {\"instances\": [{\"text\": \"YouTube introduces Vi...   \n",
       "6  {\"instances\": [{\"text\": \"iOS 14 lets deaf user...   \n",
       "\n",
       "                                      raw_prediction  \\\n",
       "0  {\"predictions\": [{\"confidence\": 0.482146084308...   \n",
       "1  {\"predictions\": [{\"confidence\": 0.510410726070...   \n",
       "2  {\"predictions\": [{\"confidence\": 0.516605079174...   \n",
       "3  {\"predictions\": [{\"confidence\": 0.429436147212...   \n",
       "4  {\"predictions\": [{\"confidence\": 0.524790823459...   \n",
       "5  {\"predictions\": [{\"confidence\": 0.512727320194...   \n",
       "6  {\"predictions\": [{\"confidence\": 0.484371215105...   \n",
       "\n",
       "                                   groundtruth  \n",
       "0      {\"predictions\": [{\"source\": \"github\"}]}  \n",
       "1      {\"predictions\": [{\"source\": \"github\"}]}  \n",
       "2     {\"predictions\": [{\"source\": \"nytimes\"}]}  \n",
       "3     {\"predictions\": [{\"source\": \"nytimes\"}]}  \n",
       "4     {\"predictions\": [{\"source\": \"nytimes\"}]}  \n",
       "5  {\"predictions\": [{\"source\": \"techcrunch\"}]}  \n",
       "6  {\"predictions\": [{\"source\": \"techcrunch\"}]}  "
      ]
     },
     "execution_count": 126,
     "metadata": {},
     "output_type": "execute_result"
    }
   ],
   "source": [
    "%%bigquery --project $PROJECT\n",
    "SELECT * FROM `txtcls_eval.swivel`"
   ]
  },
  {
   "cell_type": "markdown",
   "metadata": {},
   "source": [
    "## Compute evaluation metrics\n",
    "\n",
    "With the raw prediction input, the model output and the groundtruth in one place, we can evaluation how our model performs. And how the model performs across various aspects (e.g. over time, different model versions, different labels, etc)"
   ]
  },
  {
   "cell_type": "code",
   "execution_count": 145,
   "metadata": {},
   "outputs": [],
   "source": [
    "import seaborn as sns\n",
    "import pandas as pd\n",
    "import matplotlib.pyplot as plt\n",
    "from sklearn.metrics import confusion_matrix\n",
    "from sklearn.metrics import precision_recall_fscore_support as score\n",
    "from sklearn.metrics import classification_report"
   ]
  },
  {
   "cell_type": "markdown",
   "metadata": {},
   "source": [
    "Using regex we can extract the model predictions, to have an easier to read format:"
   ]
  },
  {
   "cell_type": "code",
   "execution_count": 128,
   "metadata": {},
   "outputs": [
    {
     "data": {
      "text/html": [
       "<div>\n",
       "<style scoped>\n",
       "    .dataframe tbody tr th:only-of-type {\n",
       "        vertical-align: middle;\n",
       "    }\n",
       "\n",
       "    .dataframe tbody tr th {\n",
       "        vertical-align: top;\n",
       "    }\n",
       "\n",
       "    .dataframe thead th {\n",
       "        text-align: right;\n",
       "    }\n",
       "</style>\n",
       "<table border=\"1\" class=\"dataframe\">\n",
       "  <thead>\n",
       "    <tr style=\"text-align: right;\">\n",
       "      <th></th>\n",
       "      <th>model</th>\n",
       "      <th>model_version</th>\n",
       "      <th>time</th>\n",
       "      <th>text</th>\n",
       "      <th>prediction</th>\n",
       "      <th>confidence</th>\n",
       "      <th>groundtruth</th>\n",
       "    </tr>\n",
       "  </thead>\n",
       "  <tbody>\n",
       "    <tr>\n",
       "      <th>0</th>\n",
       "      <td>txtcls</td>\n",
       "      <td>swivel</td>\n",
       "      <td>2020-06-26 03:15:12+00:00</td>\n",
       "      <td>A Filmmaker Put Away for Tax Fraud Takes Us In...</td>\n",
       "      <td>techcrunch</td>\n",
       "      <td>0.42</td>\n",
       "      <td>nytimes</td>\n",
       "    </tr>\n",
       "    <tr>\n",
       "      <th>1</th>\n",
       "      <td>txtcls</td>\n",
       "      <td>swivel</td>\n",
       "      <td>2020-06-26 03:15:21+00:00</td>\n",
       "      <td>House Passes Sweeping Policing Bill Targeting ...</td>\n",
       "      <td>nytimes</td>\n",
       "      <td>0.52</td>\n",
       "      <td>nytimes</td>\n",
       "    </tr>\n",
       "    <tr>\n",
       "      <th>2</th>\n",
       "      <td>txtcls</td>\n",
       "      <td>swivel</td>\n",
       "      <td>2020-06-26 03:15:23+00:00</td>\n",
       "      <td>Scrollability</td>\n",
       "      <td>techcrunch</td>\n",
       "      <td>0.51</td>\n",
       "      <td>github</td>\n",
       "    </tr>\n",
       "    <tr>\n",
       "      <th>3</th>\n",
       "      <td>txtcls</td>\n",
       "      <td>swivel</td>\n",
       "      <td>2020-06-26 03:15:09+00:00</td>\n",
       "      <td>YouTube introduces Video Chapters to make it e...</td>\n",
       "      <td>techcrunch</td>\n",
       "      <td>0.51</td>\n",
       "      <td>techcrunch</td>\n",
       "    </tr>\n",
       "    <tr>\n",
       "      <th>4</th>\n",
       "      <td>txtcls</td>\n",
       "      <td>swivel</td>\n",
       "      <td>2020-06-26 03:15:26+00:00</td>\n",
       "      <td>iOS 14 lets deaf users set alerts for importan...</td>\n",
       "      <td>nytimes</td>\n",
       "      <td>0.48</td>\n",
       "      <td>techcrunch</td>\n",
       "    </tr>\n",
       "    <tr>\n",
       "      <th>5</th>\n",
       "      <td>txtcls</td>\n",
       "      <td>swivel</td>\n",
       "      <td>2020-06-26 03:15:17+00:00</td>\n",
       "      <td>Astronauts Dock With Space Station After Histo...</td>\n",
       "      <td>techcrunch</td>\n",
       "      <td>0.51</td>\n",
       "      <td>nytimes</td>\n",
       "    </tr>\n",
       "    <tr>\n",
       "      <th>6</th>\n",
       "      <td>txtcls</td>\n",
       "      <td>swivel</td>\n",
       "      <td>2020-06-26 03:15:15+00:00</td>\n",
       "      <td>A native Mac app wrapper for WhatsApp Web</td>\n",
       "      <td>techcrunch</td>\n",
       "      <td>0.48</td>\n",
       "      <td>github</td>\n",
       "    </tr>\n",
       "  </tbody>\n",
       "</table>\n",
       "</div>"
      ],
      "text/plain": [
       "    model model_version                      time  \\\n",
       "0  txtcls        swivel 2020-06-26 03:15:12+00:00   \n",
       "1  txtcls        swivel 2020-06-26 03:15:21+00:00   \n",
       "2  txtcls        swivel 2020-06-26 03:15:23+00:00   \n",
       "3  txtcls        swivel 2020-06-26 03:15:09+00:00   \n",
       "4  txtcls        swivel 2020-06-26 03:15:26+00:00   \n",
       "5  txtcls        swivel 2020-06-26 03:15:17+00:00   \n",
       "6  txtcls        swivel 2020-06-26 03:15:15+00:00   \n",
       "\n",
       "                                                text  prediction confidence  \\\n",
       "0  A Filmmaker Put Away for Tax Fraud Takes Us In...  techcrunch       0.42   \n",
       "1  House Passes Sweeping Policing Bill Targeting ...     nytimes       0.52   \n",
       "2                                      Scrollability  techcrunch       0.51   \n",
       "3  YouTube introduces Video Chapters to make it e...  techcrunch       0.51   \n",
       "4  iOS 14 lets deaf users set alerts for importan...     nytimes       0.48   \n",
       "5  Astronauts Dock With Space Station After Histo...  techcrunch       0.51   \n",
       "6          A native Mac app wrapper for WhatsApp Web  techcrunch       0.48   \n",
       "\n",
       "  groundtruth  \n",
       "0     nytimes  \n",
       "1     nytimes  \n",
       "2      github  \n",
       "3  techcrunch  \n",
       "4  techcrunch  \n",
       "5     nytimes  \n",
       "6      github  "
      ]
     },
     "execution_count": 128,
     "metadata": {},
     "output_type": "execute_result"
    }
   ],
   "source": [
    "%%bigquery --project $PROJECT\n",
    "SELECT\n",
    "  model,\n",
    "  model_version,\n",
    "  time,\n",
    "  REGEXP_EXTRACT(raw_data, r'.*\"text\": \"(.*)\"') AS text,\n",
    "  REGEXP_EXTRACT(raw_prediction, r'.*\"source\": \"(.*?)\"') AS prediction,\n",
    "  REGEXP_EXTRACT(raw_prediction, r'.*\"confidence\": (0.\\d{2}).*') AS confidence,\n",
    "  REGEXP_EXTRACT(groundtruth, r'.*\"source\": \"(.*?)\"') AS groundtruth,\n",
    "FROM\n",
    "  `txtcls_eval.swivel`"
   ]
  },
  {
   "cell_type": "code",
   "execution_count": 132,
   "metadata": {},
   "outputs": [],
   "source": [
    "query = '''\n",
    "SELECT\n",
    "  model,\n",
    "  model_version,\n",
    "  time,\n",
    "  REGEXP_EXTRACT(raw_data, r'.*\"text\": \"(.*)\"') AS text,\n",
    "  REGEXP_EXTRACT(raw_prediction, r'.*\"source\": \"(.*?)\"') AS prediction,\n",
    "  REGEXP_EXTRACT(raw_prediction, r'.*\"confidence\": (0.\\d{2}).*') AS confidence,\n",
    "  REGEXP_EXTRACT(groundtruth, r'.*\"source\": \"(.*?)\"') AS groundtruth,\n",
    "FROM\n",
    "  `txtcls_eval.swivel`\n",
    "'''\n",
    "\n",
    "client = bigquery.Client()\n",
    "df_results = client.query(query).to_dataframe()"
   ]
  },
  {
   "cell_type": "code",
   "execution_count": 133,
   "metadata": {},
   "outputs": [
    {
     "data": {
      "text/html": [
       "<div>\n",
       "<style scoped>\n",
       "    .dataframe tbody tr th:only-of-type {\n",
       "        vertical-align: middle;\n",
       "    }\n",
       "\n",
       "    .dataframe tbody tr th {\n",
       "        vertical-align: top;\n",
       "    }\n",
       "\n",
       "    .dataframe thead th {\n",
       "        text-align: right;\n",
       "    }\n",
       "</style>\n",
       "<table border=\"1\" class=\"dataframe\">\n",
       "  <thead>\n",
       "    <tr style=\"text-align: right;\">\n",
       "      <th></th>\n",
       "      <th>model</th>\n",
       "      <th>model_version</th>\n",
       "      <th>time</th>\n",
       "      <th>text</th>\n",
       "      <th>prediction</th>\n",
       "      <th>confidence</th>\n",
       "      <th>groundtruth</th>\n",
       "    </tr>\n",
       "  </thead>\n",
       "  <tbody>\n",
       "    <tr>\n",
       "      <th>0</th>\n",
       "      <td>txtcls</td>\n",
       "      <td>swivel</td>\n",
       "      <td>2020-06-26 03:15:12+00:00</td>\n",
       "      <td>A Filmmaker Put Away for Tax Fraud Takes Us In...</td>\n",
       "      <td>techcrunch</td>\n",
       "      <td>0.42</td>\n",
       "      <td>nytimes</td>\n",
       "    </tr>\n",
       "    <tr>\n",
       "      <th>1</th>\n",
       "      <td>txtcls</td>\n",
       "      <td>swivel</td>\n",
       "      <td>2020-06-26 03:15:21+00:00</td>\n",
       "      <td>House Passes Sweeping Policing Bill Targeting ...</td>\n",
       "      <td>nytimes</td>\n",
       "      <td>0.52</td>\n",
       "      <td>nytimes</td>\n",
       "    </tr>\n",
       "    <tr>\n",
       "      <th>2</th>\n",
       "      <td>txtcls</td>\n",
       "      <td>swivel</td>\n",
       "      <td>2020-06-26 03:15:15+00:00</td>\n",
       "      <td>A native Mac app wrapper for WhatsApp Web</td>\n",
       "      <td>techcrunch</td>\n",
       "      <td>0.48</td>\n",
       "      <td>github</td>\n",
       "    </tr>\n",
       "    <tr>\n",
       "      <th>3</th>\n",
       "      <td>txtcls</td>\n",
       "      <td>swivel</td>\n",
       "      <td>2020-06-26 03:15:23+00:00</td>\n",
       "      <td>Scrollability</td>\n",
       "      <td>techcrunch</td>\n",
       "      <td>0.51</td>\n",
       "      <td>github</td>\n",
       "    </tr>\n",
       "    <tr>\n",
       "      <th>4</th>\n",
       "      <td>txtcls</td>\n",
       "      <td>swivel</td>\n",
       "      <td>2020-06-26 03:15:09+00:00</td>\n",
       "      <td>YouTube introduces Video Chapters to make it e...</td>\n",
       "      <td>techcrunch</td>\n",
       "      <td>0.51</td>\n",
       "      <td>techcrunch</td>\n",
       "    </tr>\n",
       "    <tr>\n",
       "      <th>5</th>\n",
       "      <td>txtcls</td>\n",
       "      <td>swivel</td>\n",
       "      <td>2020-06-26 03:15:17+00:00</td>\n",
       "      <td>Astronauts Dock With Space Station After Histo...</td>\n",
       "      <td>techcrunch</td>\n",
       "      <td>0.51</td>\n",
       "      <td>nytimes</td>\n",
       "    </tr>\n",
       "    <tr>\n",
       "      <th>6</th>\n",
       "      <td>txtcls</td>\n",
       "      <td>swivel</td>\n",
       "      <td>2020-06-26 03:15:26+00:00</td>\n",
       "      <td>iOS 14 lets deaf users set alerts for importan...</td>\n",
       "      <td>nytimes</td>\n",
       "      <td>0.48</td>\n",
       "      <td>techcrunch</td>\n",
       "    </tr>\n",
       "  </tbody>\n",
       "</table>\n",
       "</div>"
      ],
      "text/plain": [
       "    model model_version                      time  \\\n",
       "0  txtcls        swivel 2020-06-26 03:15:12+00:00   \n",
       "1  txtcls        swivel 2020-06-26 03:15:21+00:00   \n",
       "2  txtcls        swivel 2020-06-26 03:15:15+00:00   \n",
       "3  txtcls        swivel 2020-06-26 03:15:23+00:00   \n",
       "4  txtcls        swivel 2020-06-26 03:15:09+00:00   \n",
       "5  txtcls        swivel 2020-06-26 03:15:17+00:00   \n",
       "6  txtcls        swivel 2020-06-26 03:15:26+00:00   \n",
       "\n",
       "                                                text  prediction confidence  \\\n",
       "0  A Filmmaker Put Away for Tax Fraud Takes Us In...  techcrunch       0.42   \n",
       "1  House Passes Sweeping Policing Bill Targeting ...     nytimes       0.52   \n",
       "2          A native Mac app wrapper for WhatsApp Web  techcrunch       0.48   \n",
       "3                                      Scrollability  techcrunch       0.51   \n",
       "4  YouTube introduces Video Chapters to make it e...  techcrunch       0.51   \n",
       "5  Astronauts Dock With Space Station After Histo...  techcrunch       0.51   \n",
       "6  iOS 14 lets deaf users set alerts for importan...     nytimes       0.48   \n",
       "\n",
       "  groundtruth  \n",
       "0     nytimes  \n",
       "1     nytimes  \n",
       "2      github  \n",
       "3      github  \n",
       "4  techcrunch  \n",
       "5     nytimes  \n",
       "6  techcrunch  "
      ]
     },
     "execution_count": 133,
     "metadata": {},
     "output_type": "execute_result"
    }
   ],
   "source": [
    "df_results.head(20)"
   ]
  },
  {
   "cell_type": "code",
   "execution_count": 134,
   "metadata": {},
   "outputs": [],
   "source": [
    "prediction = list(df_results.prediction)\n",
    "groundtruth = list(df_results.groundtruth)"
   ]
  },
  {
   "cell_type": "code",
   "execution_count": 135,
   "metadata": {},
   "outputs": [
    {
     "name": "stderr",
     "output_type": "stream",
     "text": [
      "/opt/conda/lib/python3.7/site-packages/sklearn/metrics/_classification.py:1221: UndefinedMetricWarning: Precision and F-score are ill-defined and being set to 0.0 in labels with no predicted samples. Use `zero_division` parameter to control this behavior.\n",
      "  _warn_prf(average, modifier, msg_start, len(result))\n"
     ]
    }
   ],
   "source": [
    "precision, recall, fscore, support = score(groundtruth, prediction)"
   ]
  },
  {
   "cell_type": "code",
   "execution_count": 140,
   "metadata": {},
   "outputs": [
    {
     "name": "stdout",
     "output_type": "stream",
     "text": [
      "| source     |   precision |   recall |   fscore |   support |\n",
      "|------------+-------------+----------+----------+-----------|\n",
      "| github     |         0   | 0        | 0        |         2 |\n",
      "| nytimes    |         0.5 | 0.333333 | 0.4      |         3 |\n",
      "| techcrunch |         0.2 | 0.5      | 0.285714 |         2 |\n"
     ]
    }
   ],
   "source": [
    "from tabulate import tabulate\n",
    "sources = list(CLASSES.keys())\n",
    "results = list(zip(sources, precision, recall, fscore, support))\n",
    "print(tabulate(results, headers = ['source', 'precision', 'recall', 'fscore', 'support'],\n",
    "         tablefmt='orgtbl'))"
   ]
  },
  {
   "cell_type": "markdown",
   "metadata": {},
   "source": [
    "Or a full classification report from the sklearn library:"
   ]
  },
  {
   "cell_type": "code",
   "execution_count": 142,
   "metadata": {},
   "outputs": [
    {
     "name": "stdout",
     "output_type": "stream",
     "text": [
      "              precision    recall  f1-score   support\n",
      "\n",
      "      github       0.00      0.00      0.00         2\n",
      "     nytimes       0.50      0.33      0.40         3\n",
      "  techcrunch       0.20      0.50      0.29         2\n",
      "\n",
      "    accuracy                           0.29         7\n",
      "   macro avg       0.23      0.28      0.23         7\n",
      "weighted avg       0.27      0.29      0.25         7\n",
      "\n"
     ]
    }
   ],
   "source": [
    "print(classification_report(y_true=groundtruth, y_pred=prediction))"
   ]
  },
  {
   "cell_type": "markdown",
   "metadata": {},
   "source": [
    "Can also examine a confusion matrix:"
   ]
  },
  {
   "cell_type": "code",
   "execution_count": 144,
   "metadata": {},
   "outputs": [
    {
     "data": {
      "image/png": "[encoded data removed]",
      "text/plain": [
       "<Figure size 432x288 with 2 Axes>"
      ]
     },
     "metadata": {
      "needs_background": "light"
     },
     "output_type": "display_data"
    }
   ],
   "source": [
    "cm = confusion_matrix(groundtruth, prediction, labels=sources)\n",
    "\n",
    "ax= plt.subplot()\n",
    "sns.heatmap(cm, annot=True, ax = ax, cmap=\"Blues\")\n",
    "\n",
    "# labels, title and ticks\n",
    "ax.set_xlabel('Predicted labels')\n",
    "ax.set_ylabel('True labels')\n",
    "ax.set_title('Confusion Matrix') \n",
    "ax.xaxis.set_ticklabels(sources)\n",
    "ax.yaxis.set_ticklabels(sources)\n",
    "plt.savefig(\"./txtcls_cm.png\")"
   ]
  },
  {
   "cell_type": "markdown",
   "metadata": {},
   "source": [
    "## Examine eval metrics by model version or timestamp"
   ]
  },
  {
   "cell_type": "markdown",
   "metadata": {},
   "source": [
    "By specifying the same evaluation table, two different model versions can be evaluated. Also, since the timestamp is captured, it is straightforward to evaluation model performance over time. "
   ]
  },
  {
   "cell_type": "code",
   "execution_count": 152,
   "metadata": {},
   "outputs": [],
   "source": [
    "now = pd.Timestamp.now(tz='UTC')\n",
    "one_week_ago = now - pd.DateOffset(weeks=1)\n",
    "one_month_ago = now - pd.DateOffset(months=1)"
   ]
  },
  {
   "cell_type": "code",
   "execution_count": 156,
   "metadata": {},
   "outputs": [],
   "source": [
    "df_prev_week = df_results[df_results.time > one_week_ago]\n",
    "df_prev_month = df_results[df_results.time > one_month_ago]"
   ]
  },
  {
   "cell_type": "code",
   "execution_count": 157,
   "metadata": {},
   "outputs": [
    {
     "data": {
      "text/html": [
       "<div>\n",
       "<style scoped>\n",
       "    .dataframe tbody tr th:only-of-type {\n",
       "        vertical-align: middle;\n",
       "    }\n",
       "\n",
       "    .dataframe tbody tr th {\n",
       "        vertical-align: top;\n",
       "    }\n",
       "\n",
       "    .dataframe thead th {\n",
       "        text-align: right;\n",
       "    }\n",
       "</style>\n",
       "<table border=\"1\" class=\"dataframe\">\n",
       "  <thead>\n",
       "    <tr style=\"text-align: right;\">\n",
       "      <th></th>\n",
       "      <th>model</th>\n",
       "      <th>model_version</th>\n",
       "      <th>time</th>\n",
       "      <th>text</th>\n",
       "      <th>prediction</th>\n",
       "      <th>confidence</th>\n",
       "      <th>groundtruth</th>\n",
       "    </tr>\n",
       "  </thead>\n",
       "  <tbody>\n",
       "    <tr>\n",
       "      <th>0</th>\n",
       "      <td>txtcls</td>\n",
       "      <td>swivel</td>\n",
       "      <td>2020-06-26 03:15:12+00:00</td>\n",
       "      <td>A Filmmaker Put Away for Tax Fraud Takes Us In...</td>\n",
       "      <td>techcrunch</td>\n",
       "      <td>0.42</td>\n",
       "      <td>nytimes</td>\n",
       "    </tr>\n",
       "    <tr>\n",
       "      <th>1</th>\n",
       "      <td>txtcls</td>\n",
       "      <td>swivel</td>\n",
       "      <td>2020-06-26 03:15:21+00:00</td>\n",
       "      <td>House Passes Sweeping Policing Bill Targeting ...</td>\n",
       "      <td>nytimes</td>\n",
       "      <td>0.52</td>\n",
       "      <td>nytimes</td>\n",
       "    </tr>\n",
       "    <tr>\n",
       "      <th>2</th>\n",
       "      <td>txtcls</td>\n",
       "      <td>swivel</td>\n",
       "      <td>2020-06-26 03:15:15+00:00</td>\n",
       "      <td>A native Mac app wrapper for WhatsApp Web</td>\n",
       "      <td>techcrunch</td>\n",
       "      <td>0.48</td>\n",
       "      <td>github</td>\n",
       "    </tr>\n",
       "    <tr>\n",
       "      <th>3</th>\n",
       "      <td>txtcls</td>\n",
       "      <td>swivel</td>\n",
       "      <td>2020-06-26 03:15:23+00:00</td>\n",
       "      <td>Scrollability</td>\n",
       "      <td>techcrunch</td>\n",
       "      <td>0.51</td>\n",
       "      <td>github</td>\n",
       "    </tr>\n",
       "    <tr>\n",
       "      <th>4</th>\n",
       "      <td>txtcls</td>\n",
       "      <td>swivel</td>\n",
       "      <td>2020-06-26 03:15:09+00:00</td>\n",
       "      <td>YouTube introduces Video Chapters to make it e...</td>\n",
       "      <td>techcrunch</td>\n",
       "      <td>0.51</td>\n",
       "      <td>techcrunch</td>\n",
       "    </tr>\n",
       "    <tr>\n",
       "      <th>5</th>\n",
       "      <td>txtcls</td>\n",
       "      <td>swivel</td>\n",
       "      <td>2020-06-26 03:15:17+00:00</td>\n",
       "      <td>Astronauts Dock With Space Station After Histo...</td>\n",
       "      <td>techcrunch</td>\n",
       "      <td>0.51</td>\n",
       "      <td>nytimes</td>\n",
       "    </tr>\n",
       "    <tr>\n",
       "      <th>6</th>\n",
       "      <td>txtcls</td>\n",
       "      <td>swivel</td>\n",
       "      <td>2020-06-26 03:15:26+00:00</td>\n",
       "      <td>iOS 14 lets deaf users set alerts for importan...</td>\n",
       "      <td>nytimes</td>\n",
       "      <td>0.48</td>\n",
       "      <td>techcrunch</td>\n",
       "    </tr>\n",
       "  </tbody>\n",
       "</table>\n",
       "</div>"
      ],
      "text/plain": [
       "    model model_version                      time  \\\n",
       "0  txtcls        swivel 2020-06-26 03:15:12+00:00   \n",
       "1  txtcls        swivel 2020-06-26 03:15:21+00:00   \n",
       "2  txtcls        swivel 2020-06-26 03:15:15+00:00   \n",
       "3  txtcls        swivel 2020-06-26 03:15:23+00:00   \n",
       "4  txtcls        swivel 2020-06-26 03:15:09+00:00   \n",
       "5  txtcls        swivel 2020-06-26 03:15:17+00:00   \n",
       "6  txtcls        swivel 2020-06-26 03:15:26+00:00   \n",
       "\n",
       "                                                text  prediction confidence  \\\n",
       "0  A Filmmaker Put Away for Tax Fraud Takes Us In...  techcrunch       0.42   \n",
       "1  House Passes Sweeping Policing Bill Targeting ...     nytimes       0.52   \n",
       "2          A native Mac app wrapper for WhatsApp Web  techcrunch       0.48   \n",
       "3                                      Scrollability  techcrunch       0.51   \n",
       "4  YouTube introduces Video Chapters to make it e...  techcrunch       0.51   \n",
       "5  Astronauts Dock With Space Station After Histo...  techcrunch       0.51   \n",
       "6  iOS 14 lets deaf users set alerts for importan...     nytimes       0.48   \n",
       "\n",
       "  groundtruth  \n",
       "0     nytimes  \n",
       "1     nytimes  \n",
       "2      github  \n",
       "3      github  \n",
       "4  techcrunch  \n",
       "5     nytimes  \n",
       "6  techcrunch  "
      ]
     },
     "execution_count": 157,
     "metadata": {},
     "output_type": "execute_result"
    }
   ],
   "source": [
    "df_prev_month"
   ]
  },
  {
   "cell_type": "markdown",
   "metadata": {},
   "source": [
    "Copyright 2020 Google Inc. Licensed under the Apache License, Version 2.0 (the \"License\"); you may not use this file except in compliance with the License. You may obtain a copy of the License at http://www.apache.org/licenses/LICENSE-2.0 Unless required by applicable law or agreed to in writing, software distributed under the License is distributed on an \"AS IS\" BASIS, WITHOUT WARRANTIES OR CONDITIONS OF ANY KIND, either express or implied. See the License for the specific language governing permissions and limitations under the License"
   ]
  }
 ],
 "metadata": {
  "environment": {
   "name": "tf2-gpu.2-1.m50",
   "type": "gcloud",
   "uri": "gcr.io/deeplearning-platform-release/tf2-gpu.2-1:m50"
  },
  "kernelspec": {
   "display_name": "Python 3",
   "language": "python",
   "name": "python3"
  },
  "language_info": {
   "codemirror_mode": {
    "name": "ipython",
    "version": 3
   },
   "file_extension": ".py",
   "mimetype": "text/x-python",
   "name": "python",
   "nbconvert_exporter": "python",
   "pygments_lexer": "ipython3",
   "version": "3.7.6"
  }
 },
 "nbformat": 4,
 "nbformat_minor": 4
}
