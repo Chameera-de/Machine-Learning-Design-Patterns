{
  "nbformat": 4,
  "nbformat_minor": 0,
  "metadata": {
    "colab": {
      "name": "ml-challenges.ipynb",
      "provenance": []
    },
    "kernelspec": {
      "name": "python3",
      "display_name": "Python 3"
    }
  },
  "cells": [
    {
      "cell_type": "markdown",
      "metadata": {
        "id": "eXlW6p2OSnNe",
        "colab_type": "text"
      },
      "source": [
        "## ML Challenges\n",
        "\n",
        "This notebook includes various code snippets mentioned in the first chapter of our Machine Learning Design Patterns book."
      ]
    },
    {
      "cell_type": "code",
      "metadata": {
        "id": "4WeoSZ4MTv6d",
        "colab_type": "code",
        "colab": {}
      },
      "source": [
        "import pandas as pd\n",
        "import tensorflow as tf\n",
        "\n",
        "from sklearn.utils import shuffle\n",
        "from google.cloud import bigquery"
      ],
      "execution_count": 0,
      "outputs": []
    },
    {
      "cell_type": "markdown",
      "metadata": {
        "id": "XesQj5QcTepp",
        "colab_type": "text"
      },
      "source": [
        "### Repeatability\n",
        "\n",
        "Because of the inherent randomness in ML, there are additional measures required to ensure repeatability and reproducability between training and evaluation runs."
      ]
    },
    {
      "cell_type": "code",
      "metadata": {
        "id": "0pDreGYoSkPz",
        "colab_type": "code",
        "colab": {}
      },
      "source": [
        "# Setting a random seed in TensorFlow\n",
        "# Do this before you run training to ensure reproducible evaluation metrics\n",
        "# You can use whatever value you'd like for the seed\n",
        "tf.random.set_seed(2)"
      ],
      "execution_count": 0,
      "outputs": []
    },
    {
      "cell_type": "markdown",
      "metadata": {
        "id": "-Khu4PaGUS74",
        "colab_type": "text"
      },
      "source": [
        "You also need to consider randomness when preparing your training, test, and validation datasets. To ensure consistency, prepare a shuffled dataset before training by setting a random seed value.\n",
        "\n",
        "First, let's look at an example without shuffling. We'll grab some data from the NOAA storms public dataset in BigQuery. You'll need a Google Cloud account to run the cells that use this dataset."
      ]
    },
    {
      "cell_type": "code",
      "metadata": {
        "id": "QJ48sMDHWI_b",
        "colab_type": "code",
        "colab": {}
      },
      "source": [
        "from google.colab import auth\n",
        "auth.authenticate_user()"
      ],
      "execution_count": 0,
      "outputs": []
    },
    {
      "cell_type": "markdown",
      "metadata": {
        "id": "LfmHA0LvZNVA",
        "colab_type": "text"
      },
      "source": [
        "Replace `your-cloud-project` below with the name of your Google Cloud project."
      ]
    },
    {
      "cell_type": "code",
      "metadata": {
        "id": "fUaKDisOWM9u",
        "colab_type": "code",
        "colab": {}
      },
      "source": [
        "%%bigquery storms_df --project your-cloud-project\n",
        "SELECT\n",
        "  *\n",
        "FROM\n",
        "  `bigquery-public-data.noaa_historic_severe_storms.storms_*`\n",
        "LIMIT 1000"
      ],
      "execution_count": 0,
      "outputs": []
    },
    {
      "cell_type": "markdown",
      "metadata": {
        "id": "vGGdKpsvXBxt",
        "colab_type": "text"
      },
      "source": [
        "Run the cell below multiple times, and notice that the order of the data changes each time."
      ]
    },
    {
      "cell_type": "code",
      "metadata": {
        "id": "7RhuiAsqWh13",
        "colab_type": "code",
        "colab": {
          "base_uri": "https://localhost:8080/",
          "height": 309
        },
        "outputId": "8971fdc3-9010-427e-ec40-3e4e25e59052"
      },
      "source": [
        "storms_df = shuffle(storms_df)\n",
        "storms_df.head()"
      ],
      "execution_count": 9,
      "outputs": [
        {
          "output_type": "execute_result",
          "data": {
            "text/html": [
              "<div>\n",
              "<style scoped>\n",
              "    .dataframe tbody tr th:only-of-type {\n",
              "        vertical-align: middle;\n",
              "    }\n",
              "\n",
              "    .dataframe tbody tr th {\n",
              "        vertical-align: top;\n",
              "    }\n",
              "\n",
              "    .dataframe thead th {\n",
              "        text-align: right;\n",
              "    }\n",
              "</style>\n",
              "<table border=\"1\" class=\"dataframe\">\n",
              "  <thead>\n",
              "    <tr style=\"text-align: right;\">\n",
              "      <th></th>\n",
              "      <th>episode_id</th>\n",
              "      <th>event_id</th>\n",
              "      <th>state</th>\n",
              "      <th>state_fips_code</th>\n",
              "      <th>event_type</th>\n",
              "      <th>cz_type</th>\n",
              "      <th>cz_fips_code</th>\n",
              "      <th>cz_name</th>\n",
              "      <th>wfo</th>\n",
              "      <th>event_begin_time</th>\n",
              "      <th>event_timezone</th>\n",
              "      <th>event_end_time</th>\n",
              "      <th>injuries_direct</th>\n",
              "      <th>injuries_indirect</th>\n",
              "      <th>deaths_direct</th>\n",
              "      <th>deaths_indirect</th>\n",
              "      <th>damage_property</th>\n",
              "      <th>damage_crops</th>\n",
              "      <th>source</th>\n",
              "      <th>magnitude</th>\n",
              "      <th>magnitude_type</th>\n",
              "      <th>flood_cause</th>\n",
              "      <th>tor_f_scale</th>\n",
              "      <th>tor_length</th>\n",
              "      <th>tor_width</th>\n",
              "      <th>tor_other_wfo</th>\n",
              "      <th>location_index</th>\n",
              "      <th>event_range</th>\n",
              "      <th>event_azimuth</th>\n",
              "      <th>reference_location</th>\n",
              "      <th>event_latitude</th>\n",
              "      <th>event_longitude</th>\n",
              "      <th>event_point</th>\n",
              "    </tr>\n",
              "  </thead>\n",
              "  <tbody>\n",
              "    <tr>\n",
              "      <th>875</th>\n",
              "      <td>None</td>\n",
              "      <td>10075537</td>\n",
              "      <td>New york</td>\n",
              "      <td>36</td>\n",
              "      <td>thunderstorm wind</td>\n",
              "      <td>C</td>\n",
              "      <td>13</td>\n",
              "      <td>CHAUTAUQUA</td>\n",
              "      <td>BUF</td>\n",
              "      <td>1990-08-27 23:40:00</td>\n",
              "      <td>CST</td>\n",
              "      <td>1990-08-27 23:40:00</td>\n",
              "      <td>0</td>\n",
              "      <td>0</td>\n",
              "      <td>0</td>\n",
              "      <td>0</td>\n",
              "      <td>0</td>\n",
              "      <td>0</td>\n",
              "      <td>None</td>\n",
              "      <td>0.00</td>\n",
              "      <td>None</td>\n",
              "      <td>None</td>\n",
              "      <td>None</td>\n",
              "      <td>0</td>\n",
              "      <td>0</td>\n",
              "      <td>None</td>\n",
              "      <td>None</td>\n",
              "      <td>None</td>\n",
              "      <td>None</td>\n",
              "      <td>None</td>\n",
              "      <td>None</td>\n",
              "      <td>None</td>\n",
              "      <td>None</td>\n",
              "    </tr>\n",
              "    <tr>\n",
              "      <th>449</th>\n",
              "      <td>None</td>\n",
              "      <td>9998455</td>\n",
              "      <td>Florida</td>\n",
              "      <td>12</td>\n",
              "      <td>thunderstorm wind</td>\n",
              "      <td>C</td>\n",
              "      <td>5</td>\n",
              "      <td>BAY</td>\n",
              "      <td>PNS</td>\n",
              "      <td>1990-08-18 17:00:00</td>\n",
              "      <td>CST</td>\n",
              "      <td>1990-08-18 17:00:00</td>\n",
              "      <td>0</td>\n",
              "      <td>0</td>\n",
              "      <td>0</td>\n",
              "      <td>0</td>\n",
              "      <td>0</td>\n",
              "      <td>0</td>\n",
              "      <td>None</td>\n",
              "      <td>0.00</td>\n",
              "      <td>None</td>\n",
              "      <td>None</td>\n",
              "      <td>None</td>\n",
              "      <td>0</td>\n",
              "      <td>0</td>\n",
              "      <td>None</td>\n",
              "      <td>None</td>\n",
              "      <td>None</td>\n",
              "      <td>None</td>\n",
              "      <td>None</td>\n",
              "      <td>None</td>\n",
              "      <td>None</td>\n",
              "      <td>None</td>\n",
              "    </tr>\n",
              "    <tr>\n",
              "      <th>464</th>\n",
              "      <td>None</td>\n",
              "      <td>10076219</td>\n",
              "      <td>New mexico</td>\n",
              "      <td>35</td>\n",
              "      <td>hail</td>\n",
              "      <td>C</td>\n",
              "      <td>5</td>\n",
              "      <td>CHAVES</td>\n",
              "      <td>ROW</td>\n",
              "      <td>1990-04-21 22:00:00</td>\n",
              "      <td>CST</td>\n",
              "      <td>1990-04-21 22:00:00</td>\n",
              "      <td>0</td>\n",
              "      <td>0</td>\n",
              "      <td>0</td>\n",
              "      <td>0</td>\n",
              "      <td>0</td>\n",
              "      <td>0</td>\n",
              "      <td>None</td>\n",
              "      <td>1.75</td>\n",
              "      <td>None</td>\n",
              "      <td>None</td>\n",
              "      <td>None</td>\n",
              "      <td>0</td>\n",
              "      <td>0</td>\n",
              "      <td>None</td>\n",
              "      <td>None</td>\n",
              "      <td>None</td>\n",
              "      <td>None</td>\n",
              "      <td>None</td>\n",
              "      <td>None</td>\n",
              "      <td>None</td>\n",
              "      <td>None</td>\n",
              "    </tr>\n",
              "    <tr>\n",
              "      <th>698</th>\n",
              "      <td>None</td>\n",
              "      <td>10138226</td>\n",
              "      <td>Texas</td>\n",
              "      <td>48</td>\n",
              "      <td>thunderstorm wind</td>\n",
              "      <td>C</td>\n",
              "      <td>9</td>\n",
              "      <td>ARCHER</td>\n",
              "      <td>SPS</td>\n",
              "      <td>1990-05-29 19:27:00</td>\n",
              "      <td>CST</td>\n",
              "      <td>1990-05-29 19:27:00</td>\n",
              "      <td>0</td>\n",
              "      <td>0</td>\n",
              "      <td>0</td>\n",
              "      <td>0</td>\n",
              "      <td>0</td>\n",
              "      <td>0</td>\n",
              "      <td>None</td>\n",
              "      <td>55.00</td>\n",
              "      <td>None</td>\n",
              "      <td>None</td>\n",
              "      <td>None</td>\n",
              "      <td>0</td>\n",
              "      <td>0</td>\n",
              "      <td>None</td>\n",
              "      <td>None</td>\n",
              "      <td>None</td>\n",
              "      <td>None</td>\n",
              "      <td>None</td>\n",
              "      <td>None</td>\n",
              "      <td>None</td>\n",
              "      <td>None</td>\n",
              "    </tr>\n",
              "    <tr>\n",
              "      <th>840</th>\n",
              "      <td>None</td>\n",
              "      <td>10125887</td>\n",
              "      <td>South dakota</td>\n",
              "      <td>46</td>\n",
              "      <td>tornado</td>\n",
              "      <td>C</td>\n",
              "      <td>13</td>\n",
              "      <td>BROWN</td>\n",
              "      <td>None</td>\n",
              "      <td>1990-06-01 20:45:00</td>\n",
              "      <td>CST</td>\n",
              "      <td>1990-06-01 20:45:00</td>\n",
              "      <td>0</td>\n",
              "      <td>0</td>\n",
              "      <td>0</td>\n",
              "      <td>0</td>\n",
              "      <td>0</td>\n",
              "      <td>0</td>\n",
              "      <td>None</td>\n",
              "      <td>0.00</td>\n",
              "      <td>None</td>\n",
              "      <td>None</td>\n",
              "      <td>F0</td>\n",
              "      <td>3</td>\n",
              "      <td>30</td>\n",
              "      <td>None</td>\n",
              "      <td>None</td>\n",
              "      <td>None</td>\n",
              "      <td>None</td>\n",
              "      <td>None</td>\n",
              "      <td>None</td>\n",
              "      <td>None</td>\n",
              "      <td>None</td>\n",
              "    </tr>\n",
              "  </tbody>\n",
              "</table>\n",
              "</div>"
            ],
            "text/plain": [
              "    episode_id  event_id  ... event_longitude event_point\n",
              "875       None  10075537  ...            None        None\n",
              "449       None   9998455  ...            None        None\n",
              "464       None  10076219  ...            None        None\n",
              "698       None  10138226  ...            None        None\n",
              "840       None  10125887  ...            None        None\n",
              "\n",
              "[5 rows x 33 columns]"
            ]
          },
          "metadata": {
            "tags": []
          },
          "execution_count": 9
        }
      ]
    },
    {
      "cell_type": "markdown",
      "metadata": {
        "id": "jbfrylA_XGTE",
        "colab_type": "text"
      },
      "source": [
        "Next, repeat the above but set a random seed. Note that the data order stays the same even when run multiple times.\n",
        "\n"
      ]
    },
    {
      "cell_type": "code",
      "metadata": {
        "id": "U5a4WF88XFyk",
        "colab_type": "code",
        "colab": {
          "base_uri": "https://localhost:8080/",
          "height": 309
        },
        "outputId": "88e33fee-4e10-4d8e-f5c8-0a096ced8d5e"
      },
      "source": [
        "shuffled_df = shuffle(storms_df, random_state=2)\n",
        "shuffled_df.head()"
      ],
      "execution_count": 16,
      "outputs": [
        {
          "output_type": "execute_result",
          "data": {
            "text/html": [
              "<div>\n",
              "<style scoped>\n",
              "    .dataframe tbody tr th:only-of-type {\n",
              "        vertical-align: middle;\n",
              "    }\n",
              "\n",
              "    .dataframe tbody tr th {\n",
              "        vertical-align: top;\n",
              "    }\n",
              "\n",
              "    .dataframe thead th {\n",
              "        text-align: right;\n",
              "    }\n",
              "</style>\n",
              "<table border=\"1\" class=\"dataframe\">\n",
              "  <thead>\n",
              "    <tr style=\"text-align: right;\">\n",
              "      <th></th>\n",
              "      <th>episode_id</th>\n",
              "      <th>event_id</th>\n",
              "      <th>state</th>\n",
              "      <th>state_fips_code</th>\n",
              "      <th>event_type</th>\n",
              "      <th>cz_type</th>\n",
              "      <th>cz_fips_code</th>\n",
              "      <th>cz_name</th>\n",
              "      <th>wfo</th>\n",
              "      <th>event_begin_time</th>\n",
              "      <th>event_timezone</th>\n",
              "      <th>event_end_time</th>\n",
              "      <th>injuries_direct</th>\n",
              "      <th>injuries_indirect</th>\n",
              "      <th>deaths_direct</th>\n",
              "      <th>deaths_indirect</th>\n",
              "      <th>damage_property</th>\n",
              "      <th>damage_crops</th>\n",
              "      <th>source</th>\n",
              "      <th>magnitude</th>\n",
              "      <th>magnitude_type</th>\n",
              "      <th>flood_cause</th>\n",
              "      <th>tor_f_scale</th>\n",
              "      <th>tor_length</th>\n",
              "      <th>tor_width</th>\n",
              "      <th>tor_other_wfo</th>\n",
              "      <th>location_index</th>\n",
              "      <th>event_range</th>\n",
              "      <th>event_azimuth</th>\n",
              "      <th>reference_location</th>\n",
              "      <th>event_latitude</th>\n",
              "      <th>event_longitude</th>\n",
              "      <th>event_point</th>\n",
              "    </tr>\n",
              "  </thead>\n",
              "  <tbody>\n",
              "    <tr>\n",
              "      <th>888</th>\n",
              "      <td>None</td>\n",
              "      <td>10082557</td>\n",
              "      <td>New hampshire</td>\n",
              "      <td>33</td>\n",
              "      <td>thunderstorm wind</td>\n",
              "      <td>C</td>\n",
              "      <td>13</td>\n",
              "      <td>MERRIMACK</td>\n",
              "      <td>CON</td>\n",
              "      <td>1990-10-18 21:00:00</td>\n",
              "      <td>CST</td>\n",
              "      <td>1990-10-18 21:00:00</td>\n",
              "      <td>0</td>\n",
              "      <td>0</td>\n",
              "      <td>0</td>\n",
              "      <td>0</td>\n",
              "      <td>0</td>\n",
              "      <td>0</td>\n",
              "      <td>None</td>\n",
              "      <td>0.0</td>\n",
              "      <td>None</td>\n",
              "      <td>None</td>\n",
              "      <td>None</td>\n",
              "      <td>0</td>\n",
              "      <td>0</td>\n",
              "      <td>None</td>\n",
              "      <td>None</td>\n",
              "      <td>None</td>\n",
              "      <td>None</td>\n",
              "      <td>None</td>\n",
              "      <td>None</td>\n",
              "      <td>None</td>\n",
              "      <td>None</td>\n",
              "    </tr>\n",
              "    <tr>\n",
              "      <th>185</th>\n",
              "      <td>None</td>\n",
              "      <td>10111136</td>\n",
              "      <td>South carolina</td>\n",
              "      <td>45</td>\n",
              "      <td>thunderstorm wind</td>\n",
              "      <td>C</td>\n",
              "      <td>3</td>\n",
              "      <td>AIKEN</td>\n",
              "      <td>AGS</td>\n",
              "      <td>1990-05-28 10:30:00</td>\n",
              "      <td>CST</td>\n",
              "      <td>1990-05-28 10:30:00</td>\n",
              "      <td>0</td>\n",
              "      <td>0</td>\n",
              "      <td>0</td>\n",
              "      <td>0</td>\n",
              "      <td>0</td>\n",
              "      <td>0</td>\n",
              "      <td>None</td>\n",
              "      <td>0.0</td>\n",
              "      <td>None</td>\n",
              "      <td>None</td>\n",
              "      <td>None</td>\n",
              "      <td>0</td>\n",
              "      <td>0</td>\n",
              "      <td>None</td>\n",
              "      <td>None</td>\n",
              "      <td>None</td>\n",
              "      <td>None</td>\n",
              "      <td>None</td>\n",
              "      <td>None</td>\n",
              "      <td>None</td>\n",
              "      <td>None</td>\n",
              "    </tr>\n",
              "    <tr>\n",
              "      <th>975</th>\n",
              "      <td>None</td>\n",
              "      <td>10049089</td>\n",
              "      <td>Minnesota</td>\n",
              "      <td>27</td>\n",
              "      <td>thunderstorm wind</td>\n",
              "      <td>C</td>\n",
              "      <td>13</td>\n",
              "      <td>BLUE EARTH</td>\n",
              "      <td>RST</td>\n",
              "      <td>1990-06-02 11:40:00</td>\n",
              "      <td>CST</td>\n",
              "      <td>1990-06-02 11:40:00</td>\n",
              "      <td>1</td>\n",
              "      <td>0</td>\n",
              "      <td>0</td>\n",
              "      <td>0</td>\n",
              "      <td>0</td>\n",
              "      <td>0</td>\n",
              "      <td>None</td>\n",
              "      <td>0.0</td>\n",
              "      <td>None</td>\n",
              "      <td>None</td>\n",
              "      <td>None</td>\n",
              "      <td>0</td>\n",
              "      <td>0</td>\n",
              "      <td>None</td>\n",
              "      <td>None</td>\n",
              "      <td>None</td>\n",
              "      <td>None</td>\n",
              "      <td>None</td>\n",
              "      <td>None</td>\n",
              "      <td>None</td>\n",
              "      <td>None</td>\n",
              "    </tr>\n",
              "    <tr>\n",
              "      <th>684</th>\n",
              "      <td>None</td>\n",
              "      <td>10147552</td>\n",
              "      <td>West virginia</td>\n",
              "      <td>54</td>\n",
              "      <td>thunderstorm wind</td>\n",
              "      <td>C</td>\n",
              "      <td>9</td>\n",
              "      <td>BROOKE</td>\n",
              "      <td>PIT</td>\n",
              "      <td>1990-09-06 15:30:00</td>\n",
              "      <td>CST</td>\n",
              "      <td>1990-09-06 15:30:00</td>\n",
              "      <td>0</td>\n",
              "      <td>0</td>\n",
              "      <td>0</td>\n",
              "      <td>0</td>\n",
              "      <td>0</td>\n",
              "      <td>0</td>\n",
              "      <td>None</td>\n",
              "      <td>0.0</td>\n",
              "      <td>None</td>\n",
              "      <td>None</td>\n",
              "      <td>None</td>\n",
              "      <td>0</td>\n",
              "      <td>0</td>\n",
              "      <td>None</td>\n",
              "      <td>None</td>\n",
              "      <td>None</td>\n",
              "      <td>None</td>\n",
              "      <td>None</td>\n",
              "      <td>None</td>\n",
              "      <td>None</td>\n",
              "      <td>None</td>\n",
              "    </tr>\n",
              "    <tr>\n",
              "      <th>45</th>\n",
              "      <td>None</td>\n",
              "      <td>10054154</td>\n",
              "      <td>Michigan</td>\n",
              "      <td>26</td>\n",
              "      <td>thunderstorm wind</td>\n",
              "      <td>C</td>\n",
              "      <td>1</td>\n",
              "      <td>ALCONA</td>\n",
              "      <td>APN</td>\n",
              "      <td>1990-10-04 13:00:00</td>\n",
              "      <td>CST</td>\n",
              "      <td>1990-10-04 13:00:00</td>\n",
              "      <td>0</td>\n",
              "      <td>0</td>\n",
              "      <td>0</td>\n",
              "      <td>0</td>\n",
              "      <td>0</td>\n",
              "      <td>0</td>\n",
              "      <td>None</td>\n",
              "      <td>0.0</td>\n",
              "      <td>None</td>\n",
              "      <td>None</td>\n",
              "      <td>None</td>\n",
              "      <td>0</td>\n",
              "      <td>0</td>\n",
              "      <td>None</td>\n",
              "      <td>None</td>\n",
              "      <td>None</td>\n",
              "      <td>None</td>\n",
              "      <td>None</td>\n",
              "      <td>None</td>\n",
              "      <td>None</td>\n",
              "      <td>None</td>\n",
              "    </tr>\n",
              "  </tbody>\n",
              "</table>\n",
              "</div>"
            ],
            "text/plain": [
              "    episode_id  event_id  ... event_longitude event_point\n",
              "888       None  10082557  ...            None        None\n",
              "185       None  10111136  ...            None        None\n",
              "975       None  10049089  ...            None        None\n",
              "684       None  10147552  ...            None        None\n",
              "45        None  10054154  ...            None        None\n",
              "\n",
              "[5 rows x 33 columns]"
            ]
          },
          "metadata": {
            "tags": []
          },
          "execution_count": 16
        }
      ]
    },
    {
      "cell_type": "markdown",
      "metadata": {
        "id": "g_5dEbgmT8yX",
        "colab_type": "text"
      },
      "source": [
        "### Data drift\n",
        "\n",
        "It's important to analyze how data is changing over time to ensure your ML models are trained on accurate data. To demonstrate this, we'll use the same NOAA storms dataset as above with a slightly different query. \n",
        "\n",
        "Let's look at how the number of reported storms has increased over time."
      ]
    },
    {
      "cell_type": "code",
      "metadata": {
        "id": "LC2ozP3PYT1i",
        "colab_type": "code",
        "colab": {}
      },
      "source": [
        "%%bigquery storm_trends --project your-cloud-project\n",
        "SELECT\n",
        "  SUBSTR(CAST(event_begin_time AS string), 1, 4) AS year,\n",
        "  COUNT(*) AS num_storms\n",
        "FROM\n",
        "  `bigquery-public-data.noaa_historic_severe_storms.storms_*`\n",
        "GROUP BY\n",
        "  year\n",
        "ORDER BY\n",
        "  year ASC"
      ],
      "execution_count": 0,
      "outputs": []
    },
    {
      "cell_type": "code",
      "metadata": {
        "id": "u-6l9cqoYXFM",
        "colab_type": "code",
        "colab": {
          "base_uri": "https://localhost:8080/",
          "height": 204
        },
        "outputId": "4d19bbef-56ca-45f4-9b7d-11cb2b35a8c6"
      },
      "source": [
        "storm_trends.head()"
      ],
      "execution_count": 18,
      "outputs": [
        {
          "output_type": "execute_result",
          "data": {
            "text/html": [
              "<div>\n",
              "<style scoped>\n",
              "    .dataframe tbody tr th:only-of-type {\n",
              "        vertical-align: middle;\n",
              "    }\n",
              "\n",
              "    .dataframe tbody tr th {\n",
              "        vertical-align: top;\n",
              "    }\n",
              "\n",
              "    .dataframe thead th {\n",
              "        text-align: right;\n",
              "    }\n",
              "</style>\n",
              "<table border=\"1\" class=\"dataframe\">\n",
              "  <thead>\n",
              "    <tr style=\"text-align: right;\">\n",
              "      <th></th>\n",
              "      <th>year</th>\n",
              "      <th>num_storms</th>\n",
              "    </tr>\n",
              "  </thead>\n",
              "  <tbody>\n",
              "    <tr>\n",
              "      <th>0</th>\n",
              "      <td>1950</td>\n",
              "      <td>223</td>\n",
              "    </tr>\n",
              "    <tr>\n",
              "      <th>1</th>\n",
              "      <td>1951</td>\n",
              "      <td>269</td>\n",
              "    </tr>\n",
              "    <tr>\n",
              "      <th>2</th>\n",
              "      <td>1952</td>\n",
              "      <td>272</td>\n",
              "    </tr>\n",
              "    <tr>\n",
              "      <th>3</th>\n",
              "      <td>1953</td>\n",
              "      <td>492</td>\n",
              "    </tr>\n",
              "    <tr>\n",
              "      <th>4</th>\n",
              "      <td>1954</td>\n",
              "      <td>609</td>\n",
              "    </tr>\n",
              "  </tbody>\n",
              "</table>\n",
              "</div>"
            ],
            "text/plain": [
              "   year  num_storms\n",
              "0  1950         223\n",
              "1  1951         269\n",
              "2  1952         272\n",
              "3  1953         492\n",
              "4  1954         609"
            ]
          },
          "metadata": {
            "tags": []
          },
          "execution_count": 18
        }
      ]
    },
    {
      "cell_type": "markdown",
      "metadata": {
        "id": "8iPDWrM_Yv3Y",
        "colab_type": "text"
      },
      "source": [
        "As seen below, training a model on data before 2000 to predict storms now would result in incorrect predictions."
      ]
    },
    {
      "cell_type": "code",
      "metadata": {
        "id": "k3MA7oScYaDl",
        "colab_type": "code",
        "colab": {
          "base_uri": "https://localhost:8080/",
          "height": 312
        },
        "outputId": "ad788e12-eeea-4dec-8ff5-a01aae20a7bf"
      },
      "source": [
        "storm_trends.plot(title='Storm trends over time', x='year', y='num_storms')"
      ],
      "execution_count": 22,
      "outputs": [
        {
          "output_type": "execute_result",
          "data": {
            "text/plain": [
              "<matplotlib.axes._subplots.AxesSubplot at 0x7fd2dac5b400>"
            ]
          },
          "metadata": {
            "tags": []
          },
          "execution_count": 22
        },
        {
          "output_type": "display_data",
          "data": {
            "image/png": "[encoded data removed]",
            "text/plain": [
              "<Figure size 432x288 with 1 Axes>"
            ]
          },
          "metadata": {
            "tags": [],
            "needs_background": "light"
          }
        }
      ]
    },
    {
      "cell_type": "markdown",
      "metadata": {
        "id": "zj8SOtBNZcKG",
        "colab_type": "text"
      },
      "source": [
        "Copyright 2020 Google Inc. Licensed under the Apache License, Version 2.0 (the \"License\"); you may not use this file except in compliance with the License. You may obtain a copy of the License at http://www.apache.org/licenses/LICENSE-2.0 Unless required by applicable law or agreed to in writing, software distributed under the License is distributed on an \"AS IS\" BASIS, WITHOUT WARRANTIES OR CONDITIONS OF ANY KIND, either express or implied. See the License for the specific language governing permissions and limitations under the License"
      ]
    }
  ]
}