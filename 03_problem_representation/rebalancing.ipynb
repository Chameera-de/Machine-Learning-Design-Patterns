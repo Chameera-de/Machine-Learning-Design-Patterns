{
  "nbformat": 4,
  "nbformat_minor": 0,
  "metadata": {
    "colab": {
      "name": "rebalancing.ipynb",
      "provenance": [],
      "collapsed_sections": []
    },
    "kernelspec": {
      "name": "python3",
      "display_name": "Python 3"
    }
  },
  "cells": [
    {
      "cell_type": "markdown",
      "metadata": {
        "id": "f8ee3tlP8dhK",
        "colab_type": "text"
      },
      "source": [
        "## Rebalancing Design Pattern\n",
        "\n",
        "The Rebalancing Design Pattern provides various approaches for handling datasets that are inherently imbalanced. By this we mean datasets where one label makes up the majority of the dataset, leaving far fewer examples of other labels."
      ]
    },
    {
      "cell_type": "code",
      "metadata": {
        "id": "9OUkQ-Q6kNXl",
        "colab_type": "code",
        "colab": {}
      },
      "source": [
        "import itertools\n",
        "import math \n",
        "import matplotlib.pyplot as plt\n",
        "import numpy as np\n",
        "import pandas as pd\n",
        "import tensorflow as tf\n",
        "import xgboost as xgb\n",
        "\n",
        "from tensorflow import keras\n",
        "from tensorflow.keras import Sequential\n",
        "\n",
        "from sklearn.metrics import confusion_matrix\n",
        "from sklearn.preprocessing import MinMaxScaler\n",
        "from sklearn.utils import shuffle\n",
        "from google.cloud import bigquery"
      ],
      "execution_count": 0,
      "outputs": []
    },
    {
      "cell_type": "markdown",
      "metadata": {
        "id": "c6vFDbUDjGhw",
        "colab_type": "text"
      },
      "source": [
        "#### Downsampling\n",
        "\n",
        "To demonstrate downsampling, we'll be using this [synthetic fraud detection](https://www.kaggle.com/ntnu-testimon/paysim1) dataset from Kaggle. We've made a version of it available in a public Cloud Storage bucket."
      ]
    },
    {
      "cell_type": "code",
      "metadata": {
        "id": "HTPPRDgX7bWi",
        "colab_type": "code",
        "colab": {
          "base_uri": "https://localhost:8080/",
          "height": 68
        },
        "outputId": "238a7a02-9c11-4fb9-9395-0cd48be76f7f"
      },
      "source": [
        "# Download the data and preview\n",
        "!gsutil cp gs://ml-design-patterns/fraud_data_kaggle.csv ."
      ],
      "execution_count": 2,
      "outputs": [
        {
          "output_type": "stream",
          "text": [
            "Copying gs://ml-design-patterns/fraud_data_kaggle.csv...\n",
            "- [1 files][470.7 MiB/470.7 MiB]                                                \n",
            "Operation completed over 1 objects/470.7 MiB.                                    \n"
          ],
          "name": "stdout"
        }
      ]
    },
    {
      "cell_type": "code",
      "metadata": {
        "id": "bgX95k94kF_u",
        "colab_type": "code",
        "colab": {
          "base_uri": "https://localhost:8080/",
          "height": 224
        },
        "outputId": "51dc58bc-bd24-4cfe-e960-49f5e4eb5712"
      },
      "source": [
        "fraud_data = pd.read_csv('fraud_data_kaggle.csv')\n",
        "fraud_data.head()"
      ],
      "execution_count": 3,
      "outputs": [
        {
          "output_type": "execute_result",
          "data": {
            "text/html": [
              "<div>\n",
              "<style scoped>\n",
              "    .dataframe tbody tr th:only-of-type {\n",
              "        vertical-align: middle;\n",
              "    }\n",
              "\n",
              "    .dataframe tbody tr th {\n",
              "        vertical-align: top;\n",
              "    }\n",
              "\n",
              "    .dataframe thead th {\n",
              "        text-align: right;\n",
              "    }\n",
              "</style>\n",
              "<table border=\"1\" class=\"dataframe\">\n",
              "  <thead>\n",
              "    <tr style=\"text-align: right;\">\n",
              "      <th></th>\n",
              "      <th>step</th>\n",
              "      <th>type</th>\n",
              "      <th>amount</th>\n",
              "      <th>nameOrig</th>\n",
              "      <th>oldbalanceOrg</th>\n",
              "      <th>newbalanceOrig</th>\n",
              "      <th>nameDest</th>\n",
              "      <th>oldbalanceDest</th>\n",
              "      <th>newbalanceDest</th>\n",
              "      <th>isFraud</th>\n",
              "      <th>isFlaggedFraud</th>\n",
              "    </tr>\n",
              "  </thead>\n",
              "  <tbody>\n",
              "    <tr>\n",
              "      <th>0</th>\n",
              "      <td>1</td>\n",
              "      <td>PAYMENT</td>\n",
              "      <td>9839.64</td>\n",
              "      <td>C1231006815</td>\n",
              "      <td>170136.0</td>\n",
              "      <td>160296.36</td>\n",
              "      <td>M1979787155</td>\n",
              "      <td>0.0</td>\n",
              "      <td>0.0</td>\n",
              "      <td>0</td>\n",
              "      <td>0</td>\n",
              "    </tr>\n",
              "    <tr>\n",
              "      <th>1</th>\n",
              "      <td>1</td>\n",
              "      <td>PAYMENT</td>\n",
              "      <td>1864.28</td>\n",
              "      <td>C1666544295</td>\n",
              "      <td>21249.0</td>\n",
              "      <td>19384.72</td>\n",
              "      <td>M2044282225</td>\n",
              "      <td>0.0</td>\n",
              "      <td>0.0</td>\n",
              "      <td>0</td>\n",
              "      <td>0</td>\n",
              "    </tr>\n",
              "    <tr>\n",
              "      <th>2</th>\n",
              "      <td>1</td>\n",
              "      <td>TRANSFER</td>\n",
              "      <td>181.00</td>\n",
              "      <td>C1305486145</td>\n",
              "      <td>181.0</td>\n",
              "      <td>0.00</td>\n",
              "      <td>C553264065</td>\n",
              "      <td>0.0</td>\n",
              "      <td>0.0</td>\n",
              "      <td>1</td>\n",
              "      <td>0</td>\n",
              "    </tr>\n",
              "    <tr>\n",
              "      <th>3</th>\n",
              "      <td>1</td>\n",
              "      <td>CASH_OUT</td>\n",
              "      <td>181.00</td>\n",
              "      <td>C840083671</td>\n",
              "      <td>181.0</td>\n",
              "      <td>0.00</td>\n",
              "      <td>C38997010</td>\n",
              "      <td>21182.0</td>\n",
              "      <td>0.0</td>\n",
              "      <td>1</td>\n",
              "      <td>0</td>\n",
              "    </tr>\n",
              "    <tr>\n",
              "      <th>4</th>\n",
              "      <td>1</td>\n",
              "      <td>PAYMENT</td>\n",
              "      <td>11668.14</td>\n",
              "      <td>C2048537720</td>\n",
              "      <td>41554.0</td>\n",
              "      <td>29885.86</td>\n",
              "      <td>M1230701703</td>\n",
              "      <td>0.0</td>\n",
              "      <td>0.0</td>\n",
              "      <td>0</td>\n",
              "      <td>0</td>\n",
              "    </tr>\n",
              "  </tbody>\n",
              "</table>\n",
              "</div>"
            ],
            "text/plain": [
              "   step      type    amount  ... newbalanceDest  isFraud  isFlaggedFraud\n",
              "0     1   PAYMENT   9839.64  ...            0.0        0               0\n",
              "1     1   PAYMENT   1864.28  ...            0.0        0               0\n",
              "2     1  TRANSFER    181.00  ...            0.0        1               0\n",
              "3     1  CASH_OUT    181.00  ...            0.0        1               0\n",
              "4     1   PAYMENT  11668.14  ...            0.0        0               0\n",
              "\n",
              "[5 rows x 11 columns]"
            ]
          },
          "metadata": {
            "tags": []
          },
          "execution_count": 3
        }
      ]
    },
    {
      "cell_type": "code",
      "metadata": {
        "id": "3DTxNMqpoiUK",
        "colab_type": "code",
        "colab": {}
      },
      "source": [
        "# Drop a few columns we won't use for this demo\n",
        "fraud_data = fraud_data.drop(columns=['nameOrig', 'nameDest', 'isFlaggedFraud'])\n",
        "fraud_data = pd.get_dummies(fraud_data)"
      ],
      "execution_count": 0,
      "outputs": []
    },
    {
      "cell_type": "code",
      "metadata": {
        "id": "QchBWbk2sghr",
        "colab_type": "code",
        "colab": {}
      },
      "source": [
        "# Split into separate dataframes\n",
        "fraud = fraud_data[fraud_data['isFraud'] == 1]\n",
        "not_fraud = fraud_data[fraud_data['isFraud'] == 0]\n",
        "\n",
        "# Take a random sample of non-fraud data\n",
        "# The .005 frac will give us around an 80/20 split of not-fraud/fraud samples\n",
        "# You can experiment with this value\n",
        "not_fraud_sample = not_fraud.sample(random_state=2, frac=.005)"
      ],
      "execution_count": 0,
      "outputs": []
    },
    {
      "cell_type": "code",
      "metadata": {
        "id": "nwKoDKAtsoEk",
        "colab_type": "code",
        "colab": {}
      },
      "source": [
        "# Put the data back together and shuffle\n",
        "fraud_data = pd.concat([not_fraud_sample,fraud])\n",
        "fraud_data = shuffle(fraud_data, random_state=2)"
      ],
      "execution_count": 0,
      "outputs": []
    },
    {
      "cell_type": "code",
      "metadata": {
        "id": "R_O9WfwHs72-",
        "colab_type": "code",
        "colab": {
          "base_uri": "https://localhost:8080/",
          "height": 68
        },
        "outputId": "128d71f4-429f-494a-d5c8-e9b8a8d755cc"
      },
      "source": [
        "# Look at our data balance after downsampling\n",
        "fraud_data['isFraud'].value_counts()"
      ],
      "execution_count": 7,
      "outputs": [
        {
          "output_type": "execute_result",
          "data": {
            "text/plain": [
              "0    31772\n",
              "1     8213\n",
              "Name: isFraud, dtype: int64"
            ]
          },
          "metadata": {
            "tags": []
          },
          "execution_count": 7
        }
      ]
    },
    {
      "cell_type": "code",
      "metadata": {
        "id": "V44-7J4TkabP",
        "colab_type": "code",
        "colab": {}
      },
      "source": [
        "train_test_split = int(len(fraud_data) * .8)\n",
        "\n",
        "train_data = fraud_data[:train_test_split]\n",
        "test_data = fraud_data[train_test_split:]\n",
        "\n",
        "train_labels = train_data.pop('isFraud')\n",
        "test_labels = test_data.pop('isFraud')"
      ],
      "execution_count": 0,
      "outputs": []
    },
    {
      "cell_type": "code",
      "metadata": {
        "id": "SjD6MEDzkSUU",
        "colab_type": "code",
        "colab": {}
      },
      "source": [
        "model = xgb.XGBRegressor(\n",
        "    objective='reg:linear'\n",
        ")"
      ],
      "execution_count": 0,
      "outputs": []
    },
    {
      "cell_type": "code",
      "metadata": {
        "id": "Md8FAfE5pEdX",
        "colab_type": "code",
        "colab": {
          "base_uri": "https://localhost:8080/",
          "height": 173
        },
        "outputId": "770e7cb4-c542-48b5-a14b-967f9297b70e"
      },
      "source": [
        "model.fit(train_data.values, train_labels)"
      ],
      "execution_count": 10,
      "outputs": [
        {
          "output_type": "stream",
          "text": [
            "[17:42:39] WARNING: /workspace/src/objective/regression_obj.cu:152: reg:linear is now deprecated in favor of reg:squarederror.\n"
          ],
          "name": "stdout"
        },
        {
          "output_type": "execute_result",
          "data": {
            "text/plain": [
              "XGBRegressor(base_score=0.5, booster='gbtree', colsample_bylevel=1,\n",
              "             colsample_bynode=1, colsample_bytree=1, gamma=0,\n",
              "             importance_type='gain', learning_rate=0.1, max_delta_step=0,\n",
              "             max_depth=3, min_child_weight=1, missing=None, n_estimators=100,\n",
              "             n_jobs=1, nthread=None, objective='reg:linear', random_state=0,\n",
              "             reg_alpha=0, reg_lambda=1, scale_pos_weight=1, seed=None,\n",
              "             silent=None, subsample=1, verbosity=1)"
            ]
          },
          "metadata": {
            "tags": []
          },
          "execution_count": 10
        }
      ]
    },
    {
      "cell_type": "code",
      "metadata": {
        "id": "CSaBKqwspHK1",
        "colab_type": "code",
        "colab": {}
      },
      "source": [
        "# Get some test predictions\n",
        "y_pred = model.predict(test_data.values)"
      ],
      "execution_count": 0,
      "outputs": []
    },
    {
      "cell_type": "code",
      "metadata": {
        "id": "zWMjMmZzto8r",
        "colab_type": "code",
        "colab": {}
      },
      "source": [
        "# To build a confusion matrix using the scikit utility, we'll need the values as ints\n",
        "y_pred_formatted = []\n",
        "\n",
        "for i in y_pred:\n",
        "  y_pred_formatted.append(int(round(i)))"
      ],
      "execution_count": 0,
      "outputs": []
    },
    {
      "cell_type": "code",
      "metadata": {
        "id": "uNHbcxLoqdRb",
        "colab_type": "code",
        "colab": {
          "base_uri": "https://localhost:8080/",
          "height": 51
        },
        "outputId": "de700f96-5164-4e13-8a6d-d0afc665bead"
      },
      "source": [
        "cm = confusion_matrix(test_labels.values, y_pred_formatted)\n",
        "print(cm)"
      ],
      "execution_count": 13,
      "outputs": [
        {
          "output_type": "stream",
          "text": [
            "[[6360   43]\n",
            " [  82 1512]]\n"
          ],
          "name": "stdout"
        }
      ]
    },
    {
      "cell_type": "code",
      "metadata": {
        "id": "688jagiQqhLW",
        "colab_type": "code",
        "colab": {}
      },
      "source": [
        "# This is from the sklearn docs\n",
        "# https://scikit-learn.org/0.18/auto_examples/model_selection/plot_confusion_matrix.html\n",
        "def plot_confusion_matrix(cm, classes,\n",
        "                          normalize=False,\n",
        "                          title='Confusion matrix',\n",
        "                          cmap=plt.cm.Blues):\n",
        "    \"\"\"\n",
        "    This function prints and plots the confusion matrix.\n",
        "    Normalization can be applied by setting `normalize=True`.\n",
        "    \"\"\"\n",
        "    plt.imshow(cm, interpolation='nearest', cmap=cmap)\n",
        "    plt.title(title)\n",
        "    plt.colorbar()\n",
        "    tick_marks = np.arange(len(classes))\n",
        "    plt.xticks(tick_marks, classes, rotation=45)\n",
        "    plt.yticks(tick_marks, classes)\n",
        "\n",
        "    if normalize:\n",
        "        cm = np.round(cm.astype('float') / cm.sum(axis=1)[:, np.newaxis], 3)\n",
        "\n",
        "    thresh = cm.max() / 2.\n",
        "    for i, j in itertools.product(range(cm.shape[0]), range(cm.shape[1])):\n",
        "        plt.text(j, i, cm[i, j],\n",
        "                 horizontalalignment=\"center\",\n",
        "                 color=\"white\" if cm[i, j] > thresh else \"black\")\n",
        "\n",
        "    plt.tight_layout()\n",
        "    plt.ylabel('True label')\n",
        "    plt.xlabel('Predicted label')"
      ],
      "execution_count": 0,
      "outputs": []
    },
    {
      "cell_type": "code",
      "metadata": {
        "id": "03cAxFElqhxL",
        "colab_type": "code",
        "colab": {
          "base_uri": "https://localhost:8080/",
          "height": 311
        },
        "outputId": "520be4db-5382-4272-8bf9-689af83d5072"
      },
      "source": [
        "# With downsampling, our model's accuracy on fraud is almost as good as non-fraud examples\n",
        "# You can compare this by training a model on the full dataset if you'd like (it'll take a long time to train given the size)\n",
        "classes = ['not fraud', 'fraud']\n",
        "plot_confusion_matrix(cm, classes, normalize=True)"
      ],
      "execution_count": 15,
      "outputs": [
        {
          "output_type": "display_data",
          "data": {
            "image/png": "[encoded data removed]",
            "text/plain": [
              "<Figure size 432x288 with 2 Axes>"
            ]
          },
          "metadata": {
            "tags": [],
            "needs_background": "light"
          }
        }
      ]
    },
    {
      "cell_type": "markdown",
      "metadata": {
        "id": "d6uGXlc8vpYw",
        "colab_type": "text"
      },
      "source": [
        "#### Weighted classes and output bias\n",
        "To demonstrate weighted classes, we'll use a different fraud detection dataset in BigQuery. This one has far fewer minority class examples than the one used in the example above."
      ]
    },
    {
      "cell_type": "code",
      "metadata": {
        "id": "gpVf0hJITM0G",
        "colab_type": "code",
        "colab": {}
      },
      "source": [
        "# To access BigQuery, you'll need to authenticate to your Cloud account\n",
        "from google.colab import auth\n",
        "auth.authenticate_user()"
      ],
      "execution_count": 0,
      "outputs": []
    },
    {
      "cell_type": "markdown",
      "metadata": {
        "id": "GxPRFYscybVP",
        "colab_type": "text"
      },
      "source": [
        "We'll take all of the fraud examples from this dataset, and a subset of non-fraud. Then we'll shuffle and combine and look at the number of examples we have for each class."
      ]
    },
    {
      "cell_type": "code",
      "metadata": {
        "id": "NZ_K-m0fLUez",
        "colab_type": "code",
        "colab": {}
      },
      "source": [
        "%%bigquery fraud_df --project sara-cloud-ml\n",
        "SELECT\n",
        "  *\n",
        "FROM\n",
        "  `bigquery-public-data.ml_datasets.ulb_fraud_detection`\n",
        "WHERE Class = 1"
      ],
      "execution_count": 0,
      "outputs": []
    },
    {
      "cell_type": "code",
      "metadata": {
        "id": "Xb4NF_2NwIld",
        "colab_type": "code",
        "colab": {}
      },
      "source": [
        "# This query will take a a minute to run\n",
        "%%bigquery nonfraud_df --project sara-cloud-ml\n",
        "SELECT\n",
        "  *\n",
        "FROM\n",
        "  `bigquery-public-data.ml_datasets.ulb_fraud_detection`\n",
        "WHERE Class = 0\n",
        "AND RAND() < 0.05"
      ],
      "execution_count": 0,
      "outputs": []
    },
    {
      "cell_type": "code",
      "metadata": {
        "id": "Knqk6iC7w5pb",
        "colab_type": "code",
        "colab": {
          "base_uri": "https://localhost:8080/",
          "height": 439
        },
        "outputId": "4e56c061-50c3-4764-c91b-e673456e4e4b"
      },
      "source": [
        "bq_fraud_data = pd.concat([fraud_df, nonfraud_df])\n",
        "bq_fraud_data.sort_values(by=['Time'])\n",
        "# bq_fraud_data = shuffle(bq_fraud_data, random_state=22)"
      ],
      "execution_count": 19,
      "outputs": [
        {
          "output_type": "execute_result",
          "data": {
            "text/html": [
              "<div>\n",
              "<style scoped>\n",
              "    .dataframe tbody tr th:only-of-type {\n",
              "        vertical-align: middle;\n",
              "    }\n",
              "\n",
              "    .dataframe tbody tr th {\n",
              "        vertical-align: top;\n",
              "    }\n",
              "\n",
              "    .dataframe thead th {\n",
              "        text-align: right;\n",
              "    }\n",
              "</style>\n",
              "<table border=\"1\" class=\"dataframe\">\n",
              "  <thead>\n",
              "    <tr style=\"text-align: right;\">\n",
              "      <th></th>\n",
              "      <th>Time</th>\n",
              "      <th>V1</th>\n",
              "      <th>V2</th>\n",
              "      <th>V3</th>\n",
              "      <th>V4</th>\n",
              "      <th>V5</th>\n",
              "      <th>V6</th>\n",
              "      <th>V7</th>\n",
              "      <th>V8</th>\n",
              "      <th>V9</th>\n",
              "      <th>V10</th>\n",
              "      <th>V11</th>\n",
              "      <th>V12</th>\n",
              "      <th>V13</th>\n",
              "      <th>V14</th>\n",
              "      <th>V15</th>\n",
              "      <th>V16</th>\n",
              "      <th>V17</th>\n",
              "      <th>V18</th>\n",
              "      <th>V19</th>\n",
              "      <th>V20</th>\n",
              "      <th>V21</th>\n",
              "      <th>V22</th>\n",
              "      <th>V23</th>\n",
              "      <th>V24</th>\n",
              "      <th>V25</th>\n",
              "      <th>V26</th>\n",
              "      <th>V27</th>\n",
              "      <th>V28</th>\n",
              "      <th>Amount</th>\n",
              "      <th>Class</th>\n",
              "    </tr>\n",
              "  </thead>\n",
              "  <tbody>\n",
              "    <tr>\n",
              "      <th>13869</th>\n",
              "      <td>4.0</td>\n",
              "      <td>1.229658</td>\n",
              "      <td>0.141004</td>\n",
              "      <td>0.045371</td>\n",
              "      <td>1.202613</td>\n",
              "      <td>0.191881</td>\n",
              "      <td>0.272708</td>\n",
              "      <td>-0.005159</td>\n",
              "      <td>0.081213</td>\n",
              "      <td>0.464960</td>\n",
              "      <td>-0.099254</td>\n",
              "      <td>-1.416907</td>\n",
              "      <td>-0.153826</td>\n",
              "      <td>-0.751063</td>\n",
              "      <td>0.167372</td>\n",
              "      <td>0.050144</td>\n",
              "      <td>-0.443587</td>\n",
              "      <td>0.002821</td>\n",
              "      <td>-0.611987</td>\n",
              "      <td>-0.045575</td>\n",
              "      <td>-0.219633</td>\n",
              "      <td>-0.167716</td>\n",
              "      <td>-0.270710</td>\n",
              "      <td>-0.154104</td>\n",
              "      <td>-0.780055</td>\n",
              "      <td>0.750137</td>\n",
              "      <td>-0.257237</td>\n",
              "      <td>0.034507</td>\n",
              "      <td>0.005168</td>\n",
              "      <td>4.99</td>\n",
              "      <td>0</td>\n",
              "    </tr>\n",
              "    <tr>\n",
              "      <th>3098</th>\n",
              "      <td>11.0</td>\n",
              "      <td>1.069374</td>\n",
              "      <td>0.287722</td>\n",
              "      <td>0.828613</td>\n",
              "      <td>2.712520</td>\n",
              "      <td>-0.178398</td>\n",
              "      <td>0.337544</td>\n",
              "      <td>-0.096717</td>\n",
              "      <td>0.115982</td>\n",
              "      <td>-0.221083</td>\n",
              "      <td>0.460230</td>\n",
              "      <td>-0.773657</td>\n",
              "      <td>0.323387</td>\n",
              "      <td>-0.011076</td>\n",
              "      <td>-0.178485</td>\n",
              "      <td>-0.655564</td>\n",
              "      <td>-0.199925</td>\n",
              "      <td>0.124005</td>\n",
              "      <td>-0.980496</td>\n",
              "      <td>-0.982916</td>\n",
              "      <td>-0.153197</td>\n",
              "      <td>-0.036876</td>\n",
              "      <td>0.074412</td>\n",
              "      <td>-0.071407</td>\n",
              "      <td>0.104744</td>\n",
              "      <td>0.548265</td>\n",
              "      <td>0.104094</td>\n",
              "      <td>0.021491</td>\n",
              "      <td>0.021293</td>\n",
              "      <td>27.50</td>\n",
              "      <td>0</td>\n",
              "    </tr>\n",
              "    <tr>\n",
              "      <th>7017</th>\n",
              "      <td>41.0</td>\n",
              "      <td>1.138759</td>\n",
              "      <td>-1.192953</td>\n",
              "      <td>1.407131</td>\n",
              "      <td>-0.330070</td>\n",
              "      <td>-2.069503</td>\n",
              "      <td>-0.242175</td>\n",
              "      <td>-1.306635</td>\n",
              "      <td>0.104510</td>\n",
              "      <td>0.134628</td>\n",
              "      <td>0.493931</td>\n",
              "      <td>-0.895188</td>\n",
              "      <td>-0.182695</td>\n",
              "      <td>0.146081</td>\n",
              "      <td>-0.586611</td>\n",
              "      <td>0.797189</td>\n",
              "      <td>-0.891721</td>\n",
              "      <td>-0.079208</td>\n",
              "      <td>1.541588</td>\n",
              "      <td>-0.983586</td>\n",
              "      <td>-0.299307</td>\n",
              "      <td>-0.156198</td>\n",
              "      <td>-0.030569</td>\n",
              "      <td>-0.019723</td>\n",
              "      <td>0.433753</td>\n",
              "      <td>-0.029521</td>\n",
              "      <td>1.141241</td>\n",
              "      <td>-0.008612</td>\n",
              "      <td>0.041564</td>\n",
              "      <td>96.94</td>\n",
              "      <td>0</td>\n",
              "    </tr>\n",
              "    <tr>\n",
              "      <th>7868</th>\n",
              "      <td>41.0</td>\n",
              "      <td>1.145524</td>\n",
              "      <td>0.575068</td>\n",
              "      <td>0.194008</td>\n",
              "      <td>2.598192</td>\n",
              "      <td>-0.092210</td>\n",
              "      <td>-1.044430</td>\n",
              "      <td>0.531588</td>\n",
              "      <td>-0.241888</td>\n",
              "      <td>-0.896287</td>\n",
              "      <td>0.757952</td>\n",
              "      <td>-0.448937</td>\n",
              "      <td>-0.660863</td>\n",
              "      <td>-1.308522</td>\n",
              "      <td>0.788864</td>\n",
              "      <td>0.320294</td>\n",
              "      <td>0.295404</td>\n",
              "      <td>-0.287878</td>\n",
              "      <td>-0.451453</td>\n",
              "      <td>-1.011446</td>\n",
              "      <td>-0.191050</td>\n",
              "      <td>0.011106</td>\n",
              "      <td>-0.119703</td>\n",
              "      <td>-0.076510</td>\n",
              "      <td>0.691320</td>\n",
              "      <td>0.633984</td>\n",
              "      <td>0.048741</td>\n",
              "      <td>-0.053192</td>\n",
              "      <td>0.016251</td>\n",
              "      <td>34.13</td>\n",
              "      <td>0</td>\n",
              "    </tr>\n",
              "    <tr>\n",
              "      <th>4856</th>\n",
              "      <td>49.0</td>\n",
              "      <td>-0.549626</td>\n",
              "      <td>0.418949</td>\n",
              "      <td>1.729833</td>\n",
              "      <td>0.203065</td>\n",
              "      <td>-0.187012</td>\n",
              "      <td>0.253878</td>\n",
              "      <td>0.500894</td>\n",
              "      <td>0.251256</td>\n",
              "      <td>-0.227985</td>\n",
              "      <td>-0.576169</td>\n",
              "      <td>1.102032</td>\n",
              "      <td>0.823708</td>\n",
              "      <td>-0.569510</td>\n",
              "      <td>0.008710</td>\n",
              "      <td>-1.041414</td>\n",
              "      <td>-0.603403</td>\n",
              "      <td>0.225484</td>\n",
              "      <td>-0.352133</td>\n",
              "      <td>0.194946</td>\n",
              "      <td>0.016970</td>\n",
              "      <td>0.115062</td>\n",
              "      <td>0.418529</td>\n",
              "      <td>-0.065133</td>\n",
              "      <td>0.264981</td>\n",
              "      <td>0.003958</td>\n",
              "      <td>0.395969</td>\n",
              "      <td>0.027182</td>\n",
              "      <td>0.043506</td>\n",
              "      <td>59.99</td>\n",
              "      <td>0</td>\n",
              "    </tr>\n",
              "    <tr>\n",
              "      <th>...</th>\n",
              "      <td>...</td>\n",
              "      <td>...</td>\n",
              "      <td>...</td>\n",
              "      <td>...</td>\n",
              "      <td>...</td>\n",
              "      <td>...</td>\n",
              "      <td>...</td>\n",
              "      <td>...</td>\n",
              "      <td>...</td>\n",
              "      <td>...</td>\n",
              "      <td>...</td>\n",
              "      <td>...</td>\n",
              "      <td>...</td>\n",
              "      <td>...</td>\n",
              "      <td>...</td>\n",
              "      <td>...</td>\n",
              "      <td>...</td>\n",
              "      <td>...</td>\n",
              "      <td>...</td>\n",
              "      <td>...</td>\n",
              "      <td>...</td>\n",
              "      <td>...</td>\n",
              "      <td>...</td>\n",
              "      <td>...</td>\n",
              "      <td>...</td>\n",
              "      <td>...</td>\n",
              "      <td>...</td>\n",
              "      <td>...</td>\n",
              "      <td>...</td>\n",
              "      <td>...</td>\n",
              "      <td>...</td>\n",
              "    </tr>\n",
              "    <tr>\n",
              "      <th>12815</th>\n",
              "      <td>172670.0</td>\n",
              "      <td>1.939795</td>\n",
              "      <td>-0.969791</td>\n",
              "      <td>-0.587017</td>\n",
              "      <td>-1.309403</td>\n",
              "      <td>-1.126185</td>\n",
              "      <td>-0.986735</td>\n",
              "      <td>-0.619530</td>\n",
              "      <td>-0.143709</td>\n",
              "      <td>2.387882</td>\n",
              "      <td>-0.995528</td>\n",
              "      <td>-0.736618</td>\n",
              "      <td>0.788915</td>\n",
              "      <td>0.061652</td>\n",
              "      <td>-0.149521</td>\n",
              "      <td>1.089282</td>\n",
              "      <td>-0.542341</td>\n",
              "      <td>-0.197894</td>\n",
              "      <td>0.215365</td>\n",
              "      <td>0.480936</td>\n",
              "      <td>-0.094239</td>\n",
              "      <td>0.285527</td>\n",
              "      <td>1.056616</td>\n",
              "      <td>0.023114</td>\n",
              "      <td>0.058599</td>\n",
              "      <td>-0.057562</td>\n",
              "      <td>-0.066172</td>\n",
              "      <td>0.031900</td>\n",
              "      <td>-0.035789</td>\n",
              "      <td>59.85</td>\n",
              "      <td>0</td>\n",
              "    </tr>\n",
              "    <tr>\n",
              "      <th>7239</th>\n",
              "      <td>172694.0</td>\n",
              "      <td>-0.816768</td>\n",
              "      <td>1.295381</td>\n",
              "      <td>-1.336395</td>\n",
              "      <td>-0.290017</td>\n",
              "      <td>0.877028</td>\n",
              "      <td>-0.639750</td>\n",
              "      <td>1.637290</td>\n",
              "      <td>0.031620</td>\n",
              "      <td>-1.334510</td>\n",
              "      <td>-1.075689</td>\n",
              "      <td>1.065118</td>\n",
              "      <td>0.716362</td>\n",
              "      <td>0.380555</td>\n",
              "      <td>-0.420083</td>\n",
              "      <td>-1.088048</td>\n",
              "      <td>-0.121209</td>\n",
              "      <td>0.858278</td>\n",
              "      <td>0.500646</td>\n",
              "      <td>0.601820</td>\n",
              "      <td>-0.052537</td>\n",
              "      <td>0.240530</td>\n",
              "      <td>0.615241</td>\n",
              "      <td>-0.269590</td>\n",
              "      <td>0.767657</td>\n",
              "      <td>0.139596</td>\n",
              "      <td>0.669905</td>\n",
              "      <td>-0.139549</td>\n",
              "      <td>0.060390</td>\n",
              "      <td>127.69</td>\n",
              "      <td>0</td>\n",
              "    </tr>\n",
              "    <tr>\n",
              "      <th>2852</th>\n",
              "      <td>172721.0</td>\n",
              "      <td>-0.947373</td>\n",
              "      <td>-0.059861</td>\n",
              "      <td>1.537605</td>\n",
              "      <td>0.117118</td>\n",
              "      <td>-0.315440</td>\n",
              "      <td>0.505595</td>\n",
              "      <td>0.342234</td>\n",
              "      <td>0.244829</td>\n",
              "      <td>-1.557720</td>\n",
              "      <td>0.613320</td>\n",
              "      <td>0.031953</td>\n",
              "      <td>-0.341449</td>\n",
              "      <td>-0.500256</td>\n",
              "      <td>0.216078</td>\n",
              "      <td>0.003889</td>\n",
              "      <td>-1.537024</td>\n",
              "      <td>-0.208283</td>\n",
              "      <td>2.281660</td>\n",
              "      <td>0.194544</td>\n",
              "      <td>0.086385</td>\n",
              "      <td>-0.239290</td>\n",
              "      <td>-0.367110</td>\n",
              "      <td>-0.034898</td>\n",
              "      <td>-0.561550</td>\n",
              "      <td>0.591367</td>\n",
              "      <td>-0.340983</td>\n",
              "      <td>0.310727</td>\n",
              "      <td>0.140940</td>\n",
              "      <td>138.00</td>\n",
              "      <td>0</td>\n",
              "    </tr>\n",
              "    <tr>\n",
              "      <th>8938</th>\n",
              "      <td>172744.0</td>\n",
              "      <td>-0.954967</td>\n",
              "      <td>1.114359</td>\n",
              "      <td>1.780434</td>\n",
              "      <td>-0.361532</td>\n",
              "      <td>-0.407570</td>\n",
              "      <td>-0.406413</td>\n",
              "      <td>0.210387</td>\n",
              "      <td>0.429851</td>\n",
              "      <td>-0.173493</td>\n",
              "      <td>-1.269369</td>\n",
              "      <td>-0.960160</td>\n",
              "      <td>0.459340</td>\n",
              "      <td>0.586295</td>\n",
              "      <td>0.101810</td>\n",
              "      <td>0.578975</td>\n",
              "      <td>0.046778</td>\n",
              "      <td>-0.214283</td>\n",
              "      <td>-0.004449</td>\n",
              "      <td>0.429980</td>\n",
              "      <td>-0.086966</td>\n",
              "      <td>-0.127048</td>\n",
              "      <td>-0.424787</td>\n",
              "      <td>-0.204041</td>\n",
              "      <td>0.025486</td>\n",
              "      <td>0.345074</td>\n",
              "      <td>-0.418458</td>\n",
              "      <td>-0.046577</td>\n",
              "      <td>0.014827</td>\n",
              "      <td>9.99</td>\n",
              "      <td>0</td>\n",
              "    </tr>\n",
              "    <tr>\n",
              "      <th>1399</th>\n",
              "      <td>172768.0</td>\n",
              "      <td>-0.669662</td>\n",
              "      <td>0.923769</td>\n",
              "      <td>-1.543167</td>\n",
              "      <td>-1.560729</td>\n",
              "      <td>2.833960</td>\n",
              "      <td>3.240843</td>\n",
              "      <td>0.181576</td>\n",
              "      <td>1.282746</td>\n",
              "      <td>-0.893890</td>\n",
              "      <td>-1.453432</td>\n",
              "      <td>0.187488</td>\n",
              "      <td>-0.390794</td>\n",
              "      <td>-0.289171</td>\n",
              "      <td>-0.510320</td>\n",
              "      <td>0.955637</td>\n",
              "      <td>0.553781</td>\n",
              "      <td>0.567862</td>\n",
              "      <td>0.409517</td>\n",
              "      <td>-0.671301</td>\n",
              "      <td>0.000965</td>\n",
              "      <td>0.183856</td>\n",
              "      <td>0.202670</td>\n",
              "      <td>-0.373023</td>\n",
              "      <td>0.651122</td>\n",
              "      <td>1.073823</td>\n",
              "      <td>0.844590</td>\n",
              "      <td>-0.286676</td>\n",
              "      <td>-0.187719</td>\n",
              "      <td>40.00</td>\n",
              "      <td>0</td>\n",
              "    </tr>\n",
              "  </tbody>\n",
              "</table>\n",
              "<p>14680 rows × 31 columns</p>\n",
              "</div>"
            ],
            "text/plain": [
              "           Time        V1        V2  ...       V28  Amount  Class\n",
              "13869       4.0  1.229658  0.141004  ...  0.005168    4.99      0\n",
              "3098       11.0  1.069374  0.287722  ...  0.021293   27.50      0\n",
              "7017       41.0  1.138759 -1.192953  ...  0.041564   96.94      0\n",
              "7868       41.0  1.145524  0.575068  ...  0.016251   34.13      0\n",
              "4856       49.0 -0.549626  0.418949  ...  0.043506   59.99      0\n",
              "...         ...       ...       ...  ...       ...     ...    ...\n",
              "12815  172670.0  1.939795 -0.969791  ... -0.035789   59.85      0\n",
              "7239   172694.0 -0.816768  1.295381  ...  0.060390  127.69      0\n",
              "2852   172721.0 -0.947373 -0.059861  ...  0.140940  138.00      0\n",
              "8938   172744.0 -0.954967  1.114359  ...  0.014827    9.99      0\n",
              "1399   172768.0 -0.669662  0.923769  ... -0.187719   40.00      0\n",
              "\n",
              "[14680 rows x 31 columns]"
            ]
          },
          "metadata": {
            "tags": []
          },
          "execution_count": 19
        }
      ]
    },
    {
      "cell_type": "code",
      "metadata": {
        "id": "rqMt8d_h1OjX",
        "colab_type": "code",
        "colab": {}
      },
      "source": [
        "# Scale time and amount values\n",
        "time_scaler = MinMaxScaler()\n",
        "amt_scaler = MinMaxScaler()\n",
        "\n",
        "bq_fraud_data['Time'] = time_scaler.fit_transform(bq_fraud_data['Time'].values.reshape(-1,1))\n",
        "bq_fraud_data['Amount'] = amt_scaler.fit_transform(bq_fraud_data['Amount'].values.reshape(-1,1))"
      ],
      "execution_count": 0,
      "outputs": []
    },
    {
      "cell_type": "code",
      "metadata": {
        "id": "CfYUpOoRzEG-",
        "colab_type": "code",
        "colab": {
          "base_uri": "https://localhost:8080/",
          "height": 68
        },
        "outputId": "22f5fbb0-d09e-4542-9280-3abc4734f94d"
      },
      "source": [
        "# See data balance\n",
        "bq_fraud_data['Class'].value_counts()"
      ],
      "execution_count": 21,
      "outputs": [
        {
          "output_type": "execute_result",
          "data": {
            "text/plain": [
              "0    14188\n",
              "1      492\n",
              "Name: Class, dtype: int64"
            ]
          },
          "metadata": {
            "tags": []
          },
          "execution_count": 21
        }
      ]
    },
    {
      "cell_type": "code",
      "metadata": {
        "id": "1PlJtk_wxHZZ",
        "colab_type": "code",
        "colab": {}
      },
      "source": [
        "train_test_split = int(len(bq_fraud_data) * .8)\n",
        "\n",
        "train_data = bq_fraud_data[:train_test_split]\n",
        "test_data = bq_fraud_data[train_test_split:]\n",
        "\n",
        "train_labels = train_data.pop('Class')\n",
        "test_labels = test_data.pop('Class')"
      ],
      "execution_count": 0,
      "outputs": []
    },
    {
      "cell_type": "code",
      "metadata": {
        "id": "ZjRK6XsiGmtX",
        "colab_type": "code",
        "colab": {}
      },
      "source": [
        "# Create a tf dataset\n",
        "train_dataset = tf.data.Dataset.from_tensor_slices((train_data.values, train_labels))\n",
        "train_dataset = train_dataset.shuffle(len(train_data)).batch(1024)\n",
        "\n",
        "test_dataset = tf.data.Dataset.from_tensor_slices((test_data.values, test_labels))\n",
        "test_dataset = test_dataset.shuffle(len(test_data)).batch(1)"
      ],
      "execution_count": 0,
      "outputs": []
    },
    {
      "cell_type": "markdown",
      "metadata": {
        "id": "O45AF1OY5zSH",
        "colab_type": "text"
      },
      "source": [
        "Now let's try with weighted classes and add a bias initializer to our output layer. First, calculate the class weights."
      ]
    },
    {
      "cell_type": "code",
      "metadata": {
        "id": "zGwni9mvze_w",
        "colab_type": "code",
        "colab": {}
      },
      "source": [
        "# Get number of examples for each class from the training set\n",
        "num_minority = train_labels.value_counts()[1]\n",
        "num_majority = train_labels.value_counts()[0]"
      ],
      "execution_count": 0,
      "outputs": []
    },
    {
      "cell_type": "code",
      "metadata": {
        "id": "86nzMWSo52v8",
        "colab_type": "code",
        "colab": {
          "base_uri": "https://localhost:8080/",
          "height": 51
        },
        "outputId": "0b0505ea-ac5b-47cc-d178-d24be3708ff4"
      },
      "source": [
        "minority_class_weight = 1 / (num_minority / len(train_data)) / 2\n",
        "majority_class_weight = 1 / (num_majority / len(train_data)) / 2\n",
        "\n",
        "# Pass the weights to Keras in a dict\n",
        "# The key is the index of each class\n",
        "keras_class_weights = {0: majority_class_weight, 1: minority_class_weight}\n",
        "print(keras_class_weights)\n",
        "\n",
        "# Calculate output bias\n",
        "output_bias = math.log(num_minority / num_majority)\n",
        "print(output_bias)"
      ],
      "execution_count": 25,
      "outputs": [
        {
          "output_type": "stream",
          "text": [
            "{0: 0.5218627799502311, 1: 11.934959349593496}\n",
            "-3.1298224531174395\n"
          ],
          "name": "stdout"
        }
      ]
    },
    {
      "cell_type": "code",
      "metadata": {
        "id": "4jx8DvQzCLVh",
        "colab_type": "code",
        "colab": {}
      },
      "source": [
        "fraud_model = keras.Sequential([\n",
        "    keras.layers.Dense(16, input_shape=(len(train_data.iloc[0]),), activation='relu'),\n",
        "    keras.layers.Dropout(0.25),\n",
        "    keras.layers.Dense(16, activation='relu'),\n",
        "    keras.layers.Dense(1, activation='sigmoid', bias_initializer=tf.keras.initializers.Constant(output_bias))\n",
        "])"
      ],
      "execution_count": 0,
      "outputs": []
    },
    {
      "cell_type": "code",
      "metadata": {
        "id": "Im0x0p8BkME9",
        "colab_type": "code",
        "colab": {}
      },
      "source": [
        "metrics = [\n",
        "      tf.keras.metrics.BinaryAccuracy(name='accuracy'),\n",
        "      tf.keras.metrics.Precision(name='precision'),\n",
        "      tf.keras.metrics.Recall(name='recall'),\n",
        "      tf.keras.metrics.AUC(name='roc_auc'),\n",
        "]"
      ],
      "execution_count": 0,
      "outputs": []
    },
    {
      "cell_type": "code",
      "metadata": {
        "id": "qO1kTv5gCoa8",
        "colab_type": "code",
        "colab": {}
      },
      "source": [
        "fraud_model.compile(loss='binary_crossentropy', optimizer='adam', metrics=metrics)"
      ],
      "execution_count": 0,
      "outputs": []
    },
    {
      "cell_type": "code",
      "metadata": {
        "id": "XV9Rtxka52zN",
        "colab_type": "code",
        "colab": {}
      },
      "source": [
        "fraud_model.fit(train_dataset, validation_data=test_dataset, epochs=10, class_weight=keras_class_weights)"
      ],
      "execution_count": 0,
      "outputs": []
    },
    {
      "cell_type": "markdown",
      "metadata": {
        "id": "QtJZSoE_pzzr",
        "colab_type": "text"
      },
      "source": [
        "#### Reframing: using cluster distance as a prediction signal\n",
        "\n",
        "In this approach, train a clustering model and use the distance of new examples from clusters to detect anomalies. We'll train a kmeans model on the natality dataset to demonstrate this."
      ]
    },
    {
      "cell_type": "code",
      "metadata": {
        "id": "VjVdxkGRqFYX",
        "colab_type": "code",
        "colab": {
          "base_uri": "https://localhost:8080/",
          "height": 32
        },
        "outputId": "fe208201-fd72-4a85-f816-2945f7b08e8b"
      },
      "source": [
        "# This will take about a minute to run \n",
        "%%bigquery --project sara-cloud-ml\n",
        "CREATE OR REPLACE MODEL\n",
        "  `sara-cloud-ml.natality.baby_weight_clusters` OPTIONS(model_type='kmeans',\n",
        "    num_clusters=4) AS\n",
        "SELECT\n",
        "  weight_pounds,\n",
        "  mother_age,\n",
        "  gestation_weeks\n",
        "FROM\n",
        "  `bigquery-public-data.samples.natality`\n",
        "LIMIT 10000"
      ],
      "execution_count": 124,
      "outputs": [
        {
          "output_type": "execute_result",
          "data": {
            "text/html": [
              "<div>\n",
              "<style scoped>\n",
              "    .dataframe tbody tr th:only-of-type {\n",
              "        vertical-align: middle;\n",
              "    }\n",
              "\n",
              "    .dataframe tbody tr th {\n",
              "        vertical-align: top;\n",
              "    }\n",
              "\n",
              "    .dataframe thead th {\n",
              "        text-align: right;\n",
              "    }\n",
              "</style>\n",
              "<table border=\"1\" class=\"dataframe\">\n",
              "  <thead>\n",
              "    <tr style=\"text-align: right;\">\n",
              "      <th></th>\n",
              "    </tr>\n",
              "  </thead>\n",
              "  <tbody>\n",
              "  </tbody>\n",
              "</table>\n",
              "</div>"
            ],
            "text/plain": [
              "Empty DataFrame\n",
              "Columns: []\n",
              "Index: []"
            ]
          },
          "metadata": {
            "tags": []
          },
          "execution_count": 124
        }
      ]
    },
    {
      "cell_type": "markdown",
      "metadata": {
        "id": "l0Rl8S5Hskh3",
        "colab_type": "text"
      },
      "source": [
        "First, let's look at the cluster prediction results for an \"average\" example from our dataset."
      ]
    },
    {
      "cell_type": "code",
      "metadata": {
        "id": "kMKEiKwEscw4",
        "colab_type": "code",
        "colab": {}
      },
      "source": [
        "%%bigquery average_pred --project sara-cloud-ml\n",
        "SELECT\n",
        "  *\n",
        "FROM\n",
        "  ML.PREDICT (MODEL `sara-cloud-ml.natality.baby_weight_clusters`,\n",
        "    (\n",
        "    SELECT\n",
        "      7.0 as weight_pounds,\n",
        "      28 as mother_age,\n",
        "      40 as gestation_weeks \n",
        "     )\n",
        "  )"
      ],
      "execution_count": 0,
      "outputs": []
    },
    {
      "cell_type": "code",
      "metadata": {
        "id": "ysXdWdXbtLzg",
        "colab_type": "code",
        "colab": {
          "base_uri": "https://localhost:8080/",
          "height": 80
        },
        "outputId": "7ba806c7-8914-4ad9-c34e-fe2a4b9fc0ef"
      },
      "source": [
        "average_pred"
      ],
      "execution_count": 136,
      "outputs": [
        {
          "output_type": "execute_result",
          "data": {
            "text/html": [
              "<div>\n",
              "<style scoped>\n",
              "    .dataframe tbody tr th:only-of-type {\n",
              "        vertical-align: middle;\n",
              "    }\n",
              "\n",
              "    .dataframe tbody tr th {\n",
              "        vertical-align: top;\n",
              "    }\n",
              "\n",
              "    .dataframe thead th {\n",
              "        text-align: right;\n",
              "    }\n",
              "</style>\n",
              "<table border=\"1\" class=\"dataframe\">\n",
              "  <thead>\n",
              "    <tr style=\"text-align: right;\">\n",
              "      <th></th>\n",
              "      <th>CENTROID_ID</th>\n",
              "      <th>NEAREST_CENTROIDS_DISTANCE</th>\n",
              "      <th>weight_pounds</th>\n",
              "      <th>mother_age</th>\n",
              "      <th>gestation_weeks</th>\n",
              "    </tr>\n",
              "  </thead>\n",
              "  <tbody>\n",
              "    <tr>\n",
              "      <th>0</th>\n",
              "      <td>1</td>\n",
              "      <td>[{'CENTROID_ID': 1, 'DISTANCE': 0.764157285801...</td>\n",
              "      <td>7.0</td>\n",
              "      <td>28</td>\n",
              "      <td>40</td>\n",
              "    </tr>\n",
              "  </tbody>\n",
              "</table>\n",
              "</div>"
            ],
            "text/plain": [
              "   CENTROID_ID  ... gestation_weeks\n",
              "0            1  ...              40\n",
              "\n",
              "[1 rows x 5 columns]"
            ]
          },
          "metadata": {
            "tags": []
          },
          "execution_count": 136
        }
      ]
    },
    {
      "cell_type": "markdown",
      "metadata": {
        "id": "qGAh1SJTtRzQ",
        "colab_type": "text"
      },
      "source": [
        "Here, it's fairly obvious that this datapoint should be put in cluster 1, given the short distance from that cluster."
      ]
    },
    {
      "cell_type": "code",
      "metadata": {
        "id": "AM6AMX8Os211",
        "colab_type": "code",
        "colab": {
          "base_uri": "https://localhost:8080/",
          "height": 85
        },
        "outputId": "424c0d8e-534c-48e7-ebee-83e29ddd0d01"
      },
      "source": [
        "# Print the resulting cluster distances\n",
        "df['NEAREST_CENTROIDS_DISTANCE'].iloc[0]"
      ],
      "execution_count": 133,
      "outputs": [
        {
          "output_type": "execute_result",
          "data": {
            "text/plain": [
              "[{'CENTROID_ID': 1, 'DISTANCE': 0.7641572858019843},\n",
              " {'CENTROID_ID': 3, 'DISTANCE': 1.8753318107958212},\n",
              " {'CENTROID_ID': 2, 'DISTANCE': 2.443585441159741},\n",
              " {'CENTROID_ID': 4, 'DISTANCE': 3.529034745170229}]"
            ]
          },
          "metadata": {
            "tags": []
          },
          "execution_count": 133
        }
      ]
    },
    {
      "cell_type": "markdown",
      "metadata": {
        "id": "e9H0ZdxTtYGs",
        "colab_type": "text"
      },
      "source": [
        "Let's compare this with a cluster prediction for an outlier baby weight."
      ]
    },
    {
      "cell_type": "code",
      "metadata": {
        "id": "nI5Cw4KFs97A",
        "colab_type": "code",
        "colab": {}
      },
      "source": [
        "%%bigquery outlier_pred --project sara-cloud-ml\n",
        "SELECT\n",
        "  *\n",
        "FROM\n",
        "  ML.PREDICT (MODEL `sara-cloud-ml.natality.baby_weight_clusters`,\n",
        "    (\n",
        "    SELECT\n",
        "      3.0 as weight_pounds,\n",
        "      20 as mother_age,\n",
        "      27 as gestation_weeks \n",
        "     )\n",
        "  )"
      ],
      "execution_count": 0,
      "outputs": []
    },
    {
      "cell_type": "code",
      "metadata": {
        "id": "FsCO01VftDCJ",
        "colab_type": "code",
        "colab": {
          "base_uri": "https://localhost:8080/",
          "height": 80
        },
        "outputId": "0d7f6054-b9cc-48d9-96cf-7f00a92428c4"
      },
      "source": [
        "outlier_pred"
      ],
      "execution_count": 138,
      "outputs": [
        {
          "output_type": "execute_result",
          "data": {
            "text/html": [
              "<div>\n",
              "<style scoped>\n",
              "    .dataframe tbody tr th:only-of-type {\n",
              "        vertical-align: middle;\n",
              "    }\n",
              "\n",
              "    .dataframe tbody tr th {\n",
              "        vertical-align: top;\n",
              "    }\n",
              "\n",
              "    .dataframe thead th {\n",
              "        text-align: right;\n",
              "    }\n",
              "</style>\n",
              "<table border=\"1\" class=\"dataframe\">\n",
              "  <thead>\n",
              "    <tr style=\"text-align: right;\">\n",
              "      <th></th>\n",
              "      <th>CENTROID_ID</th>\n",
              "      <th>NEAREST_CENTROIDS_DISTANCE</th>\n",
              "      <th>weight_pounds</th>\n",
              "      <th>mother_age</th>\n",
              "      <th>gestation_weeks</th>\n",
              "    </tr>\n",
              "  </thead>\n",
              "  <tbody>\n",
              "    <tr>\n",
              "      <th>0</th>\n",
              "      <td>3</td>\n",
              "      <td>[{'CENTROID_ID': 3, 'DISTANCE': 3.726026043962...</td>\n",
              "      <td>3.0</td>\n",
              "      <td>20</td>\n",
              "      <td>27</td>\n",
              "    </tr>\n",
              "  </tbody>\n",
              "</table>\n",
              "</div>"
            ],
            "text/plain": [
              "   CENTROID_ID  ... gestation_weeks\n",
              "0            3  ...              27\n",
              "\n",
              "[1 rows x 5 columns]"
            ]
          },
          "metadata": {
            "tags": []
          },
          "execution_count": 138
        }
      ]
    },
    {
      "cell_type": "markdown",
      "metadata": {
        "id": "xBrYP7F8toXo",
        "colab_type": "text"
      },
      "source": [
        "Here there's a high distance from each cluster, which we can use to conclude that this might be an anomaly."
      ]
    },
    {
      "cell_type": "code",
      "metadata": {
        "id": "bjZkP5AytjeB",
        "colab_type": "code",
        "colab": {
          "base_uri": "https://localhost:8080/",
          "height": 85
        },
        "outputId": "473fa579-16c3-4ca1-8886-781c4f44e17a"
      },
      "source": [
        "outlier_pred['NEAREST_CENTROIDS_DISTANCE'].iloc[0]"
      ],
      "execution_count": 139,
      "outputs": [
        {
          "output_type": "execute_result",
          "data": {
            "text/plain": [
              "[{'CENTROID_ID': 3, 'DISTANCE': 3.726026043962655},\n",
              " {'CENTROID_ID': 1, 'DISTANCE': 3.8571677726904228},\n",
              " {'CENTROID_ID': 2, 'DISTANCE': 5.277867231738564},\n",
              " {'CENTROID_ID': 4, 'DISTANCE': 5.719630555422304}]"
            ]
          },
          "metadata": {
            "tags": []
          },
          "execution_count": 139
        }
      ]
    },
    {
      "cell_type": "markdown",
      "metadata": {
        "id": "xgVC2XKCU6ys",
        "colab_type": "text"
      },
      "source": [
        "Copyright 2020 Google Inc. Licensed under the Apache License, Version 2.0 (the \"License\"); you may not use this file except in compliance with the License. You may obtain a copy of the License at http://www.apache.org/licenses/LICENSE-2.0 Unless required by applicable law or agreed to in writing, software distributed under the License is distributed on an \"AS IS\" BASIS, WITHOUT WARRANTIES OR CONDITIONS OF ANY KIND, either express or implied. See the License for the specific language governing permissions and limitations under the License"
      ]
    }
  ]
}